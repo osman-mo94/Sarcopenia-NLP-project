{
  "cells": [
    {
      "cell_type": "markdown",
      "metadata": {
        "id": "view-in-github",
        "colab_type": "text"
      },
      "source": [
        "<a href=\"https://colab.research.google.com/github/osman-mo94/Sarcopenia-NLP-project/blob/main/synthetic_letters.ipynb\" target=\"_parent\"><img src=\"https://colab.research.google.com/assets/colab-badge.svg\" alt=\"Open In Colab\"/></a>"
      ]
    },
    {
      "cell_type": "markdown",
      "metadata": {
        "id": "mdudadxqTgi1"
      },
      "source": [
        "# Install and import packages"
      ]
    },
    {
      "cell_type": "code",
      "execution_count": 1,
      "metadata": {
        "id": "dzBPQJaAz4_A",
        "colab": {
          "base_uri": "https://localhost:8080/"
        },
        "outputId": "203c1822-089b-410a-d756-e5a52459340b"
      },
      "outputs": [
        {
          "output_type": "stream",
          "name": "stdout",
          "text": [
            "Looking in indexes: https://pypi.org/simple, https://us-python.pkg.dev/colab-wheels/public/simple/\n",
            "Collecting docx2txt\n",
            "  Downloading docx2txt-0.8.tar.gz (2.8 kB)\n",
            "Building wheels for collected packages: docx2txt\n",
            "  Building wheel for docx2txt (setup.py) ... \u001b[?25l\u001b[?25hdone\n",
            "  Created wheel for docx2txt: filename=docx2txt-0.8-py3-none-any.whl size=3980 sha256=64eb13fd02818b038f0d6e4e6ff1ecb0a8307d665e976aa6ac14b16dcabb5cdd\n",
            "  Stored in directory: /root/.cache/pip/wheels/b7/20/b2/473e3aea9a0c0d3e7b2f7bd81d06d0794fec12752733d1f3a8\n",
            "Successfully built docx2txt\n",
            "Installing collected packages: docx2txt\n",
            "Successfully installed docx2txt-0.8\n"
          ]
        }
      ],
      "source": [
        "!pip install docx2txt"
      ]
    },
    {
      "cell_type": "code",
      "execution_count": 2,
      "metadata": {
        "id": "3M15Ry1rmsPt",
        "colab": {
          "base_uri": "https://localhost:8080/"
        },
        "outputId": "18ae1830-79fd-40ca-9592-33fa7e969c43"
      },
      "outputs": [
        {
          "output_type": "stream",
          "name": "stdout",
          "text": [
            "Looking in indexes: https://pypi.org/simple, https://us-python.pkg.dev/colab-wheels/public/simple/\n",
            "Requirement already satisfied: spacy in /usr/local/lib/python3.7/dist-packages (3.3.1)\n",
            "Requirement already satisfied: setuptools in /usr/local/lib/python3.7/dist-packages (from spacy) (57.4.0)\n",
            "Requirement already satisfied: pathy>=0.3.5 in /usr/local/lib/python3.7/dist-packages (from spacy) (0.6.2)\n",
            "Requirement already satisfied: typing-extensions<4.2.0,>=3.7.4 in /usr/local/lib/python3.7/dist-packages (from spacy) (4.1.1)\n",
            "Requirement already satisfied: catalogue<2.1.0,>=2.0.6 in /usr/local/lib/python3.7/dist-packages (from spacy) (2.0.7)\n",
            "Requirement already satisfied: tqdm<5.0.0,>=4.38.0 in /usr/local/lib/python3.7/dist-packages (from spacy) (4.64.0)\n",
            "Requirement already satisfied: preshed<3.1.0,>=3.0.2 in /usr/local/lib/python3.7/dist-packages (from spacy) (3.0.6)\n",
            "Requirement already satisfied: srsly<3.0.0,>=2.4.3 in /usr/local/lib/python3.7/dist-packages (from spacy) (2.4.3)\n",
            "Requirement already satisfied: requests<3.0.0,>=2.13.0 in /usr/local/lib/python3.7/dist-packages (from spacy) (2.23.0)\n",
            "Requirement already satisfied: murmurhash<1.1.0,>=0.28.0 in /usr/local/lib/python3.7/dist-packages (from spacy) (1.0.7)\n",
            "Requirement already satisfied: typer<0.5.0,>=0.3.0 in /usr/local/lib/python3.7/dist-packages (from spacy) (0.4.2)\n",
            "Requirement already satisfied: numpy>=1.15.0 in /usr/local/lib/python3.7/dist-packages (from spacy) (1.21.6)\n",
            "Requirement already satisfied: cymem<2.1.0,>=2.0.2 in /usr/local/lib/python3.7/dist-packages (from spacy) (2.0.6)\n",
            "Requirement already satisfied: packaging>=20.0 in /usr/local/lib/python3.7/dist-packages (from spacy) (21.3)\n",
            "Requirement already satisfied: thinc<8.1.0,>=8.0.14 in /usr/local/lib/python3.7/dist-packages (from spacy) (8.0.17)\n",
            "Requirement already satisfied: blis<0.8.0,>=0.4.0 in /usr/local/lib/python3.7/dist-packages (from spacy) (0.7.8)\n",
            "Requirement already satisfied: langcodes<4.0.0,>=3.2.0 in /usr/local/lib/python3.7/dist-packages (from spacy) (3.3.0)\n",
            "Requirement already satisfied: pydantic!=1.8,!=1.8.1,<1.9.0,>=1.7.4 in /usr/local/lib/python3.7/dist-packages (from spacy) (1.8.2)\n",
            "Requirement already satisfied: spacy-loggers<2.0.0,>=1.0.0 in /usr/local/lib/python3.7/dist-packages (from spacy) (1.0.2)\n",
            "Requirement already satisfied: jinja2 in /usr/local/lib/python3.7/dist-packages (from spacy) (2.11.3)\n",
            "Requirement already satisfied: wasabi<1.1.0,>=0.9.1 in /usr/local/lib/python3.7/dist-packages (from spacy) (0.9.1)\n",
            "Requirement already satisfied: spacy-legacy<3.1.0,>=3.0.9 in /usr/local/lib/python3.7/dist-packages (from spacy) (3.0.9)\n",
            "Requirement already satisfied: zipp>=0.5 in /usr/local/lib/python3.7/dist-packages (from catalogue<2.1.0,>=2.0.6->spacy) (3.8.0)\n",
            "Requirement already satisfied: pyparsing!=3.0.5,>=2.0.2 in /usr/local/lib/python3.7/dist-packages (from packaging>=20.0->spacy) (3.0.9)\n",
            "Requirement already satisfied: smart-open<6.0.0,>=5.2.1 in /usr/local/lib/python3.7/dist-packages (from pathy>=0.3.5->spacy) (5.2.1)\n",
            "Requirement already satisfied: certifi>=2017.4.17 in /usr/local/lib/python3.7/dist-packages (from requests<3.0.0,>=2.13.0->spacy) (2022.6.15)\n",
            "Requirement already satisfied: urllib3!=1.25.0,!=1.25.1,<1.26,>=1.21.1 in /usr/local/lib/python3.7/dist-packages (from requests<3.0.0,>=2.13.0->spacy) (1.24.3)\n",
            "Requirement already satisfied: idna<3,>=2.5 in /usr/local/lib/python3.7/dist-packages (from requests<3.0.0,>=2.13.0->spacy) (2.10)\n",
            "Requirement already satisfied: chardet<4,>=3.0.2 in /usr/local/lib/python3.7/dist-packages (from requests<3.0.0,>=2.13.0->spacy) (3.0.4)\n",
            "Requirement already satisfied: click<9.0.0,>=7.1.1 in /usr/local/lib/python3.7/dist-packages (from typer<0.5.0,>=0.3.0->spacy) (7.1.2)\n",
            "Requirement already satisfied: MarkupSafe>=0.23 in /usr/local/lib/python3.7/dist-packages (from jinja2->spacy) (2.0.1)\n"
          ]
        }
      ],
      "source": [
        "!pip install spacy\n"
      ]
    },
    {
      "cell_type": "code",
      "execution_count": 3,
      "metadata": {
        "id": "hXP0S6MBmxPV",
        "colab": {
          "base_uri": "https://localhost:8080/"
        },
        "outputId": "8e5e3bac-5dfb-486d-b67e-8b48c4b2f881"
      },
      "outputs": [
        {
          "output_type": "stream",
          "name": "stdout",
          "text": [
            "Looking in indexes: https://pypi.org/simple, https://us-python.pkg.dev/colab-wheels/public/simple/\n",
            "Collecting negspacy\n",
            "  Downloading negspacy-1.0.3.tar.gz (11 kB)\n",
            "Requirement already satisfied: spacy<4.0.0,>=3.0.1 in /usr/local/lib/python3.7/dist-packages (from negspacy) (3.3.1)\n",
            "Requirement already satisfied: requests<3.0.0,>=2.13.0 in /usr/local/lib/python3.7/dist-packages (from spacy<4.0.0,>=3.0.1->negspacy) (2.23.0)\n",
            "Requirement already satisfied: preshed<3.1.0,>=3.0.2 in /usr/local/lib/python3.7/dist-packages (from spacy<4.0.0,>=3.0.1->negspacy) (3.0.6)\n",
            "Requirement already satisfied: packaging>=20.0 in /usr/local/lib/python3.7/dist-packages (from spacy<4.0.0,>=3.0.1->negspacy) (21.3)\n",
            "Requirement already satisfied: srsly<3.0.0,>=2.4.3 in /usr/local/lib/python3.7/dist-packages (from spacy<4.0.0,>=3.0.1->negspacy) (2.4.3)\n",
            "Requirement already satisfied: catalogue<2.1.0,>=2.0.6 in /usr/local/lib/python3.7/dist-packages (from spacy<4.0.0,>=3.0.1->negspacy) (2.0.7)\n",
            "Requirement already satisfied: typing-extensions<4.2.0,>=3.7.4 in /usr/local/lib/python3.7/dist-packages (from spacy<4.0.0,>=3.0.1->negspacy) (4.1.1)\n",
            "Requirement already satisfied: spacy-legacy<3.1.0,>=3.0.9 in /usr/local/lib/python3.7/dist-packages (from spacy<4.0.0,>=3.0.1->negspacy) (3.0.9)\n",
            "Requirement already satisfied: cymem<2.1.0,>=2.0.2 in /usr/local/lib/python3.7/dist-packages (from spacy<4.0.0,>=3.0.1->negspacy) (2.0.6)\n",
            "Requirement already satisfied: pathy>=0.3.5 in /usr/local/lib/python3.7/dist-packages (from spacy<4.0.0,>=3.0.1->negspacy) (0.6.2)\n",
            "Requirement already satisfied: typer<0.5.0,>=0.3.0 in /usr/local/lib/python3.7/dist-packages (from spacy<4.0.0,>=3.0.1->negspacy) (0.4.2)\n",
            "Requirement already satisfied: thinc<8.1.0,>=8.0.14 in /usr/local/lib/python3.7/dist-packages (from spacy<4.0.0,>=3.0.1->negspacy) (8.0.17)\n",
            "Requirement already satisfied: jinja2 in /usr/local/lib/python3.7/dist-packages (from spacy<4.0.0,>=3.0.1->negspacy) (2.11.3)\n",
            "Requirement already satisfied: setuptools in /usr/local/lib/python3.7/dist-packages (from spacy<4.0.0,>=3.0.1->negspacy) (57.4.0)\n",
            "Requirement already satisfied: tqdm<5.0.0,>=4.38.0 in /usr/local/lib/python3.7/dist-packages (from spacy<4.0.0,>=3.0.1->negspacy) (4.64.0)\n",
            "Requirement already satisfied: spacy-loggers<2.0.0,>=1.0.0 in /usr/local/lib/python3.7/dist-packages (from spacy<4.0.0,>=3.0.1->negspacy) (1.0.2)\n",
            "Requirement already satisfied: langcodes<4.0.0,>=3.2.0 in /usr/local/lib/python3.7/dist-packages (from spacy<4.0.0,>=3.0.1->negspacy) (3.3.0)\n",
            "Requirement already satisfied: blis<0.8.0,>=0.4.0 in /usr/local/lib/python3.7/dist-packages (from spacy<4.0.0,>=3.0.1->negspacy) (0.7.8)\n",
            "Requirement already satisfied: wasabi<1.1.0,>=0.9.1 in /usr/local/lib/python3.7/dist-packages (from spacy<4.0.0,>=3.0.1->negspacy) (0.9.1)\n",
            "Requirement already satisfied: pydantic!=1.8,!=1.8.1,<1.9.0,>=1.7.4 in /usr/local/lib/python3.7/dist-packages (from spacy<4.0.0,>=3.0.1->negspacy) (1.8.2)\n",
            "Requirement already satisfied: murmurhash<1.1.0,>=0.28.0 in /usr/local/lib/python3.7/dist-packages (from spacy<4.0.0,>=3.0.1->negspacy) (1.0.7)\n",
            "Requirement already satisfied: numpy>=1.15.0 in /usr/local/lib/python3.7/dist-packages (from spacy<4.0.0,>=3.0.1->negspacy) (1.21.6)\n",
            "Requirement already satisfied: zipp>=0.5 in /usr/local/lib/python3.7/dist-packages (from catalogue<2.1.0,>=2.0.6->spacy<4.0.0,>=3.0.1->negspacy) (3.8.0)\n",
            "Requirement already satisfied: pyparsing!=3.0.5,>=2.0.2 in /usr/local/lib/python3.7/dist-packages (from packaging>=20.0->spacy<4.0.0,>=3.0.1->negspacy) (3.0.9)\n",
            "Requirement already satisfied: smart-open<6.0.0,>=5.2.1 in /usr/local/lib/python3.7/dist-packages (from pathy>=0.3.5->spacy<4.0.0,>=3.0.1->negspacy) (5.2.1)\n",
            "Requirement already satisfied: idna<3,>=2.5 in /usr/local/lib/python3.7/dist-packages (from requests<3.0.0,>=2.13.0->spacy<4.0.0,>=3.0.1->negspacy) (2.10)\n",
            "Requirement already satisfied: chardet<4,>=3.0.2 in /usr/local/lib/python3.7/dist-packages (from requests<3.0.0,>=2.13.0->spacy<4.0.0,>=3.0.1->negspacy) (3.0.4)\n",
            "Requirement already satisfied: urllib3!=1.25.0,!=1.25.1,<1.26,>=1.21.1 in /usr/local/lib/python3.7/dist-packages (from requests<3.0.0,>=2.13.0->spacy<4.0.0,>=3.0.1->negspacy) (1.24.3)\n",
            "Requirement already satisfied: certifi>=2017.4.17 in /usr/local/lib/python3.7/dist-packages (from requests<3.0.0,>=2.13.0->spacy<4.0.0,>=3.0.1->negspacy) (2022.6.15)\n",
            "Requirement already satisfied: click<9.0.0,>=7.1.1 in /usr/local/lib/python3.7/dist-packages (from typer<0.5.0,>=0.3.0->spacy<4.0.0,>=3.0.1->negspacy) (7.1.2)\n",
            "Requirement already satisfied: MarkupSafe>=0.23 in /usr/local/lib/python3.7/dist-packages (from jinja2->spacy<4.0.0,>=3.0.1->negspacy) (2.0.1)\n",
            "Building wheels for collected packages: negspacy\n",
            "  Building wheel for negspacy (setup.py) ... \u001b[?25l\u001b[?25hdone\n",
            "  Created wheel for negspacy: filename=negspacy-1.0.3-py3-none-any.whl size=10434 sha256=1ba669152438958961c7d54f783f23d69e12d4704d80cc60c2b19bdca710e75f\n",
            "  Stored in directory: /root/.cache/pip/wheels/c4/e8/00/1faab6bd4c7646254119ec08916e0d8768190c835c9bcce864\n",
            "Successfully built negspacy\n",
            "Installing collected packages: negspacy\n",
            "Successfully installed negspacy-1.0.3\n"
          ]
        }
      ],
      "source": [
        "!pip install negspacy"
      ]
    },
    {
      "cell_type": "code",
      "execution_count": 4,
      "metadata": {
        "id": "Fa85MrBAm1Jc",
        "colab": {
          "base_uri": "https://localhost:8080/",
          "height": 1000
        },
        "outputId": "ce546907-cdd5-4f49-a1f2-a45c74d4705f"
      },
      "outputs": [
        {
          "output_type": "stream",
          "name": "stdout",
          "text": [
            "Looking in indexes: https://pypi.org/simple, https://us-python.pkg.dev/colab-wheels/public/simple/\n",
            "Collecting scispacy\n",
            "  Downloading scispacy-0.5.0-py3-none-any.whl (44 kB)\n",
            "\u001b[K     |████████████████████████████████| 44 kB 2.4 MB/s \n",
            "\u001b[?25hRequirement already satisfied: numpy in /usr/local/lib/python3.7/dist-packages (from scispacy) (1.21.6)\n",
            "Requirement already satisfied: joblib in /usr/local/lib/python3.7/dist-packages (from scispacy) (1.1.0)\n",
            "Requirement already satisfied: scikit-learn>=0.20.3 in /usr/local/lib/python3.7/dist-packages (from scispacy) (1.0.2)\n",
            "Collecting conllu\n",
            "  Downloading conllu-4.5.1-py2.py3-none-any.whl (16 kB)\n",
            "Collecting pysbd\n",
            "  Downloading pysbd-0.3.4-py3-none-any.whl (71 kB)\n",
            "\u001b[K     |████████████████████████████████| 71 kB 8.4 MB/s \n",
            "\u001b[?25hCollecting spacy<3.3.0,>=3.2.0\n",
            "  Downloading spacy-3.2.4-cp37-cp37m-manylinux_2_17_x86_64.manylinux2014_x86_64.whl (6.0 MB)\n",
            "\u001b[K     |████████████████████████████████| 6.0 MB 20.9 MB/s \n",
            "\u001b[?25hRequirement already satisfied: requests<3.0.0,>=2.0.0 in /usr/local/lib/python3.7/dist-packages (from scispacy) (2.23.0)\n",
            "Collecting nmslib>=1.7.3.6\n",
            "  Downloading nmslib-2.1.1-cp37-cp37m-manylinux2010_x86_64.whl (13.5 MB)\n",
            "\u001b[K     |████████████████████████████████| 13.5 MB 50.5 MB/s \n",
            "\u001b[?25hCollecting pybind11<2.6.2\n",
            "  Downloading pybind11-2.6.1-py2.py3-none-any.whl (188 kB)\n",
            "\u001b[K     |████████████████████████████████| 188 kB 66.3 MB/s \n",
            "\u001b[?25hRequirement already satisfied: psutil in /usr/local/lib/python3.7/dist-packages (from nmslib>=1.7.3.6->scispacy) (5.4.8)\n",
            "Requirement already satisfied: chardet<4,>=3.0.2 in /usr/local/lib/python3.7/dist-packages (from requests<3.0.0,>=2.0.0->scispacy) (3.0.4)\n",
            "Requirement already satisfied: urllib3!=1.25.0,!=1.25.1,<1.26,>=1.21.1 in /usr/local/lib/python3.7/dist-packages (from requests<3.0.0,>=2.0.0->scispacy) (1.24.3)\n",
            "Requirement already satisfied: certifi>=2017.4.17 in /usr/local/lib/python3.7/dist-packages (from requests<3.0.0,>=2.0.0->scispacy) (2022.6.15)\n",
            "Requirement already satisfied: idna<3,>=2.5 in /usr/local/lib/python3.7/dist-packages (from requests<3.0.0,>=2.0.0->scispacy) (2.10)\n",
            "Requirement already satisfied: scipy>=1.1.0 in /usr/local/lib/python3.7/dist-packages (from scikit-learn>=0.20.3->scispacy) (1.7.3)\n",
            "Requirement already satisfied: threadpoolctl>=2.0.0 in /usr/local/lib/python3.7/dist-packages (from scikit-learn>=0.20.3->scispacy) (3.1.0)\n",
            "Requirement already satisfied: wasabi<1.1.0,>=0.8.1 in /usr/local/lib/python3.7/dist-packages (from spacy<3.3.0,>=3.2.0->scispacy) (0.9.1)\n",
            "Requirement already satisfied: typer<0.5.0,>=0.3.0 in /usr/local/lib/python3.7/dist-packages (from spacy<3.3.0,>=3.2.0->scispacy) (0.4.2)\n",
            "Requirement already satisfied: pydantic!=1.8,!=1.8.1,<1.9.0,>=1.7.4 in /usr/local/lib/python3.7/dist-packages (from spacy<3.3.0,>=3.2.0->scispacy) (1.8.2)\n",
            "Requirement already satisfied: jinja2 in /usr/local/lib/python3.7/dist-packages (from spacy<3.3.0,>=3.2.0->scispacy) (2.11.3)\n",
            "Requirement already satisfied: langcodes<4.0.0,>=3.2.0 in /usr/local/lib/python3.7/dist-packages (from spacy<3.3.0,>=3.2.0->scispacy) (3.3.0)\n",
            "Requirement already satisfied: blis<0.8.0,>=0.4.0 in /usr/local/lib/python3.7/dist-packages (from spacy<3.3.0,>=3.2.0->scispacy) (0.7.8)\n",
            "Collecting typing-extensions<4.0.0.0,>=3.7.4\n",
            "  Downloading typing_extensions-3.10.0.2-py3-none-any.whl (26 kB)\n",
            "Requirement already satisfied: cymem<2.1.0,>=2.0.2 in /usr/local/lib/python3.7/dist-packages (from spacy<3.3.0,>=3.2.0->scispacy) (2.0.6)\n",
            "Requirement already satisfied: thinc<8.1.0,>=8.0.12 in /usr/local/lib/python3.7/dist-packages (from spacy<3.3.0,>=3.2.0->scispacy) (8.0.17)\n",
            "Requirement already satisfied: packaging>=20.0 in /usr/local/lib/python3.7/dist-packages (from spacy<3.3.0,>=3.2.0->scispacy) (21.3)\n",
            "Requirement already satisfied: murmurhash<1.1.0,>=0.28.0 in /usr/local/lib/python3.7/dist-packages (from spacy<3.3.0,>=3.2.0->scispacy) (1.0.7)\n",
            "Requirement already satisfied: catalogue<2.1.0,>=2.0.6 in /usr/local/lib/python3.7/dist-packages (from spacy<3.3.0,>=3.2.0->scispacy) (2.0.7)\n",
            "Requirement already satisfied: pathy>=0.3.5 in /usr/local/lib/python3.7/dist-packages (from spacy<3.3.0,>=3.2.0->scispacy) (0.6.2)\n",
            "Requirement already satisfied: tqdm<5.0.0,>=4.38.0 in /usr/local/lib/python3.7/dist-packages (from spacy<3.3.0,>=3.2.0->scispacy) (4.64.0)\n",
            "Requirement already satisfied: srsly<3.0.0,>=2.4.1 in /usr/local/lib/python3.7/dist-packages (from spacy<3.3.0,>=3.2.0->scispacy) (2.4.3)\n",
            "Requirement already satisfied: spacy-loggers<2.0.0,>=1.0.0 in /usr/local/lib/python3.7/dist-packages (from spacy<3.3.0,>=3.2.0->scispacy) (1.0.2)\n",
            "Requirement already satisfied: preshed<3.1.0,>=3.0.2 in /usr/local/lib/python3.7/dist-packages (from spacy<3.3.0,>=3.2.0->scispacy) (3.0.6)\n",
            "Requirement already satisfied: setuptools in /usr/local/lib/python3.7/dist-packages (from spacy<3.3.0,>=3.2.0->scispacy) (57.4.0)\n",
            "Requirement already satisfied: spacy-legacy<3.1.0,>=3.0.8 in /usr/local/lib/python3.7/dist-packages (from spacy<3.3.0,>=3.2.0->scispacy) (3.0.9)\n",
            "Requirement already satisfied: click<8.1.0 in /usr/local/lib/python3.7/dist-packages (from spacy<3.3.0,>=3.2.0->scispacy) (7.1.2)\n",
            "Requirement already satisfied: zipp>=0.5 in /usr/local/lib/python3.7/dist-packages (from catalogue<2.1.0,>=2.0.6->spacy<3.3.0,>=3.2.0->scispacy) (3.8.0)\n",
            "Requirement already satisfied: pyparsing!=3.0.5,>=2.0.2 in /usr/local/lib/python3.7/dist-packages (from packaging>=20.0->spacy<3.3.0,>=3.2.0->scispacy) (3.0.9)\n",
            "Requirement already satisfied: smart-open<6.0.0,>=5.2.1 in /usr/local/lib/python3.7/dist-packages (from pathy>=0.3.5->spacy<3.3.0,>=3.2.0->scispacy) (5.2.1)\n",
            "Requirement already satisfied: MarkupSafe>=0.23 in /usr/local/lib/python3.7/dist-packages (from jinja2->spacy<3.3.0,>=3.2.0->scispacy) (2.0.1)\n",
            "Installing collected packages: typing-extensions, pybind11, spacy, pysbd, nmslib, conllu, scispacy\n",
            "  Attempting uninstall: typing-extensions\n",
            "    Found existing installation: typing-extensions 4.1.1\n",
            "    Uninstalling typing-extensions-4.1.1:\n",
            "      Successfully uninstalled typing-extensions-4.1.1\n",
            "  Attempting uninstall: spacy\n",
            "    Found existing installation: spacy 3.3.1\n",
            "    Uninstalling spacy-3.3.1:\n",
            "      Successfully uninstalled spacy-3.3.1\n",
            "\u001b[31mERROR: pip's dependency resolver does not currently take into account all the packages that are installed. This behaviour is the source of the following dependency conflicts.\n",
            "en-core-web-sm 3.3.0 requires spacy<3.4.0,>=3.3.0.dev0, but you have spacy 3.2.4 which is incompatible.\u001b[0m\n",
            "Successfully installed conllu-4.5.1 nmslib-2.1.1 pybind11-2.6.1 pysbd-0.3.4 scispacy-0.5.0 spacy-3.2.4 typing-extensions-3.10.0.2\n"
          ]
        },
        {
          "output_type": "display_data",
          "data": {
            "application/vnd.colab-display-data+json": {
              "pip_warning": {
                "packages": [
                  "typing_extensions"
                ]
              }
            }
          },
          "metadata": {}
        }
      ],
      "source": [
        "!pip install scispacy"
      ]
    },
    {
      "cell_type": "code",
      "execution_count": 5,
      "metadata": {
        "id": "LfxACglQm2n9",
        "colab": {
          "base_uri": "https://localhost:8080/"
        },
        "outputId": "bc43f435-e113-4f0b-ce78-298ff6c7e91f"
      },
      "outputs": [
        {
          "output_type": "stream",
          "name": "stdout",
          "text": [
            "Looking in indexes: https://pypi.org/simple, https://us-python.pkg.dev/colab-wheels/public/simple/\n",
            "Collecting https://s3-us-west-2.amazonaws.com/ai2-s2-scispacy/releases/v0.5.0/en_ner_bc5cdr_md-0.5.0.tar.gz\n",
            "  Downloading https://s3-us-west-2.amazonaws.com/ai2-s2-scispacy/releases/v0.5.0/en_ner_bc5cdr_md-0.5.0.tar.gz (120.2 MB)\n",
            "\u001b[K     |████████████████████████████████| 120.2 MB 57 kB/s \n",
            "\u001b[?25hRequirement already satisfied: spacy<3.3.0,>=3.2.3 in /usr/local/lib/python3.7/dist-packages (from en-ner-bc5cdr-md==0.5.0) (3.2.4)\n",
            "Requirement already satisfied: thinc<8.1.0,>=8.0.12 in /usr/local/lib/python3.7/dist-packages (from spacy<3.3.0,>=3.2.3->en-ner-bc5cdr-md==0.5.0) (8.0.17)\n",
            "Requirement already satisfied: preshed<3.1.0,>=3.0.2 in /usr/local/lib/python3.7/dist-packages (from spacy<3.3.0,>=3.2.3->en-ner-bc5cdr-md==0.5.0) (3.0.6)\n",
            "Requirement already satisfied: click<8.1.0 in /usr/local/lib/python3.7/dist-packages (from spacy<3.3.0,>=3.2.3->en-ner-bc5cdr-md==0.5.0) (7.1.2)\n",
            "Requirement already satisfied: requests<3.0.0,>=2.13.0 in /usr/local/lib/python3.7/dist-packages (from spacy<3.3.0,>=3.2.3->en-ner-bc5cdr-md==0.5.0) (2.23.0)\n",
            "Requirement already satisfied: tqdm<5.0.0,>=4.38.0 in /usr/local/lib/python3.7/dist-packages (from spacy<3.3.0,>=3.2.3->en-ner-bc5cdr-md==0.5.0) (4.64.0)\n",
            "Requirement already satisfied: typer<0.5.0,>=0.3.0 in /usr/local/lib/python3.7/dist-packages (from spacy<3.3.0,>=3.2.3->en-ner-bc5cdr-md==0.5.0) (0.4.2)\n",
            "Requirement already satisfied: spacy-loggers<2.0.0,>=1.0.0 in /usr/local/lib/python3.7/dist-packages (from spacy<3.3.0,>=3.2.3->en-ner-bc5cdr-md==0.5.0) (1.0.2)\n",
            "Requirement already satisfied: pydantic!=1.8,!=1.8.1,<1.9.0,>=1.7.4 in /usr/local/lib/python3.7/dist-packages (from spacy<3.3.0,>=3.2.3->en-ner-bc5cdr-md==0.5.0) (1.8.2)\n",
            "Requirement already satisfied: setuptools in /usr/local/lib/python3.7/dist-packages (from spacy<3.3.0,>=3.2.3->en-ner-bc5cdr-md==0.5.0) (57.4.0)\n",
            "Requirement already satisfied: typing-extensions<4.0.0.0,>=3.7.4 in /usr/local/lib/python3.7/dist-packages (from spacy<3.3.0,>=3.2.3->en-ner-bc5cdr-md==0.5.0) (3.10.0.2)\n",
            "Requirement already satisfied: langcodes<4.0.0,>=3.2.0 in /usr/local/lib/python3.7/dist-packages (from spacy<3.3.0,>=3.2.3->en-ner-bc5cdr-md==0.5.0) (3.3.0)\n",
            "Requirement already satisfied: srsly<3.0.0,>=2.4.1 in /usr/local/lib/python3.7/dist-packages (from spacy<3.3.0,>=3.2.3->en-ner-bc5cdr-md==0.5.0) (2.4.3)\n",
            "Requirement already satisfied: blis<0.8.0,>=0.4.0 in /usr/local/lib/python3.7/dist-packages (from spacy<3.3.0,>=3.2.3->en-ner-bc5cdr-md==0.5.0) (0.7.8)\n",
            "Requirement already satisfied: jinja2 in /usr/local/lib/python3.7/dist-packages (from spacy<3.3.0,>=3.2.3->en-ner-bc5cdr-md==0.5.0) (2.11.3)\n",
            "Requirement already satisfied: spacy-legacy<3.1.0,>=3.0.8 in /usr/local/lib/python3.7/dist-packages (from spacy<3.3.0,>=3.2.3->en-ner-bc5cdr-md==0.5.0) (3.0.9)\n",
            "Requirement already satisfied: numpy>=1.15.0 in /usr/local/lib/python3.7/dist-packages (from spacy<3.3.0,>=3.2.3->en-ner-bc5cdr-md==0.5.0) (1.21.6)\n",
            "Requirement already satisfied: catalogue<2.1.0,>=2.0.6 in /usr/local/lib/python3.7/dist-packages (from spacy<3.3.0,>=3.2.3->en-ner-bc5cdr-md==0.5.0) (2.0.7)\n",
            "Requirement already satisfied: murmurhash<1.1.0,>=0.28.0 in /usr/local/lib/python3.7/dist-packages (from spacy<3.3.0,>=3.2.3->en-ner-bc5cdr-md==0.5.0) (1.0.7)\n",
            "Requirement already satisfied: wasabi<1.1.0,>=0.8.1 in /usr/local/lib/python3.7/dist-packages (from spacy<3.3.0,>=3.2.3->en-ner-bc5cdr-md==0.5.0) (0.9.1)\n",
            "Requirement already satisfied: packaging>=20.0 in /usr/local/lib/python3.7/dist-packages (from spacy<3.3.0,>=3.2.3->en-ner-bc5cdr-md==0.5.0) (21.3)\n",
            "Requirement already satisfied: pathy>=0.3.5 in /usr/local/lib/python3.7/dist-packages (from spacy<3.3.0,>=3.2.3->en-ner-bc5cdr-md==0.5.0) (0.6.2)\n",
            "Requirement already satisfied: cymem<2.1.0,>=2.0.2 in /usr/local/lib/python3.7/dist-packages (from spacy<3.3.0,>=3.2.3->en-ner-bc5cdr-md==0.5.0) (2.0.6)\n",
            "Requirement already satisfied: zipp>=0.5 in /usr/local/lib/python3.7/dist-packages (from catalogue<2.1.0,>=2.0.6->spacy<3.3.0,>=3.2.3->en-ner-bc5cdr-md==0.5.0) (3.8.0)\n",
            "Requirement already satisfied: pyparsing!=3.0.5,>=2.0.2 in /usr/local/lib/python3.7/dist-packages (from packaging>=20.0->spacy<3.3.0,>=3.2.3->en-ner-bc5cdr-md==0.5.0) (3.0.9)\n",
            "Requirement already satisfied: smart-open<6.0.0,>=5.2.1 in /usr/local/lib/python3.7/dist-packages (from pathy>=0.3.5->spacy<3.3.0,>=3.2.3->en-ner-bc5cdr-md==0.5.0) (5.2.1)\n",
            "Requirement already satisfied: urllib3!=1.25.0,!=1.25.1,<1.26,>=1.21.1 in /usr/local/lib/python3.7/dist-packages (from requests<3.0.0,>=2.13.0->spacy<3.3.0,>=3.2.3->en-ner-bc5cdr-md==0.5.0) (1.24.3)\n",
            "Requirement already satisfied: certifi>=2017.4.17 in /usr/local/lib/python3.7/dist-packages (from requests<3.0.0,>=2.13.0->spacy<3.3.0,>=3.2.3->en-ner-bc5cdr-md==0.5.0) (2022.6.15)\n",
            "Requirement already satisfied: chardet<4,>=3.0.2 in /usr/local/lib/python3.7/dist-packages (from requests<3.0.0,>=2.13.0->spacy<3.3.0,>=3.2.3->en-ner-bc5cdr-md==0.5.0) (3.0.4)\n",
            "Requirement already satisfied: idna<3,>=2.5 in /usr/local/lib/python3.7/dist-packages (from requests<3.0.0,>=2.13.0->spacy<3.3.0,>=3.2.3->en-ner-bc5cdr-md==0.5.0) (2.10)\n",
            "Requirement already satisfied: MarkupSafe>=0.23 in /usr/local/lib/python3.7/dist-packages (from jinja2->spacy<3.3.0,>=3.2.3->en-ner-bc5cdr-md==0.5.0) (2.0.1)\n",
            "Building wheels for collected packages: en-ner-bc5cdr-md\n",
            "  Building wheel for en-ner-bc5cdr-md (setup.py) ... \u001b[?25l\u001b[?25hdone\n",
            "  Created wheel for en-ner-bc5cdr-md: filename=en_ner_bc5cdr_md-0.5.0-py3-none-any.whl size=120215853 sha256=b6604cc09bb9a353534df2ebc140767145910cb63e965ee89b02bf821f38761b\n",
            "  Stored in directory: /root/.cache/pip/wheels/34/f2/2e/aa822e510c493b90ab8f7555c48084f946c57121f12a484677\n",
            "Successfully built en-ner-bc5cdr-md\n",
            "Installing collected packages: en-ner-bc5cdr-md\n",
            "Successfully installed en-ner-bc5cdr-md-0.5.0\n"
          ]
        }
      ],
      "source": [
        "!pip install https://s3-us-west-2.amazonaws.com/ai2-s2-scispacy/releases/v0.5.0/en_ner_bc5cdr_md-0.5.0.tar.gz"
      ]
    },
    {
      "cell_type": "code",
      "execution_count": 6,
      "metadata": {
        "id": "Kt8pcu7IqYhh"
      },
      "outputs": [],
      "source": [
        "import pandas as pd\n",
        "import numpy as np\n",
        "import seaborn as sns\n",
        "import matplotlib.pyplot as plt\n",
        "import docx2txt\n",
        "import spacy\n",
        "from spacy.matcher import PhraseMatcher\n",
        "from spacy.pipeline import EntityRuler\n",
        "from negspacy.negation import Negex\n",
        "from negspacy.termsets import termset\n",
        "from spacy.tokens import Span\n",
        "import scispacy\n",
        "from scispacy.abbreviation import AbbreviationDetector\n",
        "from spacy import displacy"
      ]
    },
    {
      "cell_type": "code",
      "execution_count": 7,
      "metadata": {
        "id": "FXVp7eNXjkjz",
        "colab": {
          "base_uri": "https://localhost:8080/"
        },
        "outputId": "e60e2bc2-b428-45d4-f8b7-4d6702d7a5e0"
      },
      "outputs": [
        {
          "output_type": "execute_result",
          "data": {
            "text/plain": [
              "<scispacy.abbreviation.AbbreviationDetector at 0x7f979b3b3a90>"
            ]
          },
          "metadata": {},
          "execution_count": 7
        }
      ],
      "source": [
        "#Initialize nlp pipeline with scispacy model (for processing biomedical, scientific and clinical text)\n",
        "nlp = spacy.load(\"en_ner_bc5cdr_md\")\n",
        "#Add abbreviation detector for medical abbreviations\n",
        "nlp.add_pipe(\"abbreviation_detector\")"
      ]
    },
    {
      "cell_type": "code",
      "execution_count": 8,
      "metadata": {
        "id": "5B1ALGCnSPK6",
        "colab": {
          "base_uri": "https://localhost:8080/"
        },
        "outputId": "fdc7f745-05a7-4513-e226-648d2719ccbd"
      },
      "outputs": [
        {
          "output_type": "execute_result",
          "data": {
            "text/plain": [
              "['tok2vec',\n",
              " 'tagger',\n",
              " 'attribute_ruler',\n",
              " 'lemmatizer',\n",
              " 'parser',\n",
              " 'ner',\n",
              " 'abbreviation_detector']"
            ]
          },
          "metadata": {},
          "execution_count": 8
        }
      ],
      "source": [
        "#View components of nlp pipeline\n",
        "nlp.component_names"
      ]
    },
    {
      "cell_type": "code",
      "execution_count": 9,
      "metadata": {
        "id": "JWsSn9jIhw8s",
        "colab": {
          "base_uri": "https://localhost:8080/"
        },
        "outputId": "ed759d02-5090-421c-dd4f-9981d823f95e"
      },
      "outputs": [
        {
          "output_type": "stream",
          "name": "stdout",
          "text": [
            "Mounted at /content/drive\n"
          ]
        }
      ],
      "source": [
        "#Mount google drive so that colab can access files in my google drive\n",
        "from google.colab import drive\n",
        "drive.mount('/content/drive')"
      ]
    },
    {
      "cell_type": "markdown",
      "metadata": {
        "id": "Rjs9WKCZTr39"
      },
      "source": [
        "# Import letters for analysis"
      ]
    },
    {
      "cell_type": "code",
      "execution_count": 10,
      "metadata": {
        "id": "u9Pqrt7YiPzF"
      },
      "outputs": [],
      "source": [
        "#Import letters (note that these letters do not refer to real patients)\n",
        "letter_A = docx2txt.process('/content/drive/MyDrive/NLP projects/Dummy letters/dummy letters/Letter A.docx')\n",
        "letter_B = docx2txt.process('/content/drive/MyDrive/NLP projects/Dummy letters/dummy letters/Letter B.docx')"
      ]
    },
    {
      "cell_type": "code",
      "execution_count": 11,
      "metadata": {
        "id": "ywfvfe29l3xA",
        "colab": {
          "base_uri": "https://localhost:8080/"
        },
        "outputId": "d2f3a82d-4158-4d7c-d8a8-3b90292a325c"
      },
      "outputs": [
        {
          "output_type": "stream",
          "name": "stdout",
          "text": [
            "Mr A Smith\n",
            "\n",
            "567 Ghengis Khan Drive, Newcastle NE4 5XX\n",
            "\n",
            "\n",
            "\n",
            "Diagnoses:\n",
            "\n",
            "Poor mobility due to chronic pain, low confidence and previous falls \n",
            "\n",
            "Weight loss, anaemia and raised inflammatory markers of unknown aetiology \n",
            "\n",
            "Low mood secondary to poor mobility \n",
            "\n",
            "Breathlessness and elevated BNP awaiting echo \n",
            "\n",
            "Chronic back pain with degenerative changes on MRI \n",
            "\n",
            "Urinary frequency and incontinence \n",
            "\n",
            "\n",
            "\n",
            "Other diagnoses:\n",
            "\n",
            "Complex partial epileptic seizures\n",
            "\n",
            "Hypertension \n",
            "\n",
            "Osteoarthritis with bilateral total hip replacements\n",
            "\n",
            "Atrial fibrillation \n",
            "\n",
            "Asthma \n",
            "\n",
            "Patent foramen ovale \n",
            "\n",
            "Previous cerebellar stroke \n",
            "\n",
            "\n",
            "\n",
            "Medications:\n",
            "\n",
            "Atorvastatin\n",
            "\n",
            "Docusate\n",
            "\n",
            "Ferrous fumarate\n",
            "\n",
            "Vitamin-D3\n",
            "\n",
            "Furosemide\n",
            "\n",
            "Gaviscon\n",
            "\n",
            "Flutiform inhaler\n",
            "\n",
            "Salbutamol inhaler\n",
            "\n",
            "Lansoprazole\n",
            "\n",
            "Losartan \n",
            "\n",
            "Paracetamol \n",
            "\n",
            "Phenytoin\n",
            "\n",
            "Tegretol slow release\n",
            "\n",
            "Codeine\n",
            "\n",
            "Warfarin\n",
            "\n",
            "\n",
            "\n",
            "Suggested changes to medication \n",
            "\n",
            "Reduce codeine 15 mg dose but try and use regularly 2-3 times per day \n",
            "\n",
            "\n",
            "\n",
            "Follow up arrangements\n",
            "\n",
            " I will organise ultrasound of the abdomen and physiotherapy at the Belsay Clinic; I will be in touch by telephone with Mr Smith when the results of his bloods and ultrasound come through. I also note an echo has already been arranged. \n",
            "\n",
            "\n",
            "\n",
            "For Primary care \n",
            "\n",
            "Medication change as above \n",
            "\n",
            "\n",
            "\n",
            "Thank you for referring Mr Smith who attended for a face-to-face assessment at the Belsay Clinic accompanied by his niece today. He gives a history of poor mobility and falls; both these problems are longstanding and indeed he was assessed at the Belsay clinic by my colleague Dr Boyle back in 2019 and had a course of physiotherapy at the time. More recently he has lost confidence, his balance is worse and he has fallen more. He is clear that the lack of mobility is his greatest frustration; he is housebound unless he can be accompanied out of the house by his niece and even then he gets out only in a wheelchair. He thinks that a combination of things are stopping him being more mobile: he feels that he lacks strength, has a fear of falling and also has pain in the front and back of his legs. This is worse at night and keeps him awake at times. His last fall was two months ago. He notes feeling unsteady on standing but on close questioning this sensation did not appear to be consistent with vertigo. \n",
            "\n",
            "He also complains of pain across her shoulders starting in the right arm and going across the shoulders to the left arm. This has been present for about six months and is not related to exertion. It is no worse in the morning and he does not feel particularly stiff. He also describes stabbing pain over his right eye that then migrates over the top of his head. This does not seem to be related to stressful events. He has lost a considerable amount of weight - 8kg from March to August this year, and another five kg since as his weight in clinic today was 71.5 kg. His appetite is not as good as it usually is but he denies nausea or vomiting; he avoids constipation by taking laxatives. He does not complain of toothache, does not choke on food or drink and says that he eats reasonably well. He has seen a dietitian. He complains of occasional breathlessness and cough at night and brings up a small quantity of phlegm but this is little changed. He has not noticed any blood in his stools. He complains of a rash on his legs, more on the right than the left, and that her legs are often cool. He notes that this rash has been present for at least 10 years and I also note recent vascular duplex studies that suggest good arterial flow in the legs. He has urinary frequency and is often not aware of when he needs to go to the loo; he also complains of a few minutes of crampy lower abdominal pain after micturition. Perhaps unsurprisingly he is somewhat low in mood but still enjoys going out and seeing people. He denies suicidal ideation or early morning waking. He admits that he tends to live in the past more nowadays. He does not complain of any subjective memory problems. \n",
            "\n",
            "On examination, he was alert and engaged well with the consultation. There was no jaundice, anaemia, cyanosis, clubbing or lymphadenopathy. There was a confluent discolouration on both lower legs which was cool to the touch, not raised or tender and was not blanching. Similar changes were seen above the knees but looked more petechial in nature. Heart sounds were normal, JVP was not raised and the chest was clear. Abdominal examination revealed a 2cm liver edge but no ascites or masses. There was an old scar noted on his left upper arm where a basal cell carcinoma has been removed previously. He was mildly tender across the shoulders and in the thoracic paraspinal muscles; tenderness was not confined to the spine. He was able to raise her arms above her head. Neurological examination revealed normal tone, power and coordination. Cranial nerve examination was normal with no nystagmus. He was able to rise unaided from a chair quite quickly but was very reluctant to take a step forward. However he could walk a few paces with support from one person albeit unsteadily. There was no bradykinesia or tremor noted. \n",
            "\n",
            "His SarcScreen revealed a SARC-F score of 10/10, and Fried frailty score of 2/5 denoting prefrailty. He was unable to attempt the 3m walk but his maximum grip strength was 22 kg. GDS was 10/15 and MMSE was 28/30. An active stand showed a blood pressure of 141/85 with no significant drop although he was unsteady on standing. His 12 lead electrocardiogram showed atrial fibrillation at 80 per minute with nil else of note. \n",
            "\n",
            "There are clearly a complex set of interlocking problems here. He is rather stronger than he thinks he is on although his balance is poor, I think it is a lack of confidence rather than a lack of strength that is preventing him from mobilising more. He accepts this and is happy for us to refer to physiotherapy for strength and balance training which I think will help build his confidence. His mood is low but not sufficiently low to denote depression and I think if we can improve his mobility, his mood will improve. Some of his chronic back pain is undoubtedly due to the degenerative changes seen on MRI and I understand that surgery is not going to be an option for this. I would be reluctant to change her painkillers much at the moment though given that he is already on antiepileptic medications and so adding in other agents for chronic pain may not help much but might interact with these medications. \n",
            "\n",
            "We discussed the fine balance between benefits and side effects of all of these medications today. What would perhaps be helpful though is to reduce the codeine to 15 mg so that he can try and take this more regularly; he finds that the 30 mg dose makes him feel very unsteady on her feet. Having said all of this, it is clear that the blood tests suggest some issues that require further investigation. His breathlessness on exertion and raised BNP suggest that investigation for LV systolic dysfunction causing heart failure would be beneficial and I note that he has already had an echo requested. His weight loss is quite dramatic and this, together with the admittedly longstanding rash on his legs, anaemia, raised ESR and high platelet counts suggest that there is an inflammatory disorder present. Whether this is autoimmune or due to another aetiology is unclear. I have requested bloods today including repeat U&Es, liver function tests, calcium, myeloma screen, CRP and ESR, autoimmune screen, creatine kinase and iron studies. I have also requested an ultrasound of the abdomen to investigate the liver edge that I could feel; I note that a recent chest x-ray showed normal heart size and clear lung fields. Despite the possible finding of horizontal nystagmus by Community Nursing colleagues I could not find any evidence of this today and I don’t think we need to progress to brain scanning at present. \n",
            "\n",
            "Once we have got the blood and ultrasound results, I will phone Mr Smith again and discuss the best way forward. It may be that if we do not find another cause for his inflammatory condition, a trial of steroids might be warranted as some of the features including the shoulder discomfort could be consistent with polymyalgia rheumatica. I have explained this today but also explained that I think we need to investigate further before diving in with treatment in case this is not the diagnosis. \n",
            "\n",
            "Yours sincerely\n",
            "\n",
            "Professor Miles Witham\n",
            "\n",
            "Consultant Geriatrician\n"
          ]
        }
      ],
      "source": [
        "print(letter_A)"
      ]
    },
    {
      "cell_type": "code",
      "execution_count": 12,
      "metadata": {
        "id": "lndm62jGl-ZG",
        "colab": {
          "base_uri": "https://localhost:8080/"
        },
        "outputId": "cbf951bc-ef48-44cc-9437-3e12e164e943"
      },
      "outputs": [
        {
          "output_type": "stream",
          "name": "stdout",
          "text": [
            "Mrs B Smith\n",
            "\n",
            "Flat 1, Farringdon Road, Newcastle NE2 5DH\n",
            "\n",
            "Date of Birth: 01/01/1932\n",
            "\n",
            "\n",
            "\n",
            "\n",
            "\n",
            "Diagnoses: \n",
            "\n",
            "Falls due to gait and balance disorder \n",
            "\n",
            "Hyperthyroidism due to thyroxine over-replacement\n",
            "\n",
            "Sarcopenia \n",
            "\n",
            "Orthostatic hypotension \n",
            "\n",
            "\n",
            "\n",
            "Existing diagnoses: \n",
            "\n",
            "Hypertension \n",
            "\n",
            "Hypothyroidism \n",
            "\n",
            "Vitamin B12 deficiency \n",
            "\n",
            "Previous fractured wrist\n",
            "\n",
            "Visual impairment due to cataracts \n",
            "\n",
            "\n",
            "\n",
            "Medications: \n",
            "\n",
            "Alendronic acid \n",
            "\n",
            "Calcium and vitamin-D \n",
            "\n",
            "Bendroflumethiazide \n",
            "\n",
            "Vitamin B12 \n",
            "\n",
            "Simvastatin \n",
            "\n",
            "Ramipril \n",
            "\n",
            "\n",
            "\n",
            "Medication changes: \n",
            "\n",
            "Please reduce thyroxine dose to 75mcg once daily\n",
            "\n",
            "\n",
            "\n",
            "Follow up arrangements: \n",
            "\n",
            "I will write back when I see the results of her 24 hour electrocardiogram\n",
            "\n",
            "\n",
            "\n",
            "For Primary care \n",
            "\n",
            "Could you please forward me a copy of the 24 hour blood pressure monitor that she says she had in your surgery recently? \n",
            "\n",
            "\n",
            "\n",
            "I saw Mrs Smith for a face-to-face appointment at the Belsay Clinic today; she was accompanied by her son. She gives a history of two falls over the last few months and feels unsteady on her feet. She uses a walking frame at home and a stick when she is out. Neither of the falls were witnessed; her son reports that one occurred outside when she was pushing her walker up a ramp; she fell backwards and hit her head. The second occurred in the house but she does not remember any details; when she came round on the floor she managed to press the community alarm button. She denies any lightheadedness or vertigo, any palpitations or chest pain. Interestingly she had two syncopal episodes many years ago, both of which occurred when she was feeling warm and after eating a substantial meal. \n",
            "\n",
            "She has lost a considerable amount of weight over the last year; in November 2020 her weight was 58 kilos, this fell to 55 kilos in June 2021 and her weight in clinic today was 51.4 kilos. Her appetite has been poor but she is now eating better and is due to see the dietitian next week. She does not report choking on food, has no problems chewing, no dysphagia and no nausea. She does not complain of abdominal pain or problems with her bowels. She has no urinary symptoms either. She reports her mood is not low although she gets occasionally frustrated with her inability to complete activities of daily living. I understand that she had a 24 hour blood pressure monitor at your surgery recently.\n",
            "\n",
            "On examination there was no jaundice, anaemia, clubbing, cyanosis or lymphadenopathy. Thyroid examination was normal with no goitre palpable. The JVP was not raised, there was a trace of ankle oedema, heart sounds were normal and the chest was clear. Abdominal examination was unremarkable with no masses or organomegaly. Neurological examination revealed normal tone, power and coordination, no bradykinesia or tremor; cranial nerve examination including gaze was normal and there was no exophthalmos. \n",
            "\n",
            "Her SarcScreen showed a Sarc-F score of 7/10, and Fried frailty score of 2/5 denoting prefrailty. Weight was 51.4 kilos giving a BMI of 23.8. Grip strength was 13 kilos, walk speed 0.42 m/sec, and MMSE was 26/30. An active stand today showed a lying blood pressure of 204/71, falling to 117/46 when standing without any symptoms. This recovered rapidly within a minute to 174/64 and then fell again to 144/56 at 2 minutes. Twelve lead electrocardiogram showed sinus rhythm at 67 beats per minute with no abnormalities. Blood tests done in October show a haemoglobin of 121 with normal LFTs, and in November her TSH was <0.05 with an elevated T4 of 29.3. eGFR was 44 which is stable. \n",
            "\n",
            "Her falls are probably due to a combination of balance impairment and sarcopenia; she has already seen the domiciliary physiotherapy team and she has exercises to do to improve her strength and balance. These are the most effective intervention for this problem and I have encouraged her to keep going with these. Although her falls have not been witnessed, the one in the house has some features that suggest possible syncope and I think it would be sensible to get a 24 hour electrocardiogram; this has been fitted today. Although poor appetite may explain some of her weight loss, she is hyperthyroid suggesting that her thyroxine does is too high; this in turn may be contributing to both her sarcopenia and weight loss. Could I therefore ask you to reduce her thyroxine dose from 10mcg to 75mcg?\n",
            "\n",
            "I will be in touch when I get the 24 hour electrocardiogram result back.\n",
            "\n",
            "\n",
            "\n",
            "Yours sincerely,\n",
            "\n",
            "\n",
            "\n",
            "Professor Miles Witham\n",
            "\n",
            "Consultant Geriatrician\n"
          ]
        }
      ],
      "source": [
        "print(letter_B)"
      ]
    },
    {
      "cell_type": "code",
      "execution_count": 13,
      "metadata": {
        "id": "GwskSnPCrl8v",
        "colab": {
          "base_uri": "https://localhost:8080/"
        },
        "outputId": "af237204-f043-4893-950c-8e96f4cead85"
      },
      "outputs": [
        {
          "output_type": "stream",
          "name": "stderr",
          "text": [
            "/usr/local/lib/python3.7/dist-packages/scispacy/abbreviation.py:230: UserWarning: [W036] The component 'matcher' does not have any patterns defined.\n",
            "  global_matches = self.global_matcher(doc)\n"
          ]
        }
      ],
      "source": [
        "#Apply nlp pipeline to letter A\n",
        "doc_A = nlp(letter_A)"
      ]
    },
    {
      "cell_type": "code",
      "execution_count": 14,
      "metadata": {
        "id": "2r5J3iKJsP5Q",
        "colab": {
          "base_uri": "https://localhost:8080/"
        },
        "outputId": "025b7831-17c2-4a79-d9ed-62a907806899"
      },
      "outputs": [
        {
          "output_type": "stream",
          "name": "stderr",
          "text": [
            "/usr/local/lib/python3.7/dist-packages/scispacy/abbreviation.py:230: UserWarning: [W036] The component 'matcher' does not have any patterns defined.\n",
            "  global_matches = self.global_matcher(doc)\n"
          ]
        }
      ],
      "source": [
        "#Apply nlp pipeline to letter B\n",
        "doc_B = nlp(letter_B)"
      ]
    },
    {
      "cell_type": "markdown",
      "metadata": {
        "id": "fdWUUiRdfjLM"
      },
      "source": [
        "# Apply sci-spacy NER"
      ]
    },
    {
      "cell_type": "code",
      "execution_count": 15,
      "metadata": {
        "id": "Td7Pohu2VU3y",
        "colab": {
          "base_uri": "https://localhost:8080/",
          "height": 1000
        },
        "outputId": "8645d091-3350-4da0-dcae-419dc4d4c72b"
      },
      "outputs": [
        {
          "output_type": "display_data",
          "data": {
            "text/plain": [
              "<IPython.core.display.HTML object>"
            ],
            "text/html": [
              "<span class=\"tex2jax_ignore\"><div class=\"entities\" style=\"line-height: 2.5; direction: ltr\">Mr A Smith</br></br>567 Ghengis Khan Drive, Newcastle \n",
              "<mark class=\"entity\" style=\"background: #ddd; padding: 0.45em 0.6em; margin: 0 0.25em; line-height: 1; border-radius: 0.35em;\">\n",
              "    NE4\n",
              "    <span style=\"font-size: 0.8em; font-weight: bold; line-height: 1; border-radius: 0.35em; vertical-align: middle; margin-left: 0.5rem\">CHEMICAL</span>\n",
              "</mark>\n",
              " 5XX</br></br></br></br>Diagnoses:</br></br>Poor mobility due to \n",
              "<mark class=\"entity\" style=\"background: #ddd; padding: 0.45em 0.6em; margin: 0 0.25em; line-height: 1; border-radius: 0.35em;\">\n",
              "    chronic pain\n",
              "    <span style=\"font-size: 0.8em; font-weight: bold; line-height: 1; border-radius: 0.35em; vertical-align: middle; margin-left: 0.5rem\">DISEASE</span>\n",
              "</mark>\n",
              ", low confidence and previous falls </br></br>\n",
              "<mark class=\"entity\" style=\"background: #ddd; padding: 0.45em 0.6em; margin: 0 0.25em; line-height: 1; border-radius: 0.35em;\">\n",
              "    Weight loss\n",
              "    <span style=\"font-size: 0.8em; font-weight: bold; line-height: 1; border-radius: 0.35em; vertical-align: middle; margin-left: 0.5rem\">DISEASE</span>\n",
              "</mark>\n",
              ", \n",
              "<mark class=\"entity\" style=\"background: #ddd; padding: 0.45em 0.6em; margin: 0 0.25em; line-height: 1; border-radius: 0.35em;\">\n",
              "    anaemia\n",
              "    <span style=\"font-size: 0.8em; font-weight: bold; line-height: 1; border-radius: 0.35em; vertical-align: middle; margin-left: 0.5rem\">DISEASE</span>\n",
              "</mark>\n",
              " and raised inflammatory markers of unknown aetiology </br></br>\n",
              "<mark class=\"entity\" style=\"background: #ddd; padding: 0.45em 0.6em; margin: 0 0.25em; line-height: 1; border-radius: 0.35em;\">\n",
              "    Low mood\n",
              "    <span style=\"font-size: 0.8em; font-weight: bold; line-height: 1; border-radius: 0.35em; vertical-align: middle; margin-left: 0.5rem\">DISEASE</span>\n",
              "</mark>\n",
              " secondary to poor mobility </br></br>\n",
              "<mark class=\"entity\" style=\"background: #ddd; padding: 0.45em 0.6em; margin: 0 0.25em; line-height: 1; border-radius: 0.35em;\">\n",
              "    Breathlessness\n",
              "    <span style=\"font-size: 0.8em; font-weight: bold; line-height: 1; border-radius: 0.35em; vertical-align: middle; margin-left: 0.5rem\">DISEASE</span>\n",
              "</mark>\n",
              " and elevated BNP awaiting echo </br></br>\n",
              "<mark class=\"entity\" style=\"background: #ddd; padding: 0.45em 0.6em; margin: 0 0.25em; line-height: 1; border-radius: 0.35em;\">\n",
              "    Chronic back pain\n",
              "    <span style=\"font-size: 0.8em; font-weight: bold; line-height: 1; border-radius: 0.35em; vertical-align: middle; margin-left: 0.5rem\">DISEASE</span>\n",
              "</mark>\n",
              " with degenerative changes on MRI </br></br>Urinary frequency and \n",
              "<mark class=\"entity\" style=\"background: #ddd; padding: 0.45em 0.6em; margin: 0 0.25em; line-height: 1; border-radius: 0.35em;\">\n",
              "    incontinence\n",
              "    <span style=\"font-size: 0.8em; font-weight: bold; line-height: 1; border-radius: 0.35em; vertical-align: middle; margin-left: 0.5rem\">DISEASE</span>\n",
              "</mark>\n",
              " </br></br></br></br>Other diagnoses:</br></br>Complex partial \n",
              "<mark class=\"entity\" style=\"background: #ddd; padding: 0.45em 0.6em; margin: 0 0.25em; line-height: 1; border-radius: 0.35em;\">\n",
              "    epileptic seizures\n",
              "    <span style=\"font-size: 0.8em; font-weight: bold; line-height: 1; border-radius: 0.35em; vertical-align: middle; margin-left: 0.5rem\">DISEASE</span>\n",
              "</mark>\n",
              "</br></br>\n",
              "<mark class=\"entity\" style=\"background: #ddd; padding: 0.45em 0.6em; margin: 0 0.25em; line-height: 1; border-radius: 0.35em;\">\n",
              "    Hypertension\n",
              "    <span style=\"font-size: 0.8em; font-weight: bold; line-height: 1; border-radius: 0.35em; vertical-align: middle; margin-left: 0.5rem\">DISEASE</span>\n",
              "</mark>\n",
              " </br></br>Osteoarthritis with bilateral total hip replacements</br></br>\n",
              "<mark class=\"entity\" style=\"background: #ddd; padding: 0.45em 0.6em; margin: 0 0.25em; line-height: 1; border-radius: 0.35em;\">\n",
              "    Atrial fibrillation\n",
              "    <span style=\"font-size: 0.8em; font-weight: bold; line-height: 1; border-radius: 0.35em; vertical-align: middle; margin-left: 0.5rem\">DISEASE</span>\n",
              "</mark>\n",
              " </br></br>\n",
              "<mark class=\"entity\" style=\"background: #ddd; padding: 0.45em 0.6em; margin: 0 0.25em; line-height: 1; border-radius: 0.35em;\">\n",
              "    Asthma \n",
              "\n",
              "Patent foramen ovale\n",
              "    <span style=\"font-size: 0.8em; font-weight: bold; line-height: 1; border-radius: 0.35em; vertical-align: middle; margin-left: 0.5rem\">DISEASE</span>\n",
              "</mark>\n",
              " </br></br>Previous \n",
              "<mark class=\"entity\" style=\"background: #ddd; padding: 0.45em 0.6em; margin: 0 0.25em; line-height: 1; border-radius: 0.35em;\">\n",
              "    cerebellar stroke\n",
              "    <span style=\"font-size: 0.8em; font-weight: bold; line-height: 1; border-radius: 0.35em; vertical-align: middle; margin-left: 0.5rem\">DISEASE</span>\n",
              "</mark>\n",
              " </br></br></br></br>Medications:</br></br>\n",
              "<mark class=\"entity\" style=\"background: #ddd; padding: 0.45em 0.6em; margin: 0 0.25em; line-height: 1; border-radius: 0.35em;\">\n",
              "    Atorvastatin\n",
              "    <span style=\"font-size: 0.8em; font-weight: bold; line-height: 1; border-radius: 0.35em; vertical-align: middle; margin-left: 0.5rem\">CHEMICAL</span>\n",
              "</mark>\n",
              "</br></br>\n",
              "<mark class=\"entity\" style=\"background: #ddd; padding: 0.45em 0.6em; margin: 0 0.25em; line-height: 1; border-radius: 0.35em;\">\n",
              "    Docusate\n",
              "    <span style=\"font-size: 0.8em; font-weight: bold; line-height: 1; border-radius: 0.35em; vertical-align: middle; margin-left: 0.5rem\">CHEMICAL</span>\n",
              "</mark>\n",
              "</br></br>Ferrous \n",
              "<mark class=\"entity\" style=\"background: #ddd; padding: 0.45em 0.6em; margin: 0 0.25em; line-height: 1; border-radius: 0.35em;\">\n",
              "    fumarate\n",
              "    <span style=\"font-size: 0.8em; font-weight: bold; line-height: 1; border-radius: 0.35em; vertical-align: middle; margin-left: 0.5rem\">CHEMICAL</span>\n",
              "</mark>\n",
              "</br></br>\n",
              "<mark class=\"entity\" style=\"background: #ddd; padding: 0.45em 0.6em; margin: 0 0.25em; line-height: 1; border-radius: 0.35em;\">\n",
              "    Vitamin-D3\n",
              "    <span style=\"font-size: 0.8em; font-weight: bold; line-height: 1; border-radius: 0.35em; vertical-align: middle; margin-left: 0.5rem\">CHEMICAL</span>\n",
              "</mark>\n",
              "</br></br>\n",
              "<mark class=\"entity\" style=\"background: #ddd; padding: 0.45em 0.6em; margin: 0 0.25em; line-height: 1; border-radius: 0.35em;\">\n",
              "    Furosemide\n",
              "    <span style=\"font-size: 0.8em; font-weight: bold; line-height: 1; border-radius: 0.35em; vertical-align: middle; margin-left: 0.5rem\">CHEMICAL</span>\n",
              "</mark>\n",
              "</br></br>\n",
              "<mark class=\"entity\" style=\"background: #ddd; padding: 0.45em 0.6em; margin: 0 0.25em; line-height: 1; border-radius: 0.35em;\">\n",
              "    Gaviscon\n",
              "    <span style=\"font-size: 0.8em; font-weight: bold; line-height: 1; border-radius: 0.35em; vertical-align: middle; margin-left: 0.5rem\">CHEMICAL</span>\n",
              "</mark>\n",
              "</br></br>Flutiform \n",
              "<mark class=\"entity\" style=\"background: #ddd; padding: 0.45em 0.6em; margin: 0 0.25em; line-height: 1; border-radius: 0.35em;\">\n",
              "    inhaler\n",
              "    <span style=\"font-size: 0.8em; font-weight: bold; line-height: 1; border-radius: 0.35em; vertical-align: middle; margin-left: 0.5rem\">CHEMICAL</span>\n",
              "</mark>\n",
              "</br></br>\n",
              "<mark class=\"entity\" style=\"background: #ddd; padding: 0.45em 0.6em; margin: 0 0.25em; line-height: 1; border-radius: 0.35em;\">\n",
              "    Salbutamol\n",
              "    <span style=\"font-size: 0.8em; font-weight: bold; line-height: 1; border-radius: 0.35em; vertical-align: middle; margin-left: 0.5rem\">CHEMICAL</span>\n",
              "</mark>\n",
              " inhaler</br></br>\n",
              "<mark class=\"entity\" style=\"background: #ddd; padding: 0.45em 0.6em; margin: 0 0.25em; line-height: 1; border-radius: 0.35em;\">\n",
              "    Lansoprazole\n",
              "    <span style=\"font-size: 0.8em; font-weight: bold; line-height: 1; border-radius: 0.35em; vertical-align: middle; margin-left: 0.5rem\">CHEMICAL</span>\n",
              "</mark>\n",
              "</br></br>\n",
              "<mark class=\"entity\" style=\"background: #ddd; padding: 0.45em 0.6em; margin: 0 0.25em; line-height: 1; border-radius: 0.35em;\">\n",
              "    Losartan\n",
              "    <span style=\"font-size: 0.8em; font-weight: bold; line-height: 1; border-radius: 0.35em; vertical-align: middle; margin-left: 0.5rem\">CHEMICAL</span>\n",
              "</mark>\n",
              " </br></br>\n",
              "<mark class=\"entity\" style=\"background: #ddd; padding: 0.45em 0.6em; margin: 0 0.25em; line-height: 1; border-radius: 0.35em;\">\n",
              "    Paracetamol\n",
              "    <span style=\"font-size: 0.8em; font-weight: bold; line-height: 1; border-radius: 0.35em; vertical-align: middle; margin-left: 0.5rem\">CHEMICAL</span>\n",
              "</mark>\n",
              " </br></br>\n",
              "<mark class=\"entity\" style=\"background: #ddd; padding: 0.45em 0.6em; margin: 0 0.25em; line-height: 1; border-radius: 0.35em;\">\n",
              "    Phenytoin\n",
              "    <span style=\"font-size: 0.8em; font-weight: bold; line-height: 1; border-radius: 0.35em; vertical-align: middle; margin-left: 0.5rem\">CHEMICAL</span>\n",
              "</mark>\n",
              "</br></br>\n",
              "<mark class=\"entity\" style=\"background: #ddd; padding: 0.45em 0.6em; margin: 0 0.25em; line-height: 1; border-radius: 0.35em;\">\n",
              "    Tegretol\n",
              "    <span style=\"font-size: 0.8em; font-weight: bold; line-height: 1; border-radius: 0.35em; vertical-align: middle; margin-left: 0.5rem\">CHEMICAL</span>\n",
              "</mark>\n",
              " slow release</br></br>\n",
              "<mark class=\"entity\" style=\"background: #ddd; padding: 0.45em 0.6em; margin: 0 0.25em; line-height: 1; border-radius: 0.35em;\">\n",
              "    Codeine\n",
              "    <span style=\"font-size: 0.8em; font-weight: bold; line-height: 1; border-radius: 0.35em; vertical-align: middle; margin-left: 0.5rem\">CHEMICAL</span>\n",
              "</mark>\n",
              "</br></br>\n",
              "<mark class=\"entity\" style=\"background: #ddd; padding: 0.45em 0.6em; margin: 0 0.25em; line-height: 1; border-radius: 0.35em;\">\n",
              "    Warfarin\n",
              "    <span style=\"font-size: 0.8em; font-weight: bold; line-height: 1; border-radius: 0.35em; vertical-align: middle; margin-left: 0.5rem\">CHEMICAL</span>\n",
              "</mark>\n",
              "</br></br></br></br>Suggested changes to medication </br></br>Reduce \n",
              "<mark class=\"entity\" style=\"background: #ddd; padding: 0.45em 0.6em; margin: 0 0.25em; line-height: 1; border-radius: 0.35em;\">\n",
              "    codeine\n",
              "    <span style=\"font-size: 0.8em; font-weight: bold; line-height: 1; border-radius: 0.35em; vertical-align: middle; margin-left: 0.5rem\">CHEMICAL</span>\n",
              "</mark>\n",
              " 15 mg dose but try and use regularly 2-3 times per day </br></br></br></br>Follow up arrangements</br></br> I will organise ultrasound of the abdomen and physiotherapy at the Belsay Clinic; I will be in touch by telephone with Mr Smith when the results of his bloods and ultrasound come through. I also note an echo has already been arranged. </br></br></br></br>For Primary care </br></br>Medication change as above </br></br></br></br>Thank you for referring Mr Smith who attended for a face-to-face assessment at the Belsay Clinic accompanied by his niece today. He gives a history of poor mobility and falls; both these problems are longstanding and indeed he was assessed at the Belsay clinic by my colleague Dr Boyle back in 2019 and had a course of physiotherapy at the time. More recently he has lost confidence, his balance is worse and he has fallen more. He is clear that the lack of mobility is his greatest frustration; he is housebound unless he can be accompanied out of the house by his niece and even then he gets out only in a wheelchair. He thinks that a combination of things are stopping him being more mobile: he feels that he lacks strength, has a fear of falling and also has \n",
              "<mark class=\"entity\" style=\"background: #ddd; padding: 0.45em 0.6em; margin: 0 0.25em; line-height: 1; border-radius: 0.35em;\">\n",
              "    pain\n",
              "    <span style=\"font-size: 0.8em; font-weight: bold; line-height: 1; border-radius: 0.35em; vertical-align: middle; margin-left: 0.5rem\">DISEASE</span>\n",
              "</mark>\n",
              " in the front and back of his legs. This is worse at night and keeps him awake at times. His last fall was two months ago. He notes feeling unsteady on standing but on close questioning this sensation did not appear to be consistent with \n",
              "<mark class=\"entity\" style=\"background: #ddd; padding: 0.45em 0.6em; margin: 0 0.25em; line-height: 1; border-radius: 0.35em;\">\n",
              "    vertigo\n",
              "    <span style=\"font-size: 0.8em; font-weight: bold; line-height: 1; border-radius: 0.35em; vertical-align: middle; margin-left: 0.5rem\">DISEASE</span>\n",
              "</mark>\n",
              ". </br></br>He also complains of \n",
              "<mark class=\"entity\" style=\"background: #ddd; padding: 0.45em 0.6em; margin: 0 0.25em; line-height: 1; border-radius: 0.35em;\">\n",
              "    pain\n",
              "    <span style=\"font-size: 0.8em; font-weight: bold; line-height: 1; border-radius: 0.35em; vertical-align: middle; margin-left: 0.5rem\">DISEASE</span>\n",
              "</mark>\n",
              " across her shoulders starting in the right arm and going across the shoulders to the left arm. This has been present for about six months and is not related to exertion. It is no worse in the morning and he does not feel particularly stiff. He also describes stabbing \n",
              "<mark class=\"entity\" style=\"background: #ddd; padding: 0.45em 0.6em; margin: 0 0.25em; line-height: 1; border-radius: 0.35em;\">\n",
              "    pain\n",
              "    <span style=\"font-size: 0.8em; font-weight: bold; line-height: 1; border-radius: 0.35em; vertical-align: middle; margin-left: 0.5rem\">DISEASE</span>\n",
              "</mark>\n",
              " over his right eye that then migrates over the top of his head. This does not seem to be related to stressful events. He has lost a considerable amount of weight - 8kg from March to August this year, and another five kg since as his weight in clinic today was 71.5 kg. His \n",
              "<mark class=\"entity\" style=\"background: #ddd; padding: 0.45em 0.6em; margin: 0 0.25em; line-height: 1; border-radius: 0.35em;\">\n",
              "    appetite\n",
              "    <span style=\"font-size: 0.8em; font-weight: bold; line-height: 1; border-radius: 0.35em; vertical-align: middle; margin-left: 0.5rem\">CHEMICAL</span>\n",
              "</mark>\n",
              " is not as good as it usually is but he denies \n",
              "<mark class=\"entity\" style=\"background: #ddd; padding: 0.45em 0.6em; margin: 0 0.25em; line-height: 1; border-radius: 0.35em;\">\n",
              "    nausea or vomiting\n",
              "    <span style=\"font-size: 0.8em; font-weight: bold; line-height: 1; border-radius: 0.35em; vertical-align: middle; margin-left: 0.5rem\">DISEASE</span>\n",
              "</mark>\n",
              "; he avoids \n",
              "<mark class=\"entity\" style=\"background: #ddd; padding: 0.45em 0.6em; margin: 0 0.25em; line-height: 1; border-radius: 0.35em;\">\n",
              "    constipation\n",
              "    <span style=\"font-size: 0.8em; font-weight: bold; line-height: 1; border-radius: 0.35em; vertical-align: middle; margin-left: 0.5rem\">DISEASE</span>\n",
              "</mark>\n",
              " by taking laxatives. He does not complain of \n",
              "<mark class=\"entity\" style=\"background: #ddd; padding: 0.45em 0.6em; margin: 0 0.25em; line-height: 1; border-radius: 0.35em;\">\n",
              "    toothache\n",
              "    <span style=\"font-size: 0.8em; font-weight: bold; line-height: 1; border-radius: 0.35em; vertical-align: middle; margin-left: 0.5rem\">DISEASE</span>\n",
              "</mark>\n",
              ", does not choke on food or drink and says that he eats reasonably well. He has seen a dietitian. He complains of occasional \n",
              "<mark class=\"entity\" style=\"background: #ddd; padding: 0.45em 0.6em; margin: 0 0.25em; line-height: 1; border-radius: 0.35em;\">\n",
              "    breathlessness\n",
              "    <span style=\"font-size: 0.8em; font-weight: bold; line-height: 1; border-radius: 0.35em; vertical-align: middle; margin-left: 0.5rem\">DISEASE</span>\n",
              "</mark>\n",
              " and \n",
              "<mark class=\"entity\" style=\"background: #ddd; padding: 0.45em 0.6em; margin: 0 0.25em; line-height: 1; border-radius: 0.35em;\">\n",
              "    cough\n",
              "    <span style=\"font-size: 0.8em; font-weight: bold; line-height: 1; border-radius: 0.35em; vertical-align: middle; margin-left: 0.5rem\">DISEASE</span>\n",
              "</mark>\n",
              " at night and brings up a small quantity of \n",
              "<mark class=\"entity\" style=\"background: #ddd; padding: 0.45em 0.6em; margin: 0 0.25em; line-height: 1; border-radius: 0.35em;\">\n",
              "    phlegm\n",
              "    <span style=\"font-size: 0.8em; font-weight: bold; line-height: 1; border-radius: 0.35em; vertical-align: middle; margin-left: 0.5rem\">DISEASE</span>\n",
              "</mark>\n",
              " but this is little changed. He has not noticed any blood in his stools. He complains of a \n",
              "<mark class=\"entity\" style=\"background: #ddd; padding: 0.45em 0.6em; margin: 0 0.25em; line-height: 1; border-radius: 0.35em;\">\n",
              "    rash\n",
              "    <span style=\"font-size: 0.8em; font-weight: bold; line-height: 1; border-radius: 0.35em; vertical-align: middle; margin-left: 0.5rem\">DISEASE</span>\n",
              "</mark>\n",
              " on his legs, more on the right than the left, and that her legs are often cool. He notes that this \n",
              "<mark class=\"entity\" style=\"background: #ddd; padding: 0.45em 0.6em; margin: 0 0.25em; line-height: 1; border-radius: 0.35em;\">\n",
              "    rash\n",
              "    <span style=\"font-size: 0.8em; font-weight: bold; line-height: 1; border-radius: 0.35em; vertical-align: middle; margin-left: 0.5rem\">DISEASE</span>\n",
              "</mark>\n",
              " has been present for at least 10 years and I also note recent vascular duplex studies that suggest good arterial flow in the legs. He has urinary frequency and is often not aware of when he needs to go to the loo; he also complains of a few minutes of \n",
              "<mark class=\"entity\" style=\"background: #ddd; padding: 0.45em 0.6em; margin: 0 0.25em; line-height: 1; border-radius: 0.35em;\">\n",
              "    crampy\n",
              "    <span style=\"font-size: 0.8em; font-weight: bold; line-height: 1; border-radius: 0.35em; vertical-align: middle; margin-left: 0.5rem\">DISEASE</span>\n",
              "</mark>\n",
              " lower \n",
              "<mark class=\"entity\" style=\"background: #ddd; padding: 0.45em 0.6em; margin: 0 0.25em; line-height: 1; border-radius: 0.35em;\">\n",
              "    abdominal pain\n",
              "    <span style=\"font-size: 0.8em; font-weight: bold; line-height: 1; border-radius: 0.35em; vertical-align: middle; margin-left: 0.5rem\">DISEASE</span>\n",
              "</mark>\n",
              " after micturition. Perhaps unsurprisingly he is somewhat low in mood but still enjoys going out and seeing people. He denies suicidal \n",
              "<mark class=\"entity\" style=\"background: #ddd; padding: 0.45em 0.6em; margin: 0 0.25em; line-height: 1; border-radius: 0.35em;\">\n",
              "    ideation\n",
              "    <span style=\"font-size: 0.8em; font-weight: bold; line-height: 1; border-radius: 0.35em; vertical-align: middle; margin-left: 0.5rem\">DISEASE</span>\n",
              "</mark>\n",
              " or early morning waking. He admits that he tends to live in the past more nowadays. He does not complain of any subjective memory problems. </br></br>On examination, he was alert and engaged well with the consultation. There was no \n",
              "<mark class=\"entity\" style=\"background: #ddd; padding: 0.45em 0.6em; margin: 0 0.25em; line-height: 1; border-radius: 0.35em;\">\n",
              "    jaundice\n",
              "    <span style=\"font-size: 0.8em; font-weight: bold; line-height: 1; border-radius: 0.35em; vertical-align: middle; margin-left: 0.5rem\">DISEASE</span>\n",
              "</mark>\n",
              ", \n",
              "<mark class=\"entity\" style=\"background: #ddd; padding: 0.45em 0.6em; margin: 0 0.25em; line-height: 1; border-radius: 0.35em;\">\n",
              "    anaemia\n",
              "    <span style=\"font-size: 0.8em; font-weight: bold; line-height: 1; border-radius: 0.35em; vertical-align: middle; margin-left: 0.5rem\">DISEASE</span>\n",
              "</mark>\n",
              ", \n",
              "<mark class=\"entity\" style=\"background: #ddd; padding: 0.45em 0.6em; margin: 0 0.25em; line-height: 1; border-radius: 0.35em;\">\n",
              "    cyanosis\n",
              "    <span style=\"font-size: 0.8em; font-weight: bold; line-height: 1; border-radius: 0.35em; vertical-align: middle; margin-left: 0.5rem\">DISEASE</span>\n",
              "</mark>\n",
              ", \n",
              "<mark class=\"entity\" style=\"background: #ddd; padding: 0.45em 0.6em; margin: 0 0.25em; line-height: 1; border-radius: 0.35em;\">\n",
              "    clubbing\n",
              "    <span style=\"font-size: 0.8em; font-weight: bold; line-height: 1; border-radius: 0.35em; vertical-align: middle; margin-left: 0.5rem\">DISEASE</span>\n",
              "</mark>\n",
              " or \n",
              "<mark class=\"entity\" style=\"background: #ddd; padding: 0.45em 0.6em; margin: 0 0.25em; line-height: 1; border-radius: 0.35em;\">\n",
              "    lymphadenopathy\n",
              "    <span style=\"font-size: 0.8em; font-weight: bold; line-height: 1; border-radius: 0.35em; vertical-align: middle; margin-left: 0.5rem\">DISEASE</span>\n",
              "</mark>\n",
              ". There was a confluent discolouration on both lower legs which was cool to the touch, not raised or tender and was not blanching. Similar changes were seen above the knees but looked more petechial in nature. Heart sounds were normal, JVP was not raised and the chest was clear. Abdominal examination revealed a 2cm liver edge but no \n",
              "<mark class=\"entity\" style=\"background: #ddd; padding: 0.45em 0.6em; margin: 0 0.25em; line-height: 1; border-radius: 0.35em;\">\n",
              "    ascites\n",
              "    <span style=\"font-size: 0.8em; font-weight: bold; line-height: 1; border-radius: 0.35em; vertical-align: middle; margin-left: 0.5rem\">DISEASE</span>\n",
              "</mark>\n",
              " or masses. There was an old scar noted on his left upper arm where a \n",
              "<mark class=\"entity\" style=\"background: #ddd; padding: 0.45em 0.6em; margin: 0 0.25em; line-height: 1; border-radius: 0.35em;\">\n",
              "    basal cell carcinoma\n",
              "    <span style=\"font-size: 0.8em; font-weight: bold; line-height: 1; border-radius: 0.35em; vertical-align: middle; margin-left: 0.5rem\">DISEASE</span>\n",
              "</mark>\n",
              " has been removed previously. He was mildly tender across the shoulders and in the thoracic paraspinal muscles; \n",
              "<mark class=\"entity\" style=\"background: #ddd; padding: 0.45em 0.6em; margin: 0 0.25em; line-height: 1; border-radius: 0.35em;\">\n",
              "    tenderness\n",
              "    <span style=\"font-size: 0.8em; font-weight: bold; line-height: 1; border-radius: 0.35em; vertical-align: middle; margin-left: 0.5rem\">DISEASE</span>\n",
              "</mark>\n",
              " was not confined to the spine. He was able to raise her arms above her head. Neurological examination revealed normal tone, power and coordination. Cranial nerve examination was normal with no \n",
              "<mark class=\"entity\" style=\"background: #ddd; padding: 0.45em 0.6em; margin: 0 0.25em; line-height: 1; border-radius: 0.35em;\">\n",
              "    nystagmus\n",
              "    <span style=\"font-size: 0.8em; font-weight: bold; line-height: 1; border-radius: 0.35em; vertical-align: middle; margin-left: 0.5rem\">DISEASE</span>\n",
              "</mark>\n",
              ". He was able to rise unaided from a chair quite quickly but was very reluctant to take a step forward. However he could walk a few paces with support from one person albeit unsteadily. There was no bradykinesia or \n",
              "<mark class=\"entity\" style=\"background: #ddd; padding: 0.45em 0.6em; margin: 0 0.25em; line-height: 1; border-radius: 0.35em;\">\n",
              "    tremor\n",
              "    <span style=\"font-size: 0.8em; font-weight: bold; line-height: 1; border-radius: 0.35em; vertical-align: middle; margin-left: 0.5rem\">DISEASE</span>\n",
              "</mark>\n",
              " noted. </br></br>His SarcScreen revealed a \n",
              "<mark class=\"entity\" style=\"background: #ddd; padding: 0.45em 0.6em; margin: 0 0.25em; line-height: 1; border-radius: 0.35em;\">\n",
              "    SARC-F\n",
              "    <span style=\"font-size: 0.8em; font-weight: bold; line-height: 1; border-radius: 0.35em; vertical-align: middle; margin-left: 0.5rem\">CHEMICAL</span>\n",
              "</mark>\n",
              " score of 10/10, and Fried frailty score of 2/5 denoting prefrailty. He was unable to attempt the 3m walk but his maximum grip strength was 22 kg. GDS was 10/15 and MMSE was 28/30. An active stand showed a blood pressure of 141/85 with no significant drop although he was unsteady on standing. His 12 lead electrocardiogram showed \n",
              "<mark class=\"entity\" style=\"background: #ddd; padding: 0.45em 0.6em; margin: 0 0.25em; line-height: 1; border-radius: 0.35em;\">\n",
              "    atrial fibrillation\n",
              "    <span style=\"font-size: 0.8em; font-weight: bold; line-height: 1; border-radius: 0.35em; vertical-align: middle; margin-left: 0.5rem\">DISEASE</span>\n",
              "</mark>\n",
              " at 80 per minute with nil else of note. </br></br>There are clearly a complex set of interlocking problems here. He is rather stronger than he thinks he is on although his balance is poor, I think it is a lack of confidence rather than a lack of strength that is preventing him from mobilising more. He accepts this and is happy for us to refer to physiotherapy for strength and balance training which I think will help build his confidence. His mood is low but not sufficiently low to denote \n",
              "<mark class=\"entity\" style=\"background: #ddd; padding: 0.45em 0.6em; margin: 0 0.25em; line-height: 1; border-radius: 0.35em;\">\n",
              "    depression\n",
              "    <span style=\"font-size: 0.8em; font-weight: bold; line-height: 1; border-radius: 0.35em; vertical-align: middle; margin-left: 0.5rem\">DISEASE</span>\n",
              "</mark>\n",
              " and I think if we can improve his mobility, his mood will improve. Some of his \n",
              "<mark class=\"entity\" style=\"background: #ddd; padding: 0.45em 0.6em; margin: 0 0.25em; line-height: 1; border-radius: 0.35em;\">\n",
              "    chronic back pain\n",
              "    <span style=\"font-size: 0.8em; font-weight: bold; line-height: 1; border-radius: 0.35em; vertical-align: middle; margin-left: 0.5rem\">DISEASE</span>\n",
              "</mark>\n",
              " is undoubtedly due to the degenerative changes seen on MRI and I understand that surgery is not going to be an option for this. I would be reluctant to change her painkillers much at the moment though given that he is already on antiepileptic medications and so adding in other agents for \n",
              "<mark class=\"entity\" style=\"background: #ddd; padding: 0.45em 0.6em; margin: 0 0.25em; line-height: 1; border-radius: 0.35em;\">\n",
              "    chronic pain\n",
              "    <span style=\"font-size: 0.8em; font-weight: bold; line-height: 1; border-radius: 0.35em; vertical-align: middle; margin-left: 0.5rem\">DISEASE</span>\n",
              "</mark>\n",
              " may not help much but might interact with these medications. </br></br>We discussed the fine balance between benefits and side effects of all of these medications today. What would perhaps be helpful though is to reduce the \n",
              "<mark class=\"entity\" style=\"background: #ddd; padding: 0.45em 0.6em; margin: 0 0.25em; line-height: 1; border-radius: 0.35em;\">\n",
              "    codeine\n",
              "    <span style=\"font-size: 0.8em; font-weight: bold; line-height: 1; border-radius: 0.35em; vertical-align: middle; margin-left: 0.5rem\">CHEMICAL</span>\n",
              "</mark>\n",
              " to 15 mg so that he can try and take this more regularly; he finds that the 30 mg dose makes him feel very unsteady on her feet. Having said all of this, it is clear that the blood tests suggest some issues that require further investigation. His \n",
              "<mark class=\"entity\" style=\"background: #ddd; padding: 0.45em 0.6em; margin: 0 0.25em; line-height: 1; border-radius: 0.35em;\">\n",
              "    breathlessness\n",
              "    <span style=\"font-size: 0.8em; font-weight: bold; line-height: 1; border-radius: 0.35em; vertical-align: middle; margin-left: 0.5rem\">DISEASE</span>\n",
              "</mark>\n",
              " on exertion and raised BNP suggest that investigation for \n",
              "<mark class=\"entity\" style=\"background: #ddd; padding: 0.45em 0.6em; margin: 0 0.25em; line-height: 1; border-radius: 0.35em;\">\n",
              "    LV systolic dysfunction\n",
              "    <span style=\"font-size: 0.8em; font-weight: bold; line-height: 1; border-radius: 0.35em; vertical-align: middle; margin-left: 0.5rem\">DISEASE</span>\n",
              "</mark>\n",
              " causing \n",
              "<mark class=\"entity\" style=\"background: #ddd; padding: 0.45em 0.6em; margin: 0 0.25em; line-height: 1; border-radius: 0.35em;\">\n",
              "    heart failure\n",
              "    <span style=\"font-size: 0.8em; font-weight: bold; line-height: 1; border-radius: 0.35em; vertical-align: middle; margin-left: 0.5rem\">DISEASE</span>\n",
              "</mark>\n",
              " would be beneficial and I note that he has already had an echo requested. His \n",
              "<mark class=\"entity\" style=\"background: #ddd; padding: 0.45em 0.6em; margin: 0 0.25em; line-height: 1; border-radius: 0.35em;\">\n",
              "    weight loss\n",
              "    <span style=\"font-size: 0.8em; font-weight: bold; line-height: 1; border-radius: 0.35em; vertical-align: middle; margin-left: 0.5rem\">DISEASE</span>\n",
              "</mark>\n",
              " is quite dramatic and this, together with the admittedly longstanding \n",
              "<mark class=\"entity\" style=\"background: #ddd; padding: 0.45em 0.6em; margin: 0 0.25em; line-height: 1; border-radius: 0.35em;\">\n",
              "    rash\n",
              "    <span style=\"font-size: 0.8em; font-weight: bold; line-height: 1; border-radius: 0.35em; vertical-align: middle; margin-left: 0.5rem\">DISEASE</span>\n",
              "</mark>\n",
              " on his legs, \n",
              "<mark class=\"entity\" style=\"background: #ddd; padding: 0.45em 0.6em; margin: 0 0.25em; line-height: 1; border-radius: 0.35em;\">\n",
              "    anaemia\n",
              "    <span style=\"font-size: 0.8em; font-weight: bold; line-height: 1; border-radius: 0.35em; vertical-align: middle; margin-left: 0.5rem\">DISEASE</span>\n",
              "</mark>\n",
              ", raised ESR and high platelet counts suggest that there is an \n",
              "<mark class=\"entity\" style=\"background: #ddd; padding: 0.45em 0.6em; margin: 0 0.25em; line-height: 1; border-radius: 0.35em;\">\n",
              "    inflammatory disorder\n",
              "    <span style=\"font-size: 0.8em; font-weight: bold; line-height: 1; border-radius: 0.35em; vertical-align: middle; margin-left: 0.5rem\">DISEASE</span>\n",
              "</mark>\n",
              " present. Whether this is autoimmune or due to another aetiology is unclear. I have requested bloods today including repeat U&amp;Es, liver function tests, \n",
              "<mark class=\"entity\" style=\"background: #ddd; padding: 0.45em 0.6em; margin: 0 0.25em; line-height: 1; border-radius: 0.35em;\">\n",
              "    calcium\n",
              "    <span style=\"font-size: 0.8em; font-weight: bold; line-height: 1; border-radius: 0.35em; vertical-align: middle; margin-left: 0.5rem\">CHEMICAL</span>\n",
              "</mark>\n",
              ", \n",
              "<mark class=\"entity\" style=\"background: #ddd; padding: 0.45em 0.6em; margin: 0 0.25em; line-height: 1; border-radius: 0.35em;\">\n",
              "    myeloma\n",
              "    <span style=\"font-size: 0.8em; font-weight: bold; line-height: 1; border-radius: 0.35em; vertical-align: middle; margin-left: 0.5rem\">DISEASE</span>\n",
              "</mark>\n",
              " screen, CRP and ESR, autoimmune screen, \n",
              "<mark class=\"entity\" style=\"background: #ddd; padding: 0.45em 0.6em; margin: 0 0.25em; line-height: 1; border-radius: 0.35em;\">\n",
              "    creatine\n",
              "    <span style=\"font-size: 0.8em; font-weight: bold; line-height: 1; border-radius: 0.35em; vertical-align: middle; margin-left: 0.5rem\">CHEMICAL</span>\n",
              "</mark>\n",
              " kinase and \n",
              "<mark class=\"entity\" style=\"background: #ddd; padding: 0.45em 0.6em; margin: 0 0.25em; line-height: 1; border-radius: 0.35em;\">\n",
              "    iron\n",
              "    <span style=\"font-size: 0.8em; font-weight: bold; line-height: 1; border-radius: 0.35em; vertical-align: middle; margin-left: 0.5rem\">CHEMICAL</span>\n",
              "</mark>\n",
              " studies. I have also requested an ultrasound of the abdomen to investigate the liver edge that I could feel; I note that a recent \n",
              "<mark class=\"entity\" style=\"background: #ddd; padding: 0.45em 0.6em; margin: 0 0.25em; line-height: 1; border-radius: 0.35em;\">\n",
              "    chest x-ray showed normal heart size and clear lung fields\n",
              "    <span style=\"font-size: 0.8em; font-weight: bold; line-height: 1; border-radius: 0.35em; vertical-align: middle; margin-left: 0.5rem\">DISEASE</span>\n",
              "</mark>\n",
              ". Despite the possible finding of horizontal \n",
              "<mark class=\"entity\" style=\"background: #ddd; padding: 0.45em 0.6em; margin: 0 0.25em; line-height: 1; border-radius: 0.35em;\">\n",
              "    nystagmus\n",
              "    <span style=\"font-size: 0.8em; font-weight: bold; line-height: 1; border-radius: 0.35em; vertical-align: middle; margin-left: 0.5rem\">DISEASE</span>\n",
              "</mark>\n",
              " by Community Nursing colleagues I could not find any evidence of this today and I don’t think we need to progress to brain scanning at present. </br></br>Once we have got the blood and ultrasound results, I will phone Mr Smith again and discuss the best way forward. It may be that if we do not find another cause for his inflammatory condition, a trial of \n",
              "<mark class=\"entity\" style=\"background: #ddd; padding: 0.45em 0.6em; margin: 0 0.25em; line-height: 1; border-radius: 0.35em;\">\n",
              "    steroids\n",
              "    <span style=\"font-size: 0.8em; font-weight: bold; line-height: 1; border-radius: 0.35em; vertical-align: middle; margin-left: 0.5rem\">CHEMICAL</span>\n",
              "</mark>\n",
              " might be warranted as some of the features including the shoulder discomfort could be consistent with \n",
              "<mark class=\"entity\" style=\"background: #ddd; padding: 0.45em 0.6em; margin: 0 0.25em; line-height: 1; border-radius: 0.35em;\">\n",
              "    polymyalgia rheumatica\n",
              "    <span style=\"font-size: 0.8em; font-weight: bold; line-height: 1; border-radius: 0.35em; vertical-align: middle; margin-left: 0.5rem\">DISEASE</span>\n",
              "</mark>\n",
              ". I have explained this today but also explained that I think we need to investigate further before diving in with treatment in case this is not the diagnosis. </br></br>Yours sincerely</br></br>Professor Miles Witham</br></br>Consultant Geriatrician</div></span>"
            ]
          },
          "metadata": {}
        }
      ],
      "source": [
        "#Visualise entities in Letter A\n",
        "displacy.render(doc_A, style='ent', jupyter = True)"
      ]
    },
    {
      "cell_type": "markdown",
      "metadata": {
        "id": "_pxrnB-mTxir"
      },
      "source": [
        "# Build PhraseMatcher"
      ]
    },
    {
      "cell_type": "code",
      "source": [
        "#Import crowd-sourced list of sarcopenia terms\n",
        "sarcopenia_terms_list = pd.read_csv(\"/content/drive/MyDrive/NLP projects/weakness terms/list_of_sarcopenia_terms170622.csv\")\n",
        "print(sarcopenia_terms_list)"
      ],
      "metadata": {
        "id": "XKcY28MNPMTT",
        "colab": {
          "base_uri": "https://localhost:8080/"
        },
        "outputId": "6320c079-c046-46f8-d360-69f8ca453879"
      },
      "execution_count": 16,
      "outputs": [
        {
          "output_type": "stream",
          "name": "stdout",
          "text": [
            "             Muscle weakness\n",
            "0                       Weak\n",
            "1               Uses a stick\n",
            "2       Uses a walking stick\n",
            "3               Uses a frame\n",
            "4        Uses a zimmer frame\n",
            "..                       ...\n",
            "85              Cannot stand\n",
            "86           Unable to stand\n",
            "87       No rehab potential \n",
            "88  Limited rehab potential \n",
            "89           Mechanical fall\n",
            "\n",
            "[90 rows x 1 columns]\n"
          ]
        }
      ]
    },
    {
      "cell_type": "code",
      "source": [
        "#Convert the above list to a python list: \n",
        "sarcopenia_terms_list = sarcopenia_terms_list[\"Muscle weakness\"].tolist()\n",
        "print(sarcopenia_terms_list)"
      ],
      "metadata": {
        "id": "WptLxyuQTmRV",
        "colab": {
          "base_uri": "https://localhost:8080/"
        },
        "outputId": "8b715c66-2d91-4edf-bfbd-ad293f8bfa5d"
      },
      "execution_count": 17,
      "outputs": [
        {
          "output_type": "stream",
          "name": "stdout",
          "text": [
            "['Weak', 'Uses a stick', 'Uses a walking stick', 'Uses a frame', 'Uses a zimmer frame', 'Uses a walker', 'Uses walking aid', 'Furniture walks', 'Difficulty mobilising', 'Difficulty walking', 'Difficulty standing', 'Difficulty climbing stairs', 'Cannot climb stairs', 'Bedbound', 'Hoist transfer', 'Slowed up', 'Limited mobility', 'Needs assistance', 'Difficulty carrying', 'Multiple falls', 'Fallen x times', 'Mob with AO2/1', 'Transfer with AO2/1', 'Sara stedy', 'Rotastand', 'WZF (wheeled zimmer frame)', 'ZF (zimmer frame)', '4WW', '3WW', 'Delta frame (3WW)', 'POC', 'Raised toilet seat', 'Bed lever', 'Combined toilet seat and frame', 'Skandia', 'Mowbray', 'Free standing toilet frame', 'Etwell trolley', 'Kitchen trolley', 'Riser recliner', 'Raised chair ', 'Commode', 'Mobile commode', 'Stairlift', 'Stair assessment', 'Off legs', 'FLOF', 'multifactorial fall', 'CCA or pendant alarm', 'fractured pubic rami/ramus', 'rami/ramus #', '#NOF', 'Fractured NOF', 'Fractured neck of femur', 'Struggling on stairs', 'Deteriorating/deteriorated mobility', 'Frail/frailty', 'downstairs living', 'CGA', 'Comprehensive geriatric assessment', 'Chairbound', 'Deconditioned', 'Mobility declined', 'Has carers', 'Respite care', 'Gaunt', 'Frail', 'Muscle wasting', 'Cachectic', 'Muscle atrophy', 'Loss of function', 'Difficulty with ADL', 'dependent for care', 'Fragile', 'Fragility fracture', 'Immobile', 'Anorexia', 'Reduced strength', 'Limited strength', 'Quadriceps wasting', 'Low muscle bulk', 'loss of bulk', 'loss of quad* bulk', 'Stuck on toilet', 'Loss of power', 'Cannot stand', 'Unable to stand', 'No rehab potential ', 'Limited rehab potential ', 'Mechanical fall']\n"
          ]
        }
      ]
    },
    {
      "cell_type": "code",
      "source": [
        "#Add \"muscle weakness\" which has been missed from list\n",
        "sarcopenia_terms_list.append(\"muscle weakness\")\n",
        "print(sarcopenia_terms_list)"
      ],
      "metadata": {
        "id": "yGXXbvYXVKv1",
        "colab": {
          "base_uri": "https://localhost:8080/"
        },
        "outputId": "1d0337aa-940c-4994-db7d-8b2cb817d7eb"
      },
      "execution_count": 18,
      "outputs": [
        {
          "output_type": "stream",
          "name": "stdout",
          "text": [
            "['Weak', 'Uses a stick', 'Uses a walking stick', 'Uses a frame', 'Uses a zimmer frame', 'Uses a walker', 'Uses walking aid', 'Furniture walks', 'Difficulty mobilising', 'Difficulty walking', 'Difficulty standing', 'Difficulty climbing stairs', 'Cannot climb stairs', 'Bedbound', 'Hoist transfer', 'Slowed up', 'Limited mobility', 'Needs assistance', 'Difficulty carrying', 'Multiple falls', 'Fallen x times', 'Mob with AO2/1', 'Transfer with AO2/1', 'Sara stedy', 'Rotastand', 'WZF (wheeled zimmer frame)', 'ZF (zimmer frame)', '4WW', '3WW', 'Delta frame (3WW)', 'POC', 'Raised toilet seat', 'Bed lever', 'Combined toilet seat and frame', 'Skandia', 'Mowbray', 'Free standing toilet frame', 'Etwell trolley', 'Kitchen trolley', 'Riser recliner', 'Raised chair ', 'Commode', 'Mobile commode', 'Stairlift', 'Stair assessment', 'Off legs', 'FLOF', 'multifactorial fall', 'CCA or pendant alarm', 'fractured pubic rami/ramus', 'rami/ramus #', '#NOF', 'Fractured NOF', 'Fractured neck of femur', 'Struggling on stairs', 'Deteriorating/deteriorated mobility', 'Frail/frailty', 'downstairs living', 'CGA', 'Comprehensive geriatric assessment', 'Chairbound', 'Deconditioned', 'Mobility declined', 'Has carers', 'Respite care', 'Gaunt', 'Frail', 'Muscle wasting', 'Cachectic', 'Muscle atrophy', 'Loss of function', 'Difficulty with ADL', 'dependent for care', 'Fragile', 'Fragility fracture', 'Immobile', 'Anorexia', 'Reduced strength', 'Limited strength', 'Quadriceps wasting', 'Low muscle bulk', 'loss of bulk', 'loss of quad* bulk', 'Stuck on toilet', 'Loss of power', 'Cannot stand', 'Unable to stand', 'No rehab potential ', 'Limited rehab potential ', 'Mechanical fall', 'muscle weakness']\n"
          ]
        }
      ]
    },
    {
      "cell_type": "code",
      "source": [
        "#Now convert all items in the list to the lower case form\n",
        "for item in range(len(sarcopenia_terms_list)):\n",
        "  sarcopenia_terms_list[item] = sarcopenia_terms_list[item].lower()\n",
        "\n",
        "print(sarcopenia_terms_list)"
      ],
      "metadata": {
        "id": "d_WCJRvdVkRx",
        "colab": {
          "base_uri": "https://localhost:8080/"
        },
        "outputId": "67992ab2-4afb-47b4-cd28-36808f90cae5"
      },
      "execution_count": 19,
      "outputs": [
        {
          "output_type": "stream",
          "name": "stdout",
          "text": [
            "['weak', 'uses a stick', 'uses a walking stick', 'uses a frame', 'uses a zimmer frame', 'uses a walker', 'uses walking aid', 'furniture walks', 'difficulty mobilising', 'difficulty walking', 'difficulty standing', 'difficulty climbing stairs', 'cannot climb stairs', 'bedbound', 'hoist transfer', 'slowed up', 'limited mobility', 'needs assistance', 'difficulty carrying', 'multiple falls', 'fallen x times', 'mob with ao2/1', 'transfer with ao2/1', 'sara stedy', 'rotastand', 'wzf (wheeled zimmer frame)', 'zf (zimmer frame)', '4ww', '3ww', 'delta frame (3ww)', 'poc', 'raised toilet seat', 'bed lever', 'combined toilet seat and frame', 'skandia', 'mowbray', 'free standing toilet frame', 'etwell trolley', 'kitchen trolley', 'riser recliner', 'raised chair ', 'commode', 'mobile commode', 'stairlift', 'stair assessment', 'off legs', 'flof', 'multifactorial fall', 'cca or pendant alarm', 'fractured pubic rami/ramus', 'rami/ramus #', '#nof', 'fractured nof', 'fractured neck of femur', 'struggling on stairs', 'deteriorating/deteriorated mobility', 'frail/frailty', 'downstairs living', 'cga', 'comprehensive geriatric assessment', 'chairbound', 'deconditioned', 'mobility declined', 'has carers', 'respite care', 'gaunt', 'frail', 'muscle wasting', 'cachectic', 'muscle atrophy', 'loss of function', 'difficulty with adl', 'dependent for care', 'fragile', 'fragility fracture', 'immobile', 'anorexia', 'reduced strength', 'limited strength', 'quadriceps wasting', 'low muscle bulk', 'loss of bulk', 'loss of quad* bulk', 'stuck on toilet', 'loss of power', 'cannot stand', 'unable to stand', 'no rehab potential ', 'limited rehab potential ', 'mechanical fall', 'muscle weakness']\n"
          ]
        }
      ]
    },
    {
      "cell_type": "code",
      "execution_count": 20,
      "metadata": {
        "id": "b5saekuLnGoV"
      },
      "outputs": [],
      "source": [
        "#Define a list of terms indicative of muscle weakness\n",
        "weakness_list = [\"muscle weakness\", \"weak\", \"uses a stick\", \"uses a walking stick\", \n",
        "                    \"uses a frame\", \"uses a zimmer frame\", \"uses a walker\", \"uses a walking aid\",\n",
        "                    \"furniture walks\", \"difficulty mobilising\", \"difficulty walking\", \"wheelchair\"\n",
        "                    \"difficulty standing\", \"difficulty climbing stairs\", \"cannot climb stairs\", \"housebound\",\n",
        "                    \"bedbound\", \"hoist transfer\", \"slowed up\", \"limited mobility\", \"poor mobility\"\n",
        "                    \"needs assistance\", \"difficulty carrying\", \"falls\", \"fallen\",\n",
        "                    \"found on floor\", \"long lie\"]"
      ]
    },
    {
      "cell_type": "code",
      "source": [
        "#append \"weakness list\" with crowd-sourced \"Sarcopenia_terms_list\"\n",
        "weakness_list.extend(sarcopenia_terms_list)\n",
        "print(weakness_list)"
      ],
      "metadata": {
        "id": "2-zfFmiYfQUI",
        "colab": {
          "base_uri": "https://localhost:8080/"
        },
        "outputId": "6ee45680-9547-4974-bd39-fdba134de53a"
      },
      "execution_count": 21,
      "outputs": [
        {
          "output_type": "stream",
          "name": "stdout",
          "text": [
            "['muscle weakness', 'weak', 'uses a stick', 'uses a walking stick', 'uses a frame', 'uses a zimmer frame', 'uses a walker', 'uses a walking aid', 'furniture walks', 'difficulty mobilising', 'difficulty walking', 'wheelchairdifficulty standing', 'difficulty climbing stairs', 'cannot climb stairs', 'housebound', 'bedbound', 'hoist transfer', 'slowed up', 'limited mobility', 'poor mobilityneeds assistance', 'difficulty carrying', 'falls', 'fallen', 'found on floor', 'long lie', 'weak', 'uses a stick', 'uses a walking stick', 'uses a frame', 'uses a zimmer frame', 'uses a walker', 'uses walking aid', 'furniture walks', 'difficulty mobilising', 'difficulty walking', 'difficulty standing', 'difficulty climbing stairs', 'cannot climb stairs', 'bedbound', 'hoist transfer', 'slowed up', 'limited mobility', 'needs assistance', 'difficulty carrying', 'multiple falls', 'fallen x times', 'mob with ao2/1', 'transfer with ao2/1', 'sara stedy', 'rotastand', 'wzf (wheeled zimmer frame)', 'zf (zimmer frame)', '4ww', '3ww', 'delta frame (3ww)', 'poc', 'raised toilet seat', 'bed lever', 'combined toilet seat and frame', 'skandia', 'mowbray', 'free standing toilet frame', 'etwell trolley', 'kitchen trolley', 'riser recliner', 'raised chair ', 'commode', 'mobile commode', 'stairlift', 'stair assessment', 'off legs', 'flof', 'multifactorial fall', 'cca or pendant alarm', 'fractured pubic rami/ramus', 'rami/ramus #', '#nof', 'fractured nof', 'fractured neck of femur', 'struggling on stairs', 'deteriorating/deteriorated mobility', 'frail/frailty', 'downstairs living', 'cga', 'comprehensive geriatric assessment', 'chairbound', 'deconditioned', 'mobility declined', 'has carers', 'respite care', 'gaunt', 'frail', 'muscle wasting', 'cachectic', 'muscle atrophy', 'loss of function', 'difficulty with adl', 'dependent for care', 'fragile', 'fragility fracture', 'immobile', 'anorexia', 'reduced strength', 'limited strength', 'quadriceps wasting', 'low muscle bulk', 'loss of bulk', 'loss of quad* bulk', 'stuck on toilet', 'loss of power', 'cannot stand', 'unable to stand', 'no rehab potential ', 'limited rehab potential ', 'mechanical fall', 'muscle weakness']\n"
          ]
        }
      ]
    },
    {
      "cell_type": "code",
      "execution_count": 22,
      "metadata": {
        "id": "34esfoNYoe-e",
        "colab": {
          "base_uri": "https://localhost:8080/"
        },
        "outputId": "5df4ac72-97c0-4cb7-f85a-0d4199ae35b6"
      },
      "outputs": [
        {
          "output_type": "stream",
          "name": "stderr",
          "text": [
            "/usr/local/lib/python3.7/dist-packages/scispacy/abbreviation.py:230: UserWarning: [W036] The component 'matcher' does not have any patterns defined.\n",
            "  global_matches = self.global_matcher(doc)\n"
          ]
        }
      ],
      "source": [
        "#Initialize matcher\n",
        "matcher = PhraseMatcher(nlp.vocab)\n",
        "\n",
        "#Apply spaCy nlp pipeline to list of weakness terms\n",
        "weakness_terms = [nlp(i) for i in weakness_list]\n"
      ]
    },
    {
      "cell_type": "code",
      "execution_count": 23,
      "metadata": {
        "id": "AOGEpdwLqwhc"
      },
      "outputs": [],
      "source": [
        "#Add weakness terms to PhraseMatcher\n",
        "matcher.add(\"WEAKNESS TERM\", weakness_terms)"
      ]
    },
    {
      "cell_type": "code",
      "execution_count": 24,
      "metadata": {
        "id": "XBO3RKzXnYv-",
        "colab": {
          "base_uri": "https://localhost:8080/"
        },
        "outputId": "39ff968c-1756-4989-f80b-5a244163fd39"
      },
      "outputs": [
        {
          "output_type": "stream",
          "name": "stderr",
          "text": [
            "/usr/local/lib/python3.7/dist-packages/scispacy/abbreviation.py:230: UserWarning: [W036] The component 'matcher' does not have any patterns defined.\n",
            "  global_matches = self.global_matcher(doc)\n"
          ]
        }
      ],
      "source": [
        "#Add pattern for SARC-F score\n",
        "sarcf_list = [\"SARC-F\", \"SARC F\", \"SARCF\", \"sarc-f\", \"sarc f\", \"Sarc f\", \"Sarc F\", \"Sarc-f\", \"Sarc-F\"]\n",
        "\n",
        "sarcf_terms = [nlp(i) for i in sarcf_list]\n",
        "\n",
        "matcher.add(\"SARC-F\", sarcf_terms)\n"
      ]
    },
    {
      "cell_type": "code",
      "execution_count": 25,
      "metadata": {
        "id": "bXgRUhrsfgDg",
        "colab": {
          "base_uri": "https://localhost:8080/"
        },
        "outputId": "06b9822b-0e98-4e05-d655-c6ad787086ff"
      },
      "outputs": [
        {
          "output_type": "stream",
          "name": "stderr",
          "text": [
            "/usr/local/lib/python3.7/dist-packages/scispacy/abbreviation.py:230: UserWarning: [W036] The component 'matcher' does not have any patterns defined.\n",
            "  global_matches = self.global_matcher(doc)\n"
          ]
        }
      ],
      "source": [
        "#Add pattern for Sarcopenia diagnosis\n",
        "sarcopenia_diagnosis = [\"Sarcopenia\", \"sarcopenia\"]\n",
        "\n",
        "sarcopenia_terms = [nlp(i) for i in sarcopenia_diagnosis]\n",
        "\n",
        "#Add to matcher\n",
        "matcher.add(\"Sarcopenia\", sarcopenia_terms)\n"
      ]
    },
    {
      "cell_type": "code",
      "execution_count": 26,
      "metadata": {
        "id": "tAxIcq7wsXyn",
        "colab": {
          "base_uri": "https://localhost:8080/"
        },
        "outputId": "f4b92de7-795a-47ea-82c6-6e210628a76e"
      },
      "outputs": [
        {
          "output_type": "stream",
          "name": "stdout",
          "text": [
            "Match: WEAKNESS TERM - falls ( Location =  27 28 )\n",
            "Match: WEAKNESS TERM - falls ( Location =  249 250 )\n",
            "Match: WEAKNESS TERM - fallen ( Location =  297 298 )\n",
            "Match: WEAKNESS TERM - housebound ( Location =  315 316 )\n",
            "Match: SARC-F - SARC-F ( Location =  976 977 )\n"
          ]
        }
      ],
      "source": [
        "#Apply matcher to letter A\n",
        "matchesA = matcher(doc_A)\n",
        "\n",
        "for match_id, start, end in matchesA: \n",
        "  span = doc_A[start:end]\n",
        "  match_id_string = nlp.vocab.strings[match_id]\n",
        "  print(\"Match:\",match_id_string, \"-\", span.text, \"( Location = \", start, end, \")\")"
      ]
    },
    {
      "cell_type": "code",
      "execution_count": 27,
      "metadata": {
        "id": "shomA-Lytl07",
        "colab": {
          "base_uri": "https://localhost:8080/"
        },
        "outputId": "eeb0cb4e-dd73-4cd1-c444-6e7c0a02565c"
      },
      "outputs": [
        {
          "output_type": "stream",
          "name": "stdout",
          "text": [
            "Match: Sarcopenia - Sarcopenia ( Location =  37 38 )\n",
            "Match: WEAKNESS TERM - falls ( Location =  172 173 )\n",
            "Match: WEAKNESS TERM - falls ( Location =  203 204 )\n",
            "Match: SARC-F - Sarc-F ( Location =  532 533 )\n",
            "Match: WEAKNESS TERM - falls ( Location =  664 665 )\n",
            "Match: Sarcopenia - sarcopenia ( Location =  675 676 )\n",
            "Match: WEAKNESS TERM - falls ( Location =  720 721 )\n",
            "Match: Sarcopenia - sarcopenia ( Location =  790 791 )\n"
          ]
        }
      ],
      "source": [
        "#Apply matcher to letter B\n",
        "matchesB = matcher(doc_B)\n",
        "\n",
        "for match_id, start, end in matchesB: \n",
        "  span = doc_B[start:end]\n",
        "  match_id_string = nlp.vocab.strings[match_id]\n",
        "  print(\"Match:\",match_id_string, \"-\", span.text, \"( Location = \", start, end, \")\")"
      ]
    },
    {
      "cell_type": "markdown",
      "metadata": {
        "id": "hfvw7osg2w5h"
      },
      "source": [
        "Limited matches from using the PhraseMatcher, rule-based matcher would likely be more sensitive. An expanded list of terms indicating weakness would also be helpful."
      ]
    },
    {
      "cell_type": "markdown",
      "metadata": {
        "id": "5FJl27liID9Z"
      },
      "source": [
        "# Try a rule-based matcher"
      ]
    },
    {
      "cell_type": "code",
      "execution_count": 28,
      "metadata": {
        "id": "qTuMvzHWII7X"
      },
      "outputs": [],
      "source": [
        "#Import rule-based matcher\n",
        "from spacy.matcher import Matcher"
      ]
    },
    {
      "cell_type": "code",
      "execution_count": 29,
      "metadata": {
        "id": "WppaLFUpI56h"
      },
      "outputs": [],
      "source": [
        "#Initialize matcher\n",
        "rb_matcher = Matcher(nlp.vocab)\n",
        "\n",
        "#Add patterns for weakness\n",
        "weakness_pattern = [\n",
        "                    [{\"LEMMA\": \"fall\"}], [{\"LEMMA\": \"weak\"}], [{\"LOWER\": \"housebound\"}], [{\"LOWER\": \"bedbound\"}],\n",
        "                    [{\"LEMMA\": \"use\"}, {\"LOWER\": \"a\", \"OP\": \"?\"}, {\"LEMMA\": \"walk\", \"OP\": \"?\"}, {\"LOWER\": \"stick\"}],\n",
        "                    [{\"LEMMA\": \"use\"}, {\"LOWER\": \"a\", \"OP\": \"?\"}, {\"LEMMA\": \"walk\", \"OP\": \"?\"}, {\"LOWER\": \"zimmer\", \"OP\": \"?\"}, {\"LOWER\": \"frame\"}],\n",
        "                    [{\"LEMMA\": \"use\"}, {\"LOWER\": \"a\", \"OP\": \"?\"}, {\"LEMMA\": \"walk\"}, {\"LOWER\": \"aid\", \"OP\": \"?\"}],\n",
        "                    [{\"LOWER\": \"furniture\"}, {\"LEMMA\": \"walk\"}], [{\"LEMMA\": \"difficult\"}, {\"LEMMA\": \"walk\"}],\n",
        "                    [{\"LEMMA\": \"difficult\"}, {\"LEMMA\": \"mobilise\"}], [{\"LEMMA\": \"difficult\"}, {\"LEMMA\": \"stand\"}],\n",
        "                    [{\"LEMMA\": \"difficult\"}, {\"LOWER\": \"with\", \"OP\": \"?\"}, {\"LEMMA\": \"climb\", \"OP\": \"?\"}, {\"LEMMA\": \"stair\"}],\n",
        "                    [{\"LOWER\": \"cannot\"}, {\"LEMMA\": \"climb\", \"OP\": \"?\"}, {\"LEMMA\": \"stair\"}],\n",
        "                    [{\"LOWER\": \"can't\"}, {\"LEMMA\": \"climb\", \"OP\": \"?\"}, {\"LEMMA\": \"stair\"}],\n",
        "                    [{\"LEMMA\": \"hoist\"}, {\"LEMMA\": \"transfer\"}], [{\"LEMMA\": \"slow\"}, {\"LOWER\": \"up\"}],\n",
        "                    [{\"LEMMA\": \"limit\"}, {\"LOWER\": \"mobility\"}],  [{\"LOWER\": \"poor\"}, {\"LOWER\": \"mobility\"}],\n",
        "                    [{\"LEMMA\": \"need\"}, {\"LEMMA\": \"assist\"}], [{\"LEMMA\": \"require\"}, {\"LEMMA\": \"assist\"}],\n",
        "                    [{\"LEMMA\": \"difficult\"}, {\"LEMMA\": \"carry\"}], [{\"LOWER\": \"found\"}, {\"LOWER\": \"on\"}, {\"LOWER\": \"floor\"}],\n",
        "                    [{\"LOWER\": \"long\"}, {\"LOWER\": \"lie\"}], [{\"LEMMA\": \"lack\"}, {\"LOWER\": \"of\", \"OP\": \"?\"}, {\"LOWER\": \"mobility\"}],\n",
        "                    [{\"LEMMA\": \"lack\"}, {\"LOWER\": \"of\", \"OP\": \"?\"}, {\"LEMMA\": \"strength\"}],\n",
        "                    [{\"LEMMA\": \"mob\"}, {\"LOWER\": \"with\", \"OP\": \"?\"}, {\"LOWER\": \"AO2\"}],\n",
        "                    [{\"LEMMA\": \"mob\"}, {\"LOWER\": \"with\", \"OP\": \"?\"}, {\"LOWER\": \"AO1\"}],\n",
        "                    [{\"LEMMA\": \"transfer\"}, {\"LOWER\": \"with\", \"OP\": \"?\"}, {\"LOWER\": \"AO2\"}],\n",
        "                    [{\"LEMMA\": \"transfer\"}, {\"LOWER\": \"with\", \"OP\": \"?\"}, {\"LOWER\": \"AO1\"}],\n",
        "                    [{\"LOWER\": \"sara stedy\"}], [{\"LOWER\": \"sara-stedy\"}], [{\"LOWER\": \"rotastand\"}],\n",
        "                    [{\"LOWER\": \"wzf\"}], [{\"LOWER\": \"zf\"}], [{\"LOWER\": \"4ww\"}], [{\"LOWER\": \"3ww\"}],\n",
        "                    [{\"LOWER\": \"delta-frame\"}], [{\"LOWER\": \"delta frame\"}], [{\"LOWER\": \"poc\"}], \n",
        "                    [{\"LEMMA\": \"pack\"}, {\"LOWER\": \"of\", \"OP\": \"?\"}, {\"LEMMA\": \"care\"}],\n",
        "                    [{\"LEMMA\": \"raise\"}, {\"LOWER\": \"toilet\", \"OP\": \"?\"}, {\"LOWER\": \"seat\"}],\n",
        "                    [{\"LOWER\": \"bed\"}, {\"LOWER\": \"lever\"}], [{\"LOWER\": \"skandia\"}], [{\"LOWER\": \"mowbray\"}],\n",
        "                    [{\"LOWER\": \"free standing toilet frame\"}], [{\"LOWER\": \"etwell trolley\"}], \n",
        "                    [{\"LOWER\": \"kitchen trolley\"}], [{\"LOWER\": \"riser recliner\"}], [{\"LOWER\": \"raised chair\"}],\n",
        "                    [{\"LOWER\": \"mobile\", \"OP\": \"?\"}, {\"LOWER\": \"commode\"}], [{\"LOWER\": \"stairlift\"}], \n",
        "                    [{\"LOWER\": \"stair assessment\"}], [{\"LOWER\": \"off legs\"}], [{\"LOWER\": \"flof\"}],\n",
        "                    [{\"LOWER\": \"cca alarm\"}], [{\"LOWER\": \"pendant alarm\"}], \n",
        "                    [{\"LEMMA\": \"fracture\"}, {\"LOWER\": \"pubic\", \"OP\": \"?\"}, {\"LEMMA\": \"ramus\"}],\n",
        "                    [{\"TEXT\": \"#\"}, {\"LOWER\": \"pubic\", \"OP\": \"?\"}, {\"LEMMA\": \"ramus\"}],\n",
        "                    [{\"TEXT\": \"#NOF\"}], [{\"TEXT\": \"#\"}, {\"LOWER\": \"nof\"}],\n",
        "                    [{\"TEXT\": \"#\"}, {\"LOWER\": \"neck of femur\"}], [{\"LEMMA\": \"fracture\"}, {\"LOWER\": \"nof\"}],\n",
        "                    [{\"LEMMA\": \"fracture\"}, {\"LOWER\": \"nof\"}], [{\"LEMMA\": \"fracture\"}, {\"LOWER\": \"neck of femur\"}],\n",
        "                    [{\"LEMMA\": \"struggle\"}, {\"IS_ALPHA\": True, \"OP\": \"?\"}, {\"LEMMA\": \"stair\"}],\n",
        "                    [{\"LEMMA\": \"deteriorate\"}, {\"LEMMA\": \"mobile\"}], [{\"LEMMA\": \"frail\"}],\n",
        "                    [{\"LEMMA\": \"downstair\"}, {\"LEMMA\": \"living\"}], [{\"LOWER\": \"cga\"}],\n",
        "                    [{\"LOWER\": \"comprehensive geriatric assessment\"}], [{\"LOWER\": \"chairbound\"}],\n",
        "                    [{\"LEMMA\": \"decondition\"}], [{\"LEMMA\": \"mobile\"}, {\"LEMMA\": \"decline\"}],\n",
        "                    [{\"LOWER\": \"has\"}, {\"LEMMA\": \"care\"}], [{\"LOWER\": \"respite care\"}], [{\"LOWER\": \"gaunt\"}],\n",
        "                    [{\"LEMMA\": \"muscle\"}, {\"LEMMA\": \"waste\"}], [{\"LEMMA\": \"cachexia\"}],\n",
        "                    [{\"LEMMA\": \"muscle\"}, {\"LEMMA\": \"atrophy\"}], [{\"LEMMA\": \"loss\"}, {\"IS_ALPHA\": True, \"OP\": \"?\"}, {\"LEMMA\": \"function\"}],\n",
        "                    [{\"LEMMA\": \"difficult\"}, {\"IS_ALPHA\": True, \"OP\": \"?\"}, {\"LOWER\": \"adl\"}],\n",
        "                    [{\"LEMMA\": \"depend\"}, {\"IS_ALPHA\": True, \"OP\": \"?\"}, {\"LOWER\": \"care\"}],\n",
        "                    [{\"LEMMA\": \"fragile\"}], [{\"LOWER\": \"immobile\"}], [{\"LOWER\": \"anorexia\"}],\n",
        "                    [{\"LEMMA\": \"reduce\"}, {\"LEMMA\": \"strength\"}], [{\"LEMMA\": \"limit\"}, {\"LEMMA\": \"strength\"}], \n",
        "                    [{\"LEMMA\": \"quad\"}, {\"LEMMA\": \"waste\"}], [{\"LOWER\": \"low\"}, {\"LEMMA\": \"muscle\"}, {\"LOWER\": \"bulk\"}],\n",
        "                    [{\"LOWER\": \"loss\"}, {\"LOWER\": \"of\"}, {\"LEMMA\": \"quad\", \"OP\": \"?\"}, {\"LOWER\": \"bulk\"}],\n",
        "                    [{\"LOWER\": \"stuck\"}, {\"IS_ALPHA\": True, \"OP\": \"?\"}, {\"LOWER\": \"toilet\"}],\n",
        "                    [{\"LEMMA\": \"loss\"}, {\"IS_ALPHA\": True, \"OP\": \"?\"}, {\"LOWER\": \"power\"}],\n",
        "                    [{\"LOWER\": \"can't\"}, {\"LOWER\": \"stand\"}], [{\"LOWER\": \"cannot\"}, {\"LOWER\": \"stand\"}],\n",
        "                    [{\"LOWER\": \"unable\"}, {\"IS_ALPHA\": True, \"OP\": \"?\"}, {\"LOWER\": \"stand\"}],\n",
        "                    [{\"LOWER\": \"no\"}, {\"LEMMA\": \"rehab\"}, {\"LOWER\": \"potential\"}],\n",
        "                    [{\"LOWER\": \"limited\"}, {\"LEMMA\": \"rehab\"}, {\"LOWER\": \"potential\"}],\n",
        "                    [{\"LOWER\": \"mechanical fall\"}]\n",
        "]\n",
        "\n",
        "\n",
        "#Add patternS to matcher\n",
        "rb_matcher.add(\"WEAKNESS TERM\", weakness_pattern)\n"
      ]
    },
    {
      "cell_type": "code",
      "execution_count": 30,
      "metadata": {
        "id": "djzjjMNyKsGd",
        "colab": {
          "base_uri": "https://localhost:8080/"
        },
        "outputId": "a6cb4719-23b2-4567-cb8b-8fa84212be61"
      },
      "outputs": [
        {
          "output_type": "stream",
          "name": "stdout",
          "text": [
            "Match: WEAKNESS TERM - Poor mobility ( Location =  16 18 )\n",
            "Match: WEAKNESS TERM - falls ( Location =  27 28 )\n",
            "Match: WEAKNESS TERM - poor mobility ( Location =  45 47 )\n",
            "Match: WEAKNESS TERM - poor mobility ( Location =  246 248 )\n",
            "Match: WEAKNESS TERM - falls ( Location =  249 250 )\n",
            "Match: WEAKNESS TERM - fallen ( Location =  297 298 )\n",
            "Match: WEAKNESS TERM - lack of mobility ( Location =  305 308 )\n",
            "Match: WEAKNESS TERM - housebound ( Location =  315 316 )\n",
            "Match: WEAKNESS TERM - lacks strength ( Location =  357 359 )\n",
            "Match: WEAKNESS TERM - falling ( Location =  364 365 )\n",
            "Match: WEAKNESS TERM - fall ( Location =  392 393 )\n",
            "Match: WEAKNESS TERM - lack of strength ( Location =  1092 1095 )\n"
          ]
        }
      ],
      "source": [
        "#Apply rb_matcher to letter A\n",
        "\n",
        "rb_matchesA = rb_matcher(doc_A)\n",
        "\n",
        "for match_id, start, end in rb_matchesA: \n",
        "  span = doc_A[start:end]\n",
        "  match_id_string = nlp.vocab.strings[match_id]\n",
        "  print(\"Match:\",match_id_string, \"-\", span.text, \"( Location = \", start, end, \")\")"
      ]
    },
    {
      "cell_type": "code",
      "execution_count": 31,
      "metadata": {
        "id": "i9kd9Qv-7WlT",
        "colab": {
          "base_uri": "https://localhost:8080/"
        },
        "outputId": "81f4b098-df17-4f8c-f219-06f1e59d204a"
      },
      "outputs": [
        {
          "output_type": "stream",
          "name": "stdout",
          "text": [
            "Match: WEAKNESS TERM - Falls ( Location =  23 24 )\n",
            "Match: WEAKNESS TERM - falls ( Location =  172 173 )\n",
            "Match: WEAKNESS TERM - falls ( Location =  203 204 )\n",
            "Match: WEAKNESS TERM - fell ( Location =  225 226 )\n",
            "Match: WEAKNESS TERM - fell ( Location =  325 326 )\n",
            "Match: WEAKNESS TERM - falling ( Location =  584 585 )\n",
            "Match: WEAKNESS TERM - fell ( Location =  603 604 )\n",
            "Match: WEAKNESS TERM - falls ( Location =  664 665 )\n",
            "Match: WEAKNESS TERM - falls ( Location =  720 721 )\n"
          ]
        }
      ],
      "source": [
        "#Apply rb_matcher to letter B\n",
        "rb_matchesB = rb_matcher(doc_B)\n",
        "\n",
        "for match_id, start, end in rb_matchesB: \n",
        "  span = doc_B[start:end]\n",
        "  match_id_string = nlp.vocab.strings[match_id]\n",
        "  print(\"Match:\",match_id_string, \"-\", span.text, \"( Location = \", start, end, \")\")"
      ]
    },
    {
      "cell_type": "markdown",
      "metadata": {
        "id": "VFwaEAetl5hn"
      },
      "source": [
        "The rule-based matcher works better at detecting phrases rather than using a simple PhraseMatcher:\n",
        "\n",
        "*   12 matches for letter A, vs. 4 matches using Phrasematcher\n",
        "*   9 matches for letter B, vs. 4 matches using Phrasematcher\n",
        "\n",
        "\n"
      ]
    },
    {
      "cell_type": "markdown",
      "metadata": {
        "id": "4OC9eErq1TEi"
      },
      "source": [
        "# Entity-ruler for visualization"
      ]
    },
    {
      "cell_type": "code",
      "execution_count": 32,
      "metadata": {
        "id": "uwUMngY-jHJG"
      },
      "outputs": [],
      "source": [
        "#Initialize NER ruler\n",
        "\n",
        "ruler = nlp.add_pipe(\"entity_ruler\", before = \"ner\")"
      ]
    },
    {
      "cell_type": "code",
      "execution_count": 33,
      "metadata": {
        "id": "MsQhdSf1Mibd"
      },
      "outputs": [],
      "source": [
        "#Add weakness patterns to NER ruler\n",
        "for item in weakness_pattern:\n",
        "  ruler.add_patterns([{\"label\": \"WEAKNESS TERM\", \"pattern\": item}])\n",
        "\n",
        "#Add sarcopenia diagnosis to NER ruler\n",
        "for i in sarcopenia_diagnosis:\n",
        "  ruler.add_patterns([{\"label\": \"SARCOPENIA\", \"pattern\": i}])\n",
        "\n",
        "#Add SARC-F to NER ruler\n",
        "for i in sarcf_list:\n",
        "  ruler.add_patterns([{\"label\": \"SARC-F\", \"pattern\": i}])\n"
      ]
    },
    {
      "cell_type": "code",
      "execution_count": 34,
      "metadata": {
        "id": "fFJMse4mS5SF",
        "colab": {
          "base_uri": "https://localhost:8080/"
        },
        "outputId": "ca82cbbd-e7ac-459b-bf65-f1145fa8af02"
      },
      "outputs": [
        {
          "output_type": "stream",
          "name": "stderr",
          "text": [
            "/usr/local/lib/python3.7/dist-packages/scispacy/abbreviation.py:230: UserWarning: [W036] The component 'matcher' does not have any patterns defined.\n",
            "  global_matches = self.global_matcher(doc)\n"
          ]
        }
      ],
      "source": [
        "#Apply nlp pipeline to letter A\n",
        "doc_A = nlp(letter_A)"
      ]
    },
    {
      "cell_type": "code",
      "execution_count": 35,
      "metadata": {
        "id": "1q4mN3cNjXb3",
        "colab": {
          "base_uri": "https://localhost:8080/",
          "height": 0
        },
        "outputId": "10d4467b-cc07-4a8e-dab4-da078963cd6f"
      },
      "outputs": [
        {
          "output_type": "display_data",
          "data": {
            "text/plain": [
              "<IPython.core.display.HTML object>"
            ],
            "text/html": [
              "<span class=\"tex2jax_ignore\"><div class=\"entities\" style=\"line-height: 2.5; direction: ltr\">Mr A Smith</br></br>567 Ghengis Khan Drive, Newcastle NE4 5XX</br></br></br></br>Diagnoses:</br></br>\n",
              "<mark class=\"entity\" style=\"background: linear-gradient(90deg, #ffff66, #ff6600); padding: 0.45em 0.6em; margin: 0 0.25em; line-height: 1; border-radius: 0.35em;\">\n",
              "    Poor mobility\n",
              "    <span style=\"font-size: 0.8em; font-weight: bold; line-height: 1; border-radius: 0.35em; vertical-align: middle; margin-left: 0.5rem\">WEAKNESS TERM</span>\n",
              "</mark>\n",
              " due to chronic pain, low confidence and previous \n",
              "<mark class=\"entity\" style=\"background: linear-gradient(90deg, #ffff66, #ff6600); padding: 0.45em 0.6em; margin: 0 0.25em; line-height: 1; border-radius: 0.35em;\">\n",
              "    falls\n",
              "    <span style=\"font-size: 0.8em; font-weight: bold; line-height: 1; border-radius: 0.35em; vertical-align: middle; margin-left: 0.5rem\">WEAKNESS TERM</span>\n",
              "</mark>\n",
              " </br></br>Weight loss, anaemia and raised inflammatory markers of unknown aetiology </br></br>Low mood secondary to \n",
              "<mark class=\"entity\" style=\"background: linear-gradient(90deg, #ffff66, #ff6600); padding: 0.45em 0.6em; margin: 0 0.25em; line-height: 1; border-radius: 0.35em;\">\n",
              "    poor mobility\n",
              "    <span style=\"font-size: 0.8em; font-weight: bold; line-height: 1; border-radius: 0.35em; vertical-align: middle; margin-left: 0.5rem\">WEAKNESS TERM</span>\n",
              "</mark>\n",
              " </br></br>Breathlessness and elevated BNP awaiting echo </br></br>Chronic back pain with degenerative changes on MRI </br></br>Urinary frequency and incontinence </br></br></br></br>Other diagnoses:</br></br>Complex partial epileptic seizures</br></br>Hypertension </br></br>Osteoarthritis with bilateral total hip replacements</br></br>Atrial fibrillation </br></br>Asthma \n",
              "\n",
              "Patent foramen ovale </br></br>Previous cerebellar stroke </br></br></br></br>Medications:</br></br>Atorvastatin</br></br>Docusate</br></br>Ferrous fumarate</br></br>Vitamin-D3</br></br>Furosemide</br></br>Gaviscon</br></br>Flutiform inhaler</br></br>Salbutamol inhaler</br></br>Lansoprazole</br></br>Losartan </br></br>Paracetamol </br></br>Phenytoin</br></br>Tegretol slow release</br></br>Codeine</br></br>Warfarin</br></br></br></br>Suggested changes to medication </br></br>Reduce codeine 15 mg dose but try and use regularly 2-3 times per day </br></br></br></br>Follow up arrangements</br></br> I will organise ultrasound of the abdomen and physiotherapy at the Belsay Clinic; I will be in touch by telephone with Mr Smith when the results of his bloods and ultrasound come through. I also note an echo has already been arranged. </br></br></br></br>For Primary care </br></br>Medication change as above </br></br></br></br>Thank you for referring Mr Smith who attended for a face-to-face assessment at the Belsay Clinic accompanied by his niece today. He gives a history of \n",
              "<mark class=\"entity\" style=\"background: linear-gradient(90deg, #ffff66, #ff6600); padding: 0.45em 0.6em; margin: 0 0.25em; line-height: 1; border-radius: 0.35em;\">\n",
              "    poor mobility\n",
              "    <span style=\"font-size: 0.8em; font-weight: bold; line-height: 1; border-radius: 0.35em; vertical-align: middle; margin-left: 0.5rem\">WEAKNESS TERM</span>\n",
              "</mark>\n",
              " and \n",
              "<mark class=\"entity\" style=\"background: linear-gradient(90deg, #ffff66, #ff6600); padding: 0.45em 0.6em; margin: 0 0.25em; line-height: 1; border-radius: 0.35em;\">\n",
              "    falls\n",
              "    <span style=\"font-size: 0.8em; font-weight: bold; line-height: 1; border-radius: 0.35em; vertical-align: middle; margin-left: 0.5rem\">WEAKNESS TERM</span>\n",
              "</mark>\n",
              "; both these problems are longstanding and indeed he was assessed at the Belsay clinic by my colleague Dr Boyle back in 2019 and had a course of physiotherapy at the time. More recently he has lost confidence, his balance is worse and he has \n",
              "<mark class=\"entity\" style=\"background: linear-gradient(90deg, #ffff66, #ff6600); padding: 0.45em 0.6em; margin: 0 0.25em; line-height: 1; border-radius: 0.35em;\">\n",
              "    fallen\n",
              "    <span style=\"font-size: 0.8em; font-weight: bold; line-height: 1; border-radius: 0.35em; vertical-align: middle; margin-left: 0.5rem\">WEAKNESS TERM</span>\n",
              "</mark>\n",
              " more. He is clear that the \n",
              "<mark class=\"entity\" style=\"background: linear-gradient(90deg, #ffff66, #ff6600); padding: 0.45em 0.6em; margin: 0 0.25em; line-height: 1; border-radius: 0.35em;\">\n",
              "    lack of mobility\n",
              "    <span style=\"font-size: 0.8em; font-weight: bold; line-height: 1; border-radius: 0.35em; vertical-align: middle; margin-left: 0.5rem\">WEAKNESS TERM</span>\n",
              "</mark>\n",
              " is his greatest frustration; he is \n",
              "<mark class=\"entity\" style=\"background: linear-gradient(90deg, #ffff66, #ff6600); padding: 0.45em 0.6em; margin: 0 0.25em; line-height: 1; border-radius: 0.35em;\">\n",
              "    housebound\n",
              "    <span style=\"font-size: 0.8em; font-weight: bold; line-height: 1; border-radius: 0.35em; vertical-align: middle; margin-left: 0.5rem\">WEAKNESS TERM</span>\n",
              "</mark>\n",
              " unless he can be accompanied out of the house by his niece and even then he gets out only in a wheelchair. He thinks that a combination of things are stopping him being more mobile: he feels that he \n",
              "<mark class=\"entity\" style=\"background: linear-gradient(90deg, #ffff66, #ff6600); padding: 0.45em 0.6em; margin: 0 0.25em; line-height: 1; border-radius: 0.35em;\">\n",
              "    lacks strength\n",
              "    <span style=\"font-size: 0.8em; font-weight: bold; line-height: 1; border-radius: 0.35em; vertical-align: middle; margin-left: 0.5rem\">WEAKNESS TERM</span>\n",
              "</mark>\n",
              ", has a fear of \n",
              "<mark class=\"entity\" style=\"background: linear-gradient(90deg, #ffff66, #ff6600); padding: 0.45em 0.6em; margin: 0 0.25em; line-height: 1; border-radius: 0.35em;\">\n",
              "    falling\n",
              "    <span style=\"font-size: 0.8em; font-weight: bold; line-height: 1; border-radius: 0.35em; vertical-align: middle; margin-left: 0.5rem\">WEAKNESS TERM</span>\n",
              "</mark>\n",
              " and also has pain in the front and back of his legs. This is worse at night and keeps him awake at times. His last \n",
              "<mark class=\"entity\" style=\"background: linear-gradient(90deg, #ffff66, #ff6600); padding: 0.45em 0.6em; margin: 0 0.25em; line-height: 1; border-radius: 0.35em;\">\n",
              "    fall\n",
              "    <span style=\"font-size: 0.8em; font-weight: bold; line-height: 1; border-radius: 0.35em; vertical-align: middle; margin-left: 0.5rem\">WEAKNESS TERM</span>\n",
              "</mark>\n",
              " was two months ago. He notes feeling unsteady on standing but on close questioning this sensation did not appear to be consistent with vertigo. </br></br>He also complains of pain across her shoulders starting in the right arm and going across the shoulders to the left arm. This has been present for about six months and is not related to exertion. It is no worse in the morning and he does not feel particularly stiff. He also describes stabbing pain over his right eye that then migrates over the top of his head. This does not seem to be related to stressful events. He has lost a considerable amount of weight - 8kg from March to August this year, and another five kg since as his weight in clinic today was 71.5 kg. His appetite is not as good as it usually is but he denies nausea or vomiting; he avoids constipation by taking laxatives. He does not complain of toothache, does not choke on food or drink and says that he eats reasonably well. He has seen a dietitian. He complains of occasional breathlessness and cough at night and brings up a small quantity of phlegm but this is little changed. He has not noticed any blood in his stools. He complains of a rash on his legs, more on the right than the left, and that her legs are often cool. He notes that this rash has been present for at least 10 years and I also note recent vascular duplex studies that suggest good arterial flow in the legs. He has urinary frequency and is often not aware of when he needs to go to the loo; he also complains of a few minutes of crampy lower abdominal pain after micturition. Perhaps unsurprisingly he is somewhat low in mood but still enjoys going out and seeing people. He denies suicidal ideation or early morning waking. He admits that he tends to live in the past more nowadays. He does not complain of any subjective memory problems. </br></br>On examination, he was alert and engaged well with the consultation. There was no jaundice, anaemia, cyanosis, clubbing or lymphadenopathy. There was a confluent discolouration on both lower legs which was cool to the touch, not raised or tender and was not blanching. Similar changes were seen above the knees but looked more petechial in nature. Heart sounds were normal, JVP was not raised and the chest was clear. Abdominal examination revealed a 2cm liver edge but no ascites or masses. There was an old scar noted on his left upper arm where a basal cell carcinoma has been removed previously. He was mildly tender across the shoulders and in the thoracic paraspinal muscles; tenderness was not confined to the spine. He was able to raise her arms above her head. Neurological examination revealed normal tone, power and coordination. Cranial nerve examination was normal with no nystagmus. He was able to rise unaided from a chair quite quickly but was very reluctant to take a step forward. However he could walk a few paces with support from one person albeit unsteadily. There was no bradykinesia or tremor noted. </br></br>His SarcScreen revealed a \n",
              "<mark class=\"entity\" style=\"background: linear-gradient(180deg, #66ffcc, #abf763); padding: 0.45em 0.6em; margin: 0 0.25em; line-height: 1; border-radius: 0.35em;\">\n",
              "    SARC-F\n",
              "    <span style=\"font-size: 0.8em; font-weight: bold; line-height: 1; border-radius: 0.35em; vertical-align: middle; margin-left: 0.5rem\">SARC-F</span>\n",
              "</mark>\n",
              " score of 10/10, and Fried frailty score of 2/5 denoting prefrailty. He was unable to attempt the 3m walk but his maximum grip strength was 22 kg. GDS was 10/15 and MMSE was 28/30. An active stand showed a blood pressure of 141/85 with no significant drop although he was unsteady on standing. His 12 lead electrocardiogram showed atrial fibrillation at 80 per minute with nil else of note. </br></br>There are clearly a complex set of interlocking problems here. He is rather stronger than he thinks he is on although his balance is poor, I think it is a lack of confidence rather than a \n",
              "<mark class=\"entity\" style=\"background: linear-gradient(90deg, #ffff66, #ff6600); padding: 0.45em 0.6em; margin: 0 0.25em; line-height: 1; border-radius: 0.35em;\">\n",
              "    lack of strength\n",
              "    <span style=\"font-size: 0.8em; font-weight: bold; line-height: 1; border-radius: 0.35em; vertical-align: middle; margin-left: 0.5rem\">WEAKNESS TERM</span>\n",
              "</mark>\n",
              " that is preventing him from mobilising more. He accepts this and is happy for us to refer to physiotherapy for strength and balance training which I think will help build his confidence. His mood is low but not sufficiently low to denote depression and I think if we can improve his mobility, his mood will improve. Some of his chronic back pain is undoubtedly due to the degenerative changes seen on MRI and I understand that surgery is not going to be an option for this. I would be reluctant to change her painkillers much at the moment though given that he is already on antiepileptic medications and so adding in other agents for chronic pain may not help much but might interact with these medications. </br></br>We discussed the fine balance between benefits and side effects of all of these medications today. What would perhaps be helpful though is to reduce the codeine to 15 mg so that he can try and take this more regularly; he finds that the 30 mg dose makes him feel very unsteady on her feet. Having said all of this, it is clear that the blood tests suggest some issues that require further investigation. His breathlessness on exertion and raised BNP suggest that investigation for LV systolic dysfunction causing heart failure would be beneficial and I note that he has already had an echo requested. His weight loss is quite dramatic and this, together with the admittedly longstanding rash on his legs, anaemia, raised ESR and high platelet counts suggest that there is an inflammatory disorder present. Whether this is autoimmune or due to another aetiology is unclear. I have requested bloods today including repeat U&amp;Es, liver function tests, calcium, myeloma screen, CRP and ESR, autoimmune screen, creatine kinase and iron studies. I have also requested an ultrasound of the abdomen to investigate the liver edge that I could feel; I note that a recent chest x-ray showed normal heart size and clear lung fields. Despite the possible finding of horizontal nystagmus by Community Nursing colleagues I could not find any evidence of this today and I don’t think we need to progress to brain scanning at present. </br></br>Once we have got the blood and ultrasound results, I will phone Mr Smith again and discuss the best way forward. It may be that if we do not find another cause for his inflammatory condition, a trial of steroids might be warranted as some of the features including the shoulder discomfort could be consistent with polymyalgia rheumatica. I have explained this today but also explained that I think we need to investigate further before diving in with treatment in case this is not the diagnosis. </br></br>Yours sincerely</br></br>Professor Miles Witham</br></br>Consultant Geriatrician</div></span>"
            ]
          },
          "metadata": {}
        }
      ],
      "source": [
        "#Visualise weakness entities in Letter A\n",
        "\n",
        "def get_entity_options():\n",
        "  entities = [\"WEAKNESS TERM\", \"SARCOPENIA\", \"SARC-F\"]\n",
        "  colors = {\"WEAKNESS TERM\": 'linear-gradient(90deg, #ffff66, #ff6600)', \"SARCOPENIA\": 'linear-gradient(90deg, #aa9cfc, #fc9ce7)',\n",
        "            \"SARC-F\": 'linear-gradient(180deg, #66ffcc, #abf763)'}\n",
        "  options = {\"ents\": entities, \"colors\": colors}\n",
        "  return options\n",
        "options = get_entity_options()\n",
        "\n",
        "displacy.render(doc_A, style = 'ent', options=options, jupyter = True)"
      ]
    },
    {
      "cell_type": "code",
      "execution_count": 36,
      "metadata": {
        "id": "cQs4Ewrjsj6M",
        "colab": {
          "base_uri": "https://localhost:8080/"
        },
        "outputId": "7019dc8a-7ad6-435b-e54b-14b5d5b8396a"
      },
      "outputs": [
        {
          "output_type": "stream",
          "name": "stderr",
          "text": [
            "/usr/local/lib/python3.7/dist-packages/scispacy/abbreviation.py:230: UserWarning: [W036] The component 'matcher' does not have any patterns defined.\n",
            "  global_matches = self.global_matcher(doc)\n"
          ]
        }
      ],
      "source": [
        "#Apply nlp pipeline to letter B\n",
        "doc_B = nlp(letter_B)"
      ]
    },
    {
      "cell_type": "code",
      "execution_count": 37,
      "metadata": {
        "id": "Dx9i9qXHrLIc",
        "colab": {
          "base_uri": "https://localhost:8080/",
          "height": 0
        },
        "outputId": "6b387a4c-6871-472f-aa4d-8ecf73ac67e9"
      },
      "outputs": [
        {
          "output_type": "display_data",
          "data": {
            "text/plain": [
              "<IPython.core.display.HTML object>"
            ],
            "text/html": [
              "<span class=\"tex2jax_ignore\"><div class=\"entities\" style=\"line-height: 2.5; direction: ltr\">Mrs B Smith</br></br>Flat 1, Farringdon Road, Newcastle NE2 5DH\n",
              "\n",
              "Date of Birth: 01/01/1932</br></br></br></br></br></br>Diagnoses: </br></br>\n",
              "<mark class=\"entity\" style=\"background: linear-gradient(90deg, #ffff66, #ff6600); padding: 0.45em 0.6em; margin: 0 0.25em; line-height: 1; border-radius: 0.35em;\">\n",
              "    Falls\n",
              "    <span style=\"font-size: 0.8em; font-weight: bold; line-height: 1; border-radius: 0.35em; vertical-align: middle; margin-left: 0.5rem\">WEAKNESS TERM</span>\n",
              "</mark>\n",
              " due to gait and balance disorder </br></br>Hyperthyroidism due to thyroxine over-replacement</br></br>\n",
              "<mark class=\"entity\" style=\"background: linear-gradient(90deg, #aa9cfc, #fc9ce7); padding: 0.45em 0.6em; margin: 0 0.25em; line-height: 1; border-radius: 0.35em;\">\n",
              "    Sarcopenia\n",
              "    <span style=\"font-size: 0.8em; font-weight: bold; line-height: 1; border-radius: 0.35em; vertical-align: middle; margin-left: 0.5rem\">SARCOPENIA</span>\n",
              "</mark>\n",
              " </br></br>Orthostatic hypotension </br></br></br></br>Existing diagnoses: </br></br>Hypertension </br></br>Hypothyroidism </br></br>Vitamin B12 deficiency </br></br>Previous fractured wrist\n",
              "\n",
              "Visual impairment due to cataracts </br></br></br></br>Medications: </br></br>Alendronic acid </br></br>Calcium and vitamin-D \n",
              "\n",
              "Bendroflumethiazide </br></br>Vitamin B12 </br></br>Simvastatin </br></br>Ramipril </br></br></br></br>Medication changes: </br></br>Please reduce thyroxine dose to 75mcg once daily</br></br></br></br>Follow up arrangements: </br></br>I will write back when I see the results of her 24 hour electrocardiogram</br></br></br></br>For Primary care </br></br>Could you please forward me a copy of the 24 hour blood pressure monitor that she says she had in your surgery recently? </br></br></br></br>I saw Mrs Smith for a face-to-face appointment at the Belsay Clinic today; she was accompanied by her son. She gives a history of two \n",
              "<mark class=\"entity\" style=\"background: linear-gradient(90deg, #ffff66, #ff6600); padding: 0.45em 0.6em; margin: 0 0.25em; line-height: 1; border-radius: 0.35em;\">\n",
              "    falls\n",
              "    <span style=\"font-size: 0.8em; font-weight: bold; line-height: 1; border-radius: 0.35em; vertical-align: middle; margin-left: 0.5rem\">WEAKNESS TERM</span>\n",
              "</mark>\n",
              " over the last few months and feels unsteady on her feet. She uses a walking frame at home and a stick when she is out. Neither of the \n",
              "<mark class=\"entity\" style=\"background: linear-gradient(90deg, #ffff66, #ff6600); padding: 0.45em 0.6em; margin: 0 0.25em; line-height: 1; border-radius: 0.35em;\">\n",
              "    falls\n",
              "    <span style=\"font-size: 0.8em; font-weight: bold; line-height: 1; border-radius: 0.35em; vertical-align: middle; margin-left: 0.5rem\">WEAKNESS TERM</span>\n",
              "</mark>\n",
              " were witnessed; her son reports that one occurred outside when she was pushing her walker up a ramp; she \n",
              "<mark class=\"entity\" style=\"background: linear-gradient(90deg, #ffff66, #ff6600); padding: 0.45em 0.6em; margin: 0 0.25em; line-height: 1; border-radius: 0.35em;\">\n",
              "    fell\n",
              "    <span style=\"font-size: 0.8em; font-weight: bold; line-height: 1; border-radius: 0.35em; vertical-align: middle; margin-left: 0.5rem\">WEAKNESS TERM</span>\n",
              "</mark>\n",
              " backwards and hit her head. The second occurred in the house but she does not remember any details; when she came round on the floor she managed to press the community alarm button. She denies any lightheadedness or vertigo, any palpitations or chest pain. Interestingly she had two syncopal episodes many years ago, both of which occurred when she was feeling warm and after eating a substantial meal. </br></br>She has lost a considerable amount of weight over the last year; in November 2020 her weight was 58 kilos, this \n",
              "<mark class=\"entity\" style=\"background: linear-gradient(90deg, #ffff66, #ff6600); padding: 0.45em 0.6em; margin: 0 0.25em; line-height: 1; border-radius: 0.35em;\">\n",
              "    fell\n",
              "    <span style=\"font-size: 0.8em; font-weight: bold; line-height: 1; border-radius: 0.35em; vertical-align: middle; margin-left: 0.5rem\">WEAKNESS TERM</span>\n",
              "</mark>\n",
              " to 55 kilos in June 2021 and her weight in clinic today was 51.4 kilos. Her appetite has been poor but she is now eating better and is due to see the dietitian next week. She does not report choking on food, has no problems chewing, no dysphagia and no nausea. She does not complain of abdominal pain or problems with her bowels. She has no urinary symptoms either. She reports her mood is not low although she gets occasionally frustrated with her inability to complete activities of daily living. I understand that she had a 24 hour blood pressure monitor at your surgery recently.</br></br>On examination there was no jaundice, anaemia, clubbing, cyanosis or lymphadenopathy. Thyroid examination was normal with no goitre palpable. The JVP was not raised, there was a trace of ankle oedema, heart sounds were normal and the chest was clear. Abdominal examination was unremarkable with no masses or organomegaly. Neurological examination revealed normal tone, power and coordination, no bradykinesia or tremor; cranial nerve examination including gaze was normal and there was no exophthalmos. </br></br>Her SarcScreen showed a \n",
              "<mark class=\"entity\" style=\"background: linear-gradient(180deg, #66ffcc, #abf763); padding: 0.45em 0.6em; margin: 0 0.25em; line-height: 1; border-radius: 0.35em;\">\n",
              "    Sarc-F\n",
              "    <span style=\"font-size: 0.8em; font-weight: bold; line-height: 1; border-radius: 0.35em; vertical-align: middle; margin-left: 0.5rem\">SARC-F</span>\n",
              "</mark>\n",
              " score of 7/10, and Fried frailty score of 2/5 denoting prefrailty. Weight was 51.4 kilos giving a BMI of 23.8. Grip strength was 13 kilos, walk speed 0.42 m/sec, and MMSE was 26/30. An active stand today showed a lying blood pressure of 204/71, \n",
              "<mark class=\"entity\" style=\"background: linear-gradient(90deg, #ffff66, #ff6600); padding: 0.45em 0.6em; margin: 0 0.25em; line-height: 1; border-radius: 0.35em;\">\n",
              "    falling\n",
              "    <span style=\"font-size: 0.8em; font-weight: bold; line-height: 1; border-radius: 0.35em; vertical-align: middle; margin-left: 0.5rem\">WEAKNESS TERM</span>\n",
              "</mark>\n",
              " to 117/46 when standing without any symptoms. This recovered rapidly within a minute to 174/64 and then \n",
              "<mark class=\"entity\" style=\"background: linear-gradient(90deg, #ffff66, #ff6600); padding: 0.45em 0.6em; margin: 0 0.25em; line-height: 1; border-radius: 0.35em;\">\n",
              "    fell\n",
              "    <span style=\"font-size: 0.8em; font-weight: bold; line-height: 1; border-radius: 0.35em; vertical-align: middle; margin-left: 0.5rem\">WEAKNESS TERM</span>\n",
              "</mark>\n",
              " again to 144/56 at 2 minutes. Twelve lead electrocardiogram showed sinus rhythm at 67 beats per minute with no abnormalities. Blood tests done in October show a haemoglobin of 121 with normal LFTs, and in November her TSH was &lt;0.05 with an elevated T4 of 29.3. eGFR was 44 which is stable. </br></br>Her \n",
              "<mark class=\"entity\" style=\"background: linear-gradient(90deg, #ffff66, #ff6600); padding: 0.45em 0.6em; margin: 0 0.25em; line-height: 1; border-radius: 0.35em;\">\n",
              "    falls\n",
              "    <span style=\"font-size: 0.8em; font-weight: bold; line-height: 1; border-radius: 0.35em; vertical-align: middle; margin-left: 0.5rem\">WEAKNESS TERM</span>\n",
              "</mark>\n",
              " are probably due to a combination of balance impairment and \n",
              "<mark class=\"entity\" style=\"background: linear-gradient(90deg, #aa9cfc, #fc9ce7); padding: 0.45em 0.6em; margin: 0 0.25em; line-height: 1; border-radius: 0.35em;\">\n",
              "    sarcopenia\n",
              "    <span style=\"font-size: 0.8em; font-weight: bold; line-height: 1; border-radius: 0.35em; vertical-align: middle; margin-left: 0.5rem\">SARCOPENIA</span>\n",
              "</mark>\n",
              "; she has already seen the domiciliary physiotherapy team and she has exercises to do to improve her strength and balance. These are the most effective intervention for this problem and I have encouraged her to keep going with these. Although her \n",
              "<mark class=\"entity\" style=\"background: linear-gradient(90deg, #ffff66, #ff6600); padding: 0.45em 0.6em; margin: 0 0.25em; line-height: 1; border-radius: 0.35em;\">\n",
              "    falls\n",
              "    <span style=\"font-size: 0.8em; font-weight: bold; line-height: 1; border-radius: 0.35em; vertical-align: middle; margin-left: 0.5rem\">WEAKNESS TERM</span>\n",
              "</mark>\n",
              " have not been witnessed, the one in the house has some features that suggest possible syncope and I think it would be sensible to get a 24 hour electrocardiogram; this has been fitted today. Although poor appetite may explain some of her weight loss, she is hyperthyroid suggesting that her thyroxine does is too high; this in turn may be contributing to both her \n",
              "<mark class=\"entity\" style=\"background: linear-gradient(90deg, #aa9cfc, #fc9ce7); padding: 0.45em 0.6em; margin: 0 0.25em; line-height: 1; border-radius: 0.35em;\">\n",
              "    sarcopenia\n",
              "    <span style=\"font-size: 0.8em; font-weight: bold; line-height: 1; border-radius: 0.35em; vertical-align: middle; margin-left: 0.5rem\">SARCOPENIA</span>\n",
              "</mark>\n",
              " and weight loss. Could I therefore ask you to reduce her thyroxine dose from 10mcg to 75mcg?</br></br>I will be in touch when I get the 24 hour electrocardiogram result back.</br></br></br></br>Yours sincerely,</br></br></br></br>Professor Miles Witham</br></br>Consultant Geriatrician</div></span>"
            ]
          },
          "metadata": {}
        }
      ],
      "source": [
        "#Visualise weakness entities in Letter B\n",
        "\n",
        "def get_entity_options():\n",
        "  entities = [\"WEAKNESS TERM\", \"SARCOPENIA\", \"SARC-F\"]\n",
        "  colors = {\"WEAKNESS TERM\": 'linear-gradient(90deg, #ffff66, #ff6600)', \"SARCOPENIA\": 'linear-gradient(90deg, #aa9cfc, #fc9ce7)',\n",
        "            \"SARC-F\": 'linear-gradient(180deg, #66ffcc, #abf763)'}\n",
        "  options = {\"ents\": entities, \"colors\": colors}\n",
        "  return options\n",
        "options = get_entity_options()\n",
        "\n",
        "displacy.render(doc_B, style = 'ent', options=options, jupyter = True)"
      ]
    },
    {
      "cell_type": "markdown",
      "metadata": {
        "id": "umhcOmyAwY4q"
      },
      "source": [
        "# Negation detection"
      ]
    },
    {
      "cell_type": "code",
      "execution_count": 38,
      "metadata": {
        "id": "X7TKsGDyxOZv",
        "colab": {
          "base_uri": "https://localhost:8080/"
        },
        "outputId": "f714f3e4-ba7f-467d-9ac9-2d840adec26a"
      },
      "outputs": [
        {
          "output_type": "execute_result",
          "data": {
            "text/plain": [
              "<negspacy.negation.Negex at 0x7f97864bc550>"
            ]
          },
          "metadata": {},
          "execution_count": 38
        }
      ],
      "source": [
        "#Define termset as clinical\n",
        "ts = termset(\"en_clinical_sensitive\")\n",
        "\n",
        "#Add negex to nlp pipeline\n",
        "nlp.add_pipe(\"negex\", config={\n",
        "    \"ent_types\":[\"SARCOPENIA\",\"WEAKNESS TERM\",\"SARC-F\"],\n",
        "    \"neg_termset\":ts.get_patterns()\n",
        "})"
      ]
    },
    {
      "cell_type": "code",
      "execution_count": 39,
      "metadata": {
        "id": "uFjDHxQyyqFu",
        "colab": {
          "base_uri": "https://localhost:8080/"
        },
        "outputId": "72976314-2c4a-4fae-fac3-10344ef3a1ec"
      },
      "outputs": [
        {
          "output_type": "stream",
          "name": "stdout",
          "text": [
            "{'pseudo_negations': ['no further', 'not able to be', 'not certain if', 'not certain whether', 'not necessarily', 'without any further', 'without difficulty', 'without further', 'might not', 'not only', 'no increase', 'no significant change', 'no change', 'no definite change', 'not extend', 'not cause', 'gram negative', 'not rule out', 'not ruled out', 'not been ruled out', 'not drain', 'no suspicious change', 'no interval change', 'no significant interval change'], 'preceding_negations': ['absence of', 'declined', 'denied', 'denies', 'denying', 'no sign of', 'no signs of', 'not', 'not demonstrate', 'symptoms atypical', 'doubt', 'negative for', 'no', 'versus', 'without', \"doesn't\", 'doesnt', \"don't\", 'dont', \"didn't\", 'didnt', \"wasn't\", 'wasnt', \"weren't\", 'werent', \"isn't\", 'isnt', \"aren't\", 'arent', 'cannot', \"can't\", 'cant', \"couldn't\", 'couldnt', 'never', 'patient was not', 'without indication of', 'without sign of', 'without signs of', 'without any reactions or signs of', 'no complaints of', 'no evidence of', 'no cause of', 'evaluate for', 'fails to reveal', 'free of', 'never developed', 'never had', 'did not exhibit', 'rules out', 'rule out', 'rule him out', 'rule her out', 'rule patient out', 'rule the patient out', 'ruled out', 'ruled him out', 'ruled her out', 'ruled patient out', 'ruled the patient out', 'r/o', 'ro', 'concern for', 'supposed', 'which causes', 'leads to', 'h/o', 'history of', 'instead of', 'if you experience', 'if you get', 'teaching the patient', 'taught the patient', 'teach the patient', 'educated the patient', 'educate the patient', 'educating the patient', 'monitored for', 'monitor for', 'test for', 'tested for'], 'following_negations': ['declined', 'unlikely', 'was not', 'were not', \"wasn't\", 'wasnt', \"weren't\", 'werent', 'was ruled out', 'were ruled out', 'free'], 'termination': ['although', 'apart from', 'as there are', 'aside from', 'but', 'except', 'however', 'involving', 'nevertheless', 'still', 'though', 'which', 'yet', 'cause for', 'cause of', 'causes for', 'causes of', 'etiology for', 'etiology of', 'origin for', 'origin of', 'origins for', 'origins of', 'other possibilities of', 'reason for', 'reason of', 'reasons for', 'reasons of', 'secondary to', 'source for', 'source of', 'sources for', 'sources of', 'trigger event for']}\n"
          ]
        }
      ],
      "source": [
        "#View termset patterns in use\n",
        "print(ts.get_patterns())"
      ]
    },
    {
      "cell_type": "code",
      "execution_count": 40,
      "metadata": {
        "id": "VIuar5Yfy1DJ",
        "colab": {
          "base_uri": "https://localhost:8080/"
        },
        "outputId": "d43fdfb3-22d7-4a29-87c0-d8d22f126dad"
      },
      "outputs": [
        {
          "output_type": "stream",
          "name": "stdout",
          "text": [
            "{'pseudo_negations': ['not able to be', 'not certain if', 'not certain whether', 'not necessarily', 'without any further', 'without difficulty', 'without further', 'might not', 'not only', 'no increase', 'no significant change', 'no change', 'no definite change', 'not extend', 'not cause', 'gram negative', 'not rule out', 'not ruled out', 'not been ruled out', 'not drain', 'no suspicious change', 'no interval change', 'no significant interval change'], 'preceding_negations': ['educating the patient', 'never', 'ruled the patient out', 'denied', 'denies', 'without', \"aren't\", 'monitored for', 'concern for', 'arent', 'rules out', 'doesnt', 'cant', 'negative for', 'evaluate for', 'never had', 'history of', 'didnt', 'test for', 'declined', 'without any reactions or signs of', 'ruled patient out', 'ruled him out', 'if you experience', 'absence of', \"don't\", 'wasnt', \"weren't\", 'taught the patient', 'teach the patient', \"doesn't\", 'rule him out', 'dont', 'ro', 'no evidence of', 'not demonstrate', 'couldnt', 'r/o', 'h/o', 'symptoms atypical', 'rule out', 'rule patient out', 'teaching the patient', 'ruled her out', 'isnt', 'tested for', 'werent', 'without indication of', \"isn't\", 'without signs of', 'no complaints of', 'free of', 'educated the patient', 'doubt', 'no further', 'versus', 'supposed', 'did not exhibit', 'if you get', 'no signs of', \"can't\", 'ruled out', 'no cause of', 'rule the patient out', 'no sign of', 'not', 'denying', \"didn't\", 'which causes', 'fails to reveal', 'cannot', 'never developed', 'leads to', 'without sign of', 'rule her out', \"wasn't\", \"couldn't\", 'monitor for', 'no', 'instead of', 'patient was not', 'educate the patient'], 'following_negations': ['declined', 'unlikely', 'was not', 'were not', \"wasn't\", 'wasnt', \"weren't\", 'werent', 'was ruled out', 'were ruled out', 'free'], 'termination': ['although', 'apart from', 'as there are', 'aside from', 'but', 'except', 'however', 'involving', 'nevertheless', 'still', 'though', 'which', 'yet', 'cause for', 'cause of', 'causes for', 'causes of', 'etiology for', 'etiology of', 'origin for', 'origin of', 'origins for', 'origins of', 'other possibilities of', 'reason for', 'reason of', 'reasons for', 'reasons of', 'secondary to', 'source for', 'source of', 'sources for', 'sources of', 'trigger event for']}\n"
          ]
        }
      ],
      "source": [
        "#No further does not seem to fit as a pseudo-negation, therefore I will remove it, and add to preceding negation instead\n",
        "ts.remove_patterns({\"pseudo_negations\": [\"no further\"]})\n",
        "ts.add_patterns({\"preceding_negations\": [\"no further\"]})\n",
        "\n",
        "#Check that termset has been modified\n",
        "print(ts.get_patterns())"
      ]
    },
    {
      "cell_type": "code",
      "execution_count": 41,
      "metadata": {
        "id": "wAU8n3eBwwTw",
        "colab": {
          "base_uri": "https://localhost:8080/"
        },
        "outputId": "0c7c289e-ff63-4ccb-d920-6b5ddcf4b9a8"
      },
      "outputs": [
        {
          "output_type": "stream",
          "name": "stdout",
          "text": [
            "NE4 False\n",
            "Poor mobility False\n",
            "chronic pain False\n",
            "falls False\n",
            "Weight loss False\n",
            "anaemia False\n",
            "Low mood False\n",
            "poor mobility False\n",
            "Breathlessness False\n",
            "Chronic back pain False\n",
            "incontinence False\n",
            "epileptic seizures False\n",
            "Hypertension False\n",
            "Atrial fibrillation False\n",
            "Asthma \n",
            "\n",
            "Patent foramen ovale False\n",
            "cerebellar stroke False\n",
            "Atorvastatin False\n",
            "Docusate False\n",
            "fumarate False\n",
            "Vitamin-D3 False\n",
            "Furosemide False\n",
            "Gaviscon False\n",
            "inhaler False\n",
            "Salbutamol False\n",
            "Lansoprazole False\n",
            "Losartan False\n",
            "Paracetamol False\n",
            "Phenytoin False\n",
            "Tegretol False\n",
            "Codeine False\n",
            "Warfarin False\n",
            "codeine False\n",
            "poor mobility False\n",
            "falls False\n",
            "fallen False\n",
            "lack of mobility False\n",
            "housebound False\n",
            "lacks strength False\n",
            "falling False\n",
            "pain False\n",
            "fall False\n",
            "vertigo False\n",
            "pain False\n",
            "pain False\n",
            "appetite False\n",
            "nausea or vomiting False\n",
            "constipation False\n",
            "toothache False\n",
            "breathlessness False\n",
            "cough False\n",
            "phlegm False\n",
            "rash False\n",
            "rash False\n",
            "crampy False\n",
            "abdominal pain False\n",
            "ideation False\n",
            "jaundice False\n",
            "anaemia False\n",
            "cyanosis False\n",
            "clubbing False\n",
            "lymphadenopathy False\n",
            "ascites False\n",
            "basal cell carcinoma False\n",
            "tenderness False\n",
            "nystagmus False\n",
            "tremor False\n",
            "SARC-F False\n",
            "atrial fibrillation False\n",
            "lack of strength False\n",
            "depression False\n",
            "chronic back pain False\n",
            "chronic pain False\n",
            "codeine False\n",
            "breathlessness False\n",
            "LV systolic dysfunction False\n",
            "heart failure False\n",
            "weight loss False\n",
            "rash False\n",
            "anaemia False\n",
            "inflammatory disorder False\n",
            "calcium False\n",
            "myeloma False\n",
            "creatine False\n",
            "iron False\n",
            "chest x-ray showed normal heart size and clear lung fields False\n",
            "nystagmus False\n",
            "steroids False\n",
            "polymyalgia rheumatica False\n"
          ]
        }
      ],
      "source": [
        "# View any negations in letter A, True indicates a negation\n",
        "for e in doc_A.ents:\n",
        "  print(e.text, e._.negex)"
      ]
    },
    {
      "cell_type": "code",
      "execution_count": 42,
      "metadata": {
        "id": "Ou8i6o201zFS",
        "colab": {
          "base_uri": "https://localhost:8080/"
        },
        "outputId": "2ffbf7bb-2ee5-431a-ea30-ba48b0dc5e44"
      },
      "outputs": [
        {
          "output_type": "stream",
          "name": "stdout",
          "text": [
            "Newcastle NE2 5DH\n",
            "\n",
            " False\n",
            "Falls False\n",
            "gait and balance disorder False\n",
            "Hyperthyroidism False\n",
            "thyroxine False\n",
            "Sarcopenia False\n",
            "Orthostatic hypotension False\n",
            "Hypertension False\n",
            "Hypothyroidism False\n",
            "Vitamin B12 False\n",
            "fractured wrist\n",
            "\n",
            "Visual impairment False\n",
            "cataracts False\n",
            "Alendronic acid False\n",
            "Calcium False\n",
            "vitamin-D \n",
            "\n",
            "Bendroflumethiazide False\n",
            "Vitamin B12 False\n",
            "Simvastatin False\n",
            "Ramipril False\n",
            "thyroxine False\n",
            "falls False\n",
            "falls False\n",
            "fell False\n",
            "lightheadedness False\n",
            "vertigo False\n",
            "palpitations False\n",
            "chest pain False\n",
            "syncopal False\n",
            "fell False\n",
            "appetite False\n",
            "choking False\n",
            "dysphagia False\n",
            "nausea False\n",
            "abdominal pain False\n",
            "jaundice False\n",
            "anaemia False\n",
            "clubbing False\n",
            "cyanosis False\n",
            "lymphadenopathy False\n",
            "goitre False\n",
            "ankle oedema False\n",
            "organomegaly False\n",
            "bradykinesia False\n",
            "tremor False\n",
            "exophthalmos False\n",
            "Sarc-F False\n",
            "falling False\n",
            "174/64 False\n",
            "fell False\n",
            "falls False\n",
            "sarcopenia False\n",
            "falls False\n",
            "syncope False\n",
            "appetite False\n",
            "weight loss False\n",
            "hyperthyroid False\n",
            "thyroxine False\n",
            "sarcopenia False\n",
            "weight loss False\n",
            "thyroxine False\n",
            "10mcg False\n"
          ]
        }
      ],
      "source": [
        "# View any negations in letter B, True indicates a negation\n",
        "for e in doc_B.ents:\n",
        "  print(e.text, e._.negex)"
      ]
    },
    {
      "cell_type": "markdown",
      "metadata": {
        "id": "tV0xOgw52DFs"
      },
      "source": [
        "No negative entities in letters at present. There will need to ammend letters to include some negative entities for detection. "
      ]
    },
    {
      "cell_type": "code",
      "execution_count": 43,
      "metadata": {
        "id": "lQfNlt_k2MoR",
        "colab": {
          "base_uri": "https://localhost:8080/"
        },
        "outputId": "e96ed5ec-ff69-4af6-fe34-38e73676307b"
      },
      "outputs": [
        {
          "output_type": "stream",
          "name": "stderr",
          "text": [
            "/usr/local/lib/python3.7/dist-packages/scispacy/abbreviation.py:230: UserWarning: [W036] The component 'matcher' does not have any patterns defined.\n",
            "  global_matches = self.global_matcher(doc)\n"
          ]
        }
      ],
      "source": [
        "#Create letter with some negative entities that have been added\n",
        "letter_nA = '''Diagnoses: Poor mobility due to chronic pain, low confidence and no previous falls. Does not have sarcopenia.\n",
        "The patient report no chronic pain,\n",
        "Weight loss, anaemia and raised inflammatory markers of unknown aetiology \n",
        "Low mood secondary to poor mobility \n",
        "Breathlessness and elevated BNP awaiting echo \n",
        "Chronic back pain with degenerative changes on MRI \n",
        "Urinary frequency and incontinence \n",
        "\n",
        "The patient shows no difficulty walking.\n",
        "\n",
        "Thank you for referring Mr Smith who attended for a face-to-face assessment at the Belsay Clinic accompanied by his niece today. He gives a history of poor mobility and falls; both these problems are longstanding and indeed he was assessed at the Belsay clinic by my colleague Dr Boyle back in 2019 and had a course of physiotherapy at the time. More recently he has lost confidence, his balance is worse and he has fallen more. He is clear that the lack of mobility is his greatest frustration; he is not housebound unless he can be accompanied out of the house by his niece and even then he gets out only in a wheelchair. He thinks that a combination of things are stopping him being more mobile: he feels that he lacks strength, has a fear of falling and also has pain in the front and back of his legs. This is worse at night and keeps him awake at times. His last fall was two months ago. He notes feeling unsteady on standing but on close questioning this sensation did not appear to be consistent with vertigo. \n",
        "He also complains of pain across her shoulders starting in the right arm and going across the shoulders to the left arm. This has been present for about six months and is not related to exertion. It is no worse in the morning and he does not feel particularly stiff. He also describes stabbing pain over his right eye that then migrates over the top of his head. This does not seem to be related to stressful events. He has lost a considerable amount of weight - 8kg from March to August this year, and another five kg since as his weight in clinic today was 71.5 kg. His appetite is not as good as it usually is but he denies nausea or vomiting; he avoids constipation by taking laxatives. He does not complain of toothache, does not choke on food or drink and says that he eats reasonably well. He has seen a dietitian. He complains of occasional breathlessness and cough at night and brings up a small quantity of phlegm but this is little changed. He has not noticed any blood in his stools. He complains of a rash on his legs, more on the right than the left, and that her legs are often cool. He notes that this rash has been present for at least 10 years and I also note recent vascular duplex studies that suggest good arterial flow in the legs. He has urinary frequency and is often not aware of when he needs to go to the loo; he also complains of a few minutes of crampy lower abdominal pain after micturition. Perhaps unsurprisingly he is somewhat low in mood but still enjoys going out and seeing people. He denies suicidal ideation or early morning waking. He admits that he tends to live in the past more nowadays. He does not complain of any subjective memory problems. \n",
        "On examination, he was alert and engaged well with the consultation. There was no jaundice, anaemia, cyanosis, clubbing or lymphadenopathy. There was a confluent discolouration on both lower legs which was cool to the touch, not raised or tender and was not blanching. Similar changes were seen above the knees but looked more petechial in nature. Heart sounds were normal, JVP was not raised and the chest was clear. Abdominal examination revealed a 2cm liver edge but no ascites or masses. There was an old scar noted on his left upper arm where a basal cell carcinoma has been removed previously. He was mildly tender across the shoulders and in the thoracic paraspinal muscles; tenderness was not confined to the spine. He was able to raise her arms above her head. Neurological examination revealed normal tone, power and coordination. Cranial nerve examination was normal with no nystagmus. He was able to rise unaided from a chair quite quickly but was very reluctant to take a step forward. However he could walk a few paces with support from one person albeit unsteadily. There was no bradykinesia or tremor noted. \n",
        "His SarcScreen revealed a SARC-F score of 10/10, and Fried frailty score of 2/5 denoting prefrailty. He was unable to attempt the 3m walk but his maximum grip strength was 22 kg. GDS was 10/15 and MMSE was 28/30. An active stand showed a blood pressure of 141/85 with no significant drop although he was unsteady on standing. His 12 lead electrocardiogram showed atrial fibrillation at 80 per minute with nil else of note. \n",
        "There are clearly a complex set of interlocking problems here. He is rather stronger than he thinks he is on although his balance is poor, I think it is a lack of confidence rather than a lack of strength that is preventing him from mobilising more. He accepts this and is happy for us to refer to physiotherapy for strength and balance training which I think will help build his confidence. His mood is low but not sufficiently low to denote depression and I think if we can improve his mobility, his mood will improve. Some of his chronic back pain is undoubtedly due to the degenerative changes seen on MRI and I understand that surgery is not going to be an option for this. I would be reluctant to change her painkillers much at the moment though given that he is already on antiepileptic medications and so adding in other agents for chronic pain may not help much but might interact with these medications. \n",
        "We discussed the fine balance between benefits and side effects of all of these medications today. What would perhaps be helpful though is to reduce the codeine to 15 mg so that he can try and take this more regularly; he finds that the 30 mg dose makes him feel very unsteady on her feet. Having said all of this, it is clear that the blood tests suggest some issues that require further investigation. His breathlessness on exertion and raised BNP suggest that investigation for LV systolic dysfunction causing heart failure would be beneficial and I note that he has already had an echo requested. His weight loss is quite dramatic and this, together with the admittedly longstanding rash on his legs, anaemia, raised ESR and high platelet counts suggest that there is an inflammatory disorder present. Whether this is autoimmune or due to another aetiology is unclear. I have requested bloods today including repeat U&Es, liver function tests, calcium, myeloma screen, CRP and ESR, autoimmune screen, creatine kinase and iron studies. I have also requested an ultrasound of the abdomen to investigate the liver edge that I could feel; I note that a recent chest x-ray showed normal heart size and clear lung fields. Despite the possible finding of horizontal nystagmus by Community Nursing colleagues I could not find any evidence of this today and I don’t think we need to progress to brain scanning at present. \n",
        "Once we have got the blood and ultrasound results, I will phone Mr Smith again and discuss the best way forward. It may be that if we do not find another cause for his inflammatory condition, a trial of steroids might be warranted as some of the features including the shoulder discomfort could be consistent with polymyalgia rheumatica. I have explained this today but also explained that I think we need to investigate further before diving in with treatment in case this is not the diagnosis. \"\n",
        "'''\n",
        "\n",
        "#apply nlp pipeline to letter_nA\n",
        "doc_nA = nlp(letter_nA)"
      ]
    },
    {
      "cell_type": "code",
      "source": [
        "print(doc_nA)"
      ],
      "metadata": {
        "colab": {
          "base_uri": "https://localhost:8080/"
        },
        "id": "9SobhJOURAog",
        "outputId": "39a47341-9286-403a-bbb3-a13d22edb6a7"
      },
      "execution_count": 44,
      "outputs": [
        {
          "output_type": "stream",
          "name": "stdout",
          "text": [
            "Diagnoses: Poor mobility due to chronic pain, low confidence and no previous falls. Does not have sarcopenia.\n",
            "The patient report no chronic pain,\n",
            "Weight loss, anaemia and raised inflammatory markers of unknown aetiology \n",
            "Low mood secondary to poor mobility \n",
            "Breathlessness and elevated BNP awaiting echo \n",
            "Chronic back pain with degenerative changes on MRI \n",
            "Urinary frequency and incontinence \n",
            "\n",
            "The patient shows no difficulty walking.\n",
            "\n",
            "Thank you for referring Mr Smith who attended for a face-to-face assessment at the Belsay Clinic accompanied by his niece today. He gives a history of poor mobility and falls; both these problems are longstanding and indeed he was assessed at the Belsay clinic by my colleague Dr Boyle back in 2019 and had a course of physiotherapy at the time. More recently he has lost confidence, his balance is worse and he has fallen more. He is clear that the lack of mobility is his greatest frustration; he is not housebound unless he can be accompanied out of the house by his niece and even then he gets out only in a wheelchair. He thinks that a combination of things are stopping him being more mobile: he feels that he lacks strength, has a fear of falling and also has pain in the front and back of his legs. This is worse at night and keeps him awake at times. His last fall was two months ago. He notes feeling unsteady on standing but on close questioning this sensation did not appear to be consistent with vertigo. \n",
            "He also complains of pain across her shoulders starting in the right arm and going across the shoulders to the left arm. This has been present for about six months and is not related to exertion. It is no worse in the morning and he does not feel particularly stiff. He also describes stabbing pain over his right eye that then migrates over the top of his head. This does not seem to be related to stressful events. He has lost a considerable amount of weight - 8kg from March to August this year, and another five kg since as his weight in clinic today was 71.5 kg. His appetite is not as good as it usually is but he denies nausea or vomiting; he avoids constipation by taking laxatives. He does not complain of toothache, does not choke on food or drink and says that he eats reasonably well. He has seen a dietitian. He complains of occasional breathlessness and cough at night and brings up a small quantity of phlegm but this is little changed. He has not noticed any blood in his stools. He complains of a rash on his legs, more on the right than the left, and that her legs are often cool. He notes that this rash has been present for at least 10 years and I also note recent vascular duplex studies that suggest good arterial flow in the legs. He has urinary frequency and is often not aware of when he needs to go to the loo; he also complains of a few minutes of crampy lower abdominal pain after micturition. Perhaps unsurprisingly he is somewhat low in mood but still enjoys going out and seeing people. He denies suicidal ideation or early morning waking. He admits that he tends to live in the past more nowadays. He does not complain of any subjective memory problems. \n",
            "On examination, he was alert and engaged well with the consultation. There was no jaundice, anaemia, cyanosis, clubbing or lymphadenopathy. There was a confluent discolouration on both lower legs which was cool to the touch, not raised or tender and was not blanching. Similar changes were seen above the knees but looked more petechial in nature. Heart sounds were normal, JVP was not raised and the chest was clear. Abdominal examination revealed a 2cm liver edge but no ascites or masses. There was an old scar noted on his left upper arm where a basal cell carcinoma has been removed previously. He was mildly tender across the shoulders and in the thoracic paraspinal muscles; tenderness was not confined to the spine. He was able to raise her arms above her head. Neurological examination revealed normal tone, power and coordination. Cranial nerve examination was normal with no nystagmus. He was able to rise unaided from a chair quite quickly but was very reluctant to take a step forward. However he could walk a few paces with support from one person albeit unsteadily. There was no bradykinesia or tremor noted. \n",
            "His SarcScreen revealed a SARC-F score of 10/10, and Fried frailty score of 2/5 denoting prefrailty. He was unable to attempt the 3m walk but his maximum grip strength was 22 kg. GDS was 10/15 and MMSE was 28/30. An active stand showed a blood pressure of 141/85 with no significant drop although he was unsteady on standing. His 12 lead electrocardiogram showed atrial fibrillation at 80 per minute with nil else of note. \n",
            "There are clearly a complex set of interlocking problems here. He is rather stronger than he thinks he is on although his balance is poor, I think it is a lack of confidence rather than a lack of strength that is preventing him from mobilising more. He accepts this and is happy for us to refer to physiotherapy for strength and balance training which I think will help build his confidence. His mood is low but not sufficiently low to denote depression and I think if we can improve his mobility, his mood will improve. Some of his chronic back pain is undoubtedly due to the degenerative changes seen on MRI and I understand that surgery is not going to be an option for this. I would be reluctant to change her painkillers much at the moment though given that he is already on antiepileptic medications and so adding in other agents for chronic pain may not help much but might interact with these medications. \n",
            "We discussed the fine balance between benefits and side effects of all of these medications today. What would perhaps be helpful though is to reduce the codeine to 15 mg so that he can try and take this more regularly; he finds that the 30 mg dose makes him feel very unsteady on her feet. Having said all of this, it is clear that the blood tests suggest some issues that require further investigation. His breathlessness on exertion and raised BNP suggest that investigation for LV systolic dysfunction causing heart failure would be beneficial and I note that he has already had an echo requested. His weight loss is quite dramatic and this, together with the admittedly longstanding rash on his legs, anaemia, raised ESR and high platelet counts suggest that there is an inflammatory disorder present. Whether this is autoimmune or due to another aetiology is unclear. I have requested bloods today including repeat U&Es, liver function tests, calcium, myeloma screen, CRP and ESR, autoimmune screen, creatine kinase and iron studies. I have also requested an ultrasound of the abdomen to investigate the liver edge that I could feel; I note that a recent chest x-ray showed normal heart size and clear lung fields. Despite the possible finding of horizontal nystagmus by Community Nursing colleagues I could not find any evidence of this today and I don’t think we need to progress to brain scanning at present. \n",
            "Once we have got the blood and ultrasound results, I will phone Mr Smith again and discuss the best way forward. It may be that if we do not find another cause for his inflammatory condition, a trial of steroids might be warranted as some of the features including the shoulder discomfort could be consistent with polymyalgia rheumatica. I have explained this today but also explained that I think we need to investigate further before diving in with treatment in case this is not the diagnosis. \"\n",
            "\n"
          ]
        }
      ]
    },
    {
      "cell_type": "code",
      "source": [
        "#Visualise weakness entities in doc_nA\n",
        "\n",
        "def get_entity_options():\n",
        "  entities = [\"WEAKNESS TERM\", \"SARCOPENIA\", \"SARC-F\"]\n",
        "  colors = {\"WEAKNESS TERM\": 'linear-gradient(90deg, #ffff66, #ff6600)', \"SARCOPENIA\": 'linear-gradient(90deg, #aa9cfc, #fc9ce7)',\n",
        "            \"SARC-F\": 'linear-gradient(180deg, #66ffcc, #abf763)'}\n",
        "  options = {\"ents\": entities, \"colors\": colors}\n",
        "  return options\n",
        "options = get_entity_options()\n",
        "\n",
        "displacy.render(doc_nA, style = 'ent', options=options, jupyter = True)"
      ],
      "metadata": {
        "colab": {
          "base_uri": "https://localhost:8080/",
          "height": 1000
        },
        "id": "rw-KrdxlUADr",
        "outputId": "90f020fb-0a67-4064-c117-8f43456f352f"
      },
      "execution_count": 45,
      "outputs": [
        {
          "output_type": "display_data",
          "data": {
            "text/plain": [
              "<IPython.core.display.HTML object>"
            ],
            "text/html": [
              "<span class=\"tex2jax_ignore\"><div class=\"entities\" style=\"line-height: 2.5; direction: ltr\">Diagnoses: \n",
              "<mark class=\"entity\" style=\"background: linear-gradient(90deg, #ffff66, #ff6600); padding: 0.45em 0.6em; margin: 0 0.25em; line-height: 1; border-radius: 0.35em;\">\n",
              "    Poor mobility\n",
              "    <span style=\"font-size: 0.8em; font-weight: bold; line-height: 1; border-radius: 0.35em; vertical-align: middle; margin-left: 0.5rem\">WEAKNESS TERM</span>\n",
              "</mark>\n",
              " due to chronic pain, low confidence and no previous \n",
              "<mark class=\"entity\" style=\"background: linear-gradient(90deg, #ffff66, #ff6600); padding: 0.45em 0.6em; margin: 0 0.25em; line-height: 1; border-radius: 0.35em;\">\n",
              "    falls\n",
              "    <span style=\"font-size: 0.8em; font-weight: bold; line-height: 1; border-radius: 0.35em; vertical-align: middle; margin-left: 0.5rem\">WEAKNESS TERM</span>\n",
              "</mark>\n",
              ". Does not have \n",
              "<mark class=\"entity\" style=\"background: linear-gradient(90deg, #aa9cfc, #fc9ce7); padding: 0.45em 0.6em; margin: 0 0.25em; line-height: 1; border-radius: 0.35em;\">\n",
              "    sarcopenia\n",
              "    <span style=\"font-size: 0.8em; font-weight: bold; line-height: 1; border-radius: 0.35em; vertical-align: middle; margin-left: 0.5rem\">SARCOPENIA</span>\n",
              "</mark>\n",
              ".</br>The patient report no chronic pain,</br>Weight loss, anaemia and raised inflammatory markers of unknown aetiology </br>Low mood secondary to \n",
              "<mark class=\"entity\" style=\"background: linear-gradient(90deg, #ffff66, #ff6600); padding: 0.45em 0.6em; margin: 0 0.25em; line-height: 1; border-radius: 0.35em;\">\n",
              "    poor mobility\n",
              "    <span style=\"font-size: 0.8em; font-weight: bold; line-height: 1; border-radius: 0.35em; vertical-align: middle; margin-left: 0.5rem\">WEAKNESS TERM</span>\n",
              "</mark>\n",
              " </br>Breathlessness and elevated BNP awaiting echo </br>Chronic back pain with degenerative changes on MRI </br>Urinary frequency and incontinence </br></br>The patient shows no difficulty walking.</br></br>Thank you for referring Mr Smith who attended for a face-to-face assessment at the Belsay Clinic accompanied by his niece today. He gives a history of \n",
              "<mark class=\"entity\" style=\"background: linear-gradient(90deg, #ffff66, #ff6600); padding: 0.45em 0.6em; margin: 0 0.25em; line-height: 1; border-radius: 0.35em;\">\n",
              "    poor mobility\n",
              "    <span style=\"font-size: 0.8em; font-weight: bold; line-height: 1; border-radius: 0.35em; vertical-align: middle; margin-left: 0.5rem\">WEAKNESS TERM</span>\n",
              "</mark>\n",
              " and \n",
              "<mark class=\"entity\" style=\"background: linear-gradient(90deg, #ffff66, #ff6600); padding: 0.45em 0.6em; margin: 0 0.25em; line-height: 1; border-radius: 0.35em;\">\n",
              "    falls\n",
              "    <span style=\"font-size: 0.8em; font-weight: bold; line-height: 1; border-radius: 0.35em; vertical-align: middle; margin-left: 0.5rem\">WEAKNESS TERM</span>\n",
              "</mark>\n",
              "; both these problems are longstanding and indeed he was assessed at the Belsay clinic by my colleague Dr Boyle back in 2019 and had a course of physiotherapy at the time. More recently he has lost confidence, his balance is worse and he has \n",
              "<mark class=\"entity\" style=\"background: linear-gradient(90deg, #ffff66, #ff6600); padding: 0.45em 0.6em; margin: 0 0.25em; line-height: 1; border-radius: 0.35em;\">\n",
              "    fallen\n",
              "    <span style=\"font-size: 0.8em; font-weight: bold; line-height: 1; border-radius: 0.35em; vertical-align: middle; margin-left: 0.5rem\">WEAKNESS TERM</span>\n",
              "</mark>\n",
              " more. He is clear that the \n",
              "<mark class=\"entity\" style=\"background: linear-gradient(90deg, #ffff66, #ff6600); padding: 0.45em 0.6em; margin: 0 0.25em; line-height: 1; border-radius: 0.35em;\">\n",
              "    lack of mobility\n",
              "    <span style=\"font-size: 0.8em; font-weight: bold; line-height: 1; border-radius: 0.35em; vertical-align: middle; margin-left: 0.5rem\">WEAKNESS TERM</span>\n",
              "</mark>\n",
              " is his greatest frustration; he is not \n",
              "<mark class=\"entity\" style=\"background: linear-gradient(90deg, #ffff66, #ff6600); padding: 0.45em 0.6em; margin: 0 0.25em; line-height: 1; border-radius: 0.35em;\">\n",
              "    housebound\n",
              "    <span style=\"font-size: 0.8em; font-weight: bold; line-height: 1; border-radius: 0.35em; vertical-align: middle; margin-left: 0.5rem\">WEAKNESS TERM</span>\n",
              "</mark>\n",
              " unless he can be accompanied out of the house by his niece and even then he gets out only in a wheelchair. He thinks that a combination of things are stopping him being more mobile: he feels that he \n",
              "<mark class=\"entity\" style=\"background: linear-gradient(90deg, #ffff66, #ff6600); padding: 0.45em 0.6em; margin: 0 0.25em; line-height: 1; border-radius: 0.35em;\">\n",
              "    lacks strength\n",
              "    <span style=\"font-size: 0.8em; font-weight: bold; line-height: 1; border-radius: 0.35em; vertical-align: middle; margin-left: 0.5rem\">WEAKNESS TERM</span>\n",
              "</mark>\n",
              ", has a fear of \n",
              "<mark class=\"entity\" style=\"background: linear-gradient(90deg, #ffff66, #ff6600); padding: 0.45em 0.6em; margin: 0 0.25em; line-height: 1; border-radius: 0.35em;\">\n",
              "    falling\n",
              "    <span style=\"font-size: 0.8em; font-weight: bold; line-height: 1; border-radius: 0.35em; vertical-align: middle; margin-left: 0.5rem\">WEAKNESS TERM</span>\n",
              "</mark>\n",
              " and also has pain in the front and back of his legs. This is worse at night and keeps him awake at times. His last \n",
              "<mark class=\"entity\" style=\"background: linear-gradient(90deg, #ffff66, #ff6600); padding: 0.45em 0.6em; margin: 0 0.25em; line-height: 1; border-radius: 0.35em;\">\n",
              "    fall\n",
              "    <span style=\"font-size: 0.8em; font-weight: bold; line-height: 1; border-radius: 0.35em; vertical-align: middle; margin-left: 0.5rem\">WEAKNESS TERM</span>\n",
              "</mark>\n",
              " was two months ago. He notes feeling unsteady on standing but on close questioning this sensation did not appear to be consistent with vertigo. </br>He also complains of pain across her shoulders starting in the right arm and going across the shoulders to the left arm. This has been present for about six months and is not related to exertion. It is no worse in the morning and he does not feel particularly stiff. He also describes stabbing pain over his right eye that then migrates over the top of his head. This does not seem to be related to stressful events. He has lost a considerable amount of weight - 8kg from March to August this year, and another five kg since as his weight in clinic today was 71.5 kg. His appetite is not as good as it usually is but he denies nausea or vomiting; he avoids constipation by taking laxatives. He does not complain of toothache, does not choke on food or drink and says that he eats reasonably well. He has seen a dietitian. He complains of occasional breathlessness and cough at night and brings up a small quantity of phlegm but this is little changed. He has not noticed any blood in his stools. He complains of a rash on his legs, more on the right than the left, and that her legs are often cool. He notes that this rash has been present for at least 10 years and I also note recent vascular duplex studies that suggest good arterial flow in the legs. He has urinary frequency and is often not aware of when he needs to go to the loo; he also complains of a few minutes of crampy lower abdominal pain after micturition. Perhaps unsurprisingly he is somewhat low in mood but still enjoys going out and seeing people. He denies suicidal ideation or early morning waking. He admits that he tends to live in the past more nowadays. He does not complain of any subjective memory problems. </br>On examination, he was alert and engaged well with the consultation. There was no jaundice, anaemia, cyanosis, clubbing or lymphadenopathy. There was a confluent discolouration on both lower legs which was cool to the touch, not raised or tender and was not blanching. Similar changes were seen above the knees but looked more petechial in nature. Heart sounds were normal, JVP was not raised and the chest was clear. Abdominal examination revealed a 2cm liver edge but no ascites or masses. There was an old scar noted on his left upper arm where a basal cell carcinoma has been removed previously. He was mildly tender across the shoulders and in the thoracic paraspinal muscles; tenderness was not confined to the spine. He was able to raise her arms above her head. Neurological examination revealed normal tone, power and coordination. Cranial nerve examination was normal with no nystagmus. He was able to rise unaided from a chair quite quickly but was very reluctant to take a step forward. However he could walk a few paces with support from one person albeit unsteadily. There was no bradykinesia or tremor noted. </br>His SarcScreen revealed a \n",
              "<mark class=\"entity\" style=\"background: linear-gradient(180deg, #66ffcc, #abf763); padding: 0.45em 0.6em; margin: 0 0.25em; line-height: 1; border-radius: 0.35em;\">\n",
              "    SARC-F\n",
              "    <span style=\"font-size: 0.8em; font-weight: bold; line-height: 1; border-radius: 0.35em; vertical-align: middle; margin-left: 0.5rem\">SARC-F</span>\n",
              "</mark>\n",
              " score of 10/10, and Fried frailty score of 2/5 denoting prefrailty. He was unable to attempt the 3m walk but his maximum grip strength was 22 kg. GDS was 10/15 and MMSE was 28/30. An active stand showed a blood pressure of 141/85 with no significant drop although he was unsteady on standing. His 12 lead electrocardiogram showed atrial fibrillation at 80 per minute with nil else of note. </br>There are clearly a complex set of interlocking problems here. He is rather stronger than he thinks he is on although his balance is poor, I think it is a lack of confidence rather than a \n",
              "<mark class=\"entity\" style=\"background: linear-gradient(90deg, #ffff66, #ff6600); padding: 0.45em 0.6em; margin: 0 0.25em; line-height: 1; border-radius: 0.35em;\">\n",
              "    lack of strength\n",
              "    <span style=\"font-size: 0.8em; font-weight: bold; line-height: 1; border-radius: 0.35em; vertical-align: middle; margin-left: 0.5rem\">WEAKNESS TERM</span>\n",
              "</mark>\n",
              " that is preventing him from mobilising more. He accepts this and is happy for us to refer to physiotherapy for strength and balance training which I think will help build his confidence. His mood is low but not sufficiently low to denote depression and I think if we can improve his mobility, his mood will improve. Some of his chronic back pain is undoubtedly due to the degenerative changes seen on MRI and I understand that surgery is not going to be an option for this. I would be reluctant to change her painkillers much at the moment though given that he is already on antiepileptic medications and so adding in other agents for chronic pain may not help much but might interact with these medications. </br>We discussed the fine balance between benefits and side effects of all of these medications today. What would perhaps be helpful though is to reduce the codeine to 15 mg so that he can try and take this more regularly; he finds that the 30 mg dose makes him feel very unsteady on her feet. Having said all of this, it is clear that the blood tests suggest some issues that require further investigation. His breathlessness on exertion and raised BNP suggest that investigation for LV systolic dysfunction causing heart failure would be beneficial and I note that he has already had an echo requested. His weight loss is quite dramatic and this, together with the admittedly longstanding rash on his legs, anaemia, raised ESR and high platelet counts suggest that there is an inflammatory disorder present. Whether this is autoimmune or due to another aetiology is unclear. I have requested bloods today including repeat U&amp;Es, liver function tests, calcium, myeloma screen, CRP and ESR, autoimmune screen, creatine kinase and iron studies. I have also requested an ultrasound of the abdomen to investigate the liver edge that I could feel; I note that a recent chest x-ray showed normal heart size and clear lung fields. Despite the possible finding of horizontal nystagmus by Community Nursing colleagues I could not find any evidence of this today and I don’t think we need to progress to brain scanning at present. </br>Once we have got the blood and ultrasound results, I will phone Mr Smith again and discuss the best way forward. It may be that if we do not find another cause for his inflammatory condition, a trial of steroids might be warranted as some of the features including the shoulder discomfort could be consistent with polymyalgia rheumatica. I have explained this today but also explained that I think we need to investigate further before diving in with treatment in case this is not the diagnosis. &quot;</br></div></span>"
            ]
          },
          "metadata": {}
        }
      ]
    },
    {
      "cell_type": "code",
      "execution_count": 46,
      "metadata": {
        "id": "fKDNpQWH21TB",
        "colab": {
          "base_uri": "https://localhost:8080/"
        },
        "outputId": "6eb6b0af-b54a-42c5-9361-959b5ad670af"
      },
      "outputs": [
        {
          "output_type": "stream",
          "name": "stdout",
          "text": [
            "Poor mobility False\n",
            "chronic pain False\n",
            "falls True\n",
            "sarcopenia True\n",
            "pain False\n",
            "Weight loss False\n",
            "anaemia False\n",
            "poor mobility False\n",
            "Breathlessness False\n",
            "Chronic back pain False\n",
            "incontinence False\n",
            "poor mobility True\n",
            "falls True\n",
            "fallen True\n",
            "lack of mobility False\n",
            "housebound True\n",
            "lacks strength True\n",
            "falling True\n",
            "pain False\n",
            "fall False\n",
            "vertigo False\n",
            "pain False\n",
            "pain False\n",
            "appetite False\n",
            "nausea or vomiting False\n",
            "constipation False\n",
            "toothache False\n",
            "breathlessness False\n",
            "cough False\n",
            "phlegm False\n",
            "rash False\n",
            "rash False\n",
            "crampy False\n",
            "abdominal pain False\n",
            "ideation False\n",
            "jaundice False\n",
            "anaemia False\n",
            "cyanosis False\n",
            "clubbing False\n",
            "lymphadenopathy False\n",
            "ascites False\n",
            "basal cell carcinoma False\n",
            "tenderness False\n",
            "nystagmus False\n",
            "tremor False\n",
            "SARC-F False\n",
            "atrial fibrillation False\n",
            "lack of strength False\n",
            "depression False\n",
            "chronic back pain False\n",
            "chronic pain False\n",
            "codeine False\n",
            "breathlessness False\n",
            "LV systolic dysfunction False\n",
            "heart failure False\n",
            "weight loss False\n",
            "rash False\n",
            "anaemia False\n",
            "inflammatory disorder False\n",
            "calcium False\n",
            "myeloma False\n",
            "creatine False\n",
            "iron False\n",
            "chest x-ray showed normal heart size and clear lung fields False\n",
            "nystagmus False\n",
            "steroids False\n",
            "polymyalgia rheumatica False\n"
          ]
        }
      ],
      "source": [
        "# View any negations in letter_nA, True indicates a negation\n",
        "for e in doc_nA.ents:\n",
        "  print(e.text, e._.negex)"
      ]
    },
    {
      "cell_type": "markdown",
      "source": [
        "Now highlight negative entities"
      ],
      "metadata": {
        "id": "kbPQjk4TSWg5"
      }
    },
    {
      "cell_type": "code",
      "source": [
        "def add_neg_entities(doc):\n",
        "    new_ents = []\n",
        "    for ent in doc.ents:\n",
        "        # Only check for entity if negex is true\n",
        "        if ent._.negex:\n",
        "            #print(ent.label_)\n",
        "            #new_ent = Span(doc, ent.start, ent.end, label=ent.label, label_=\"NEG_ENTITY\")\n",
        "            ent.label_=\"NEG_ENTITY\"\n",
        "            \n",
        "        new_ents.append(ent)\n",
        "    \n",
        "    doc.ents = new_ents\n",
        "    return doc\n",
        "    \n",
        "doc_nAA = add_neg_entities(doc_nA)"
      ],
      "metadata": {
        "id": "_hrjCWTmSZCR"
      },
      "execution_count": 47,
      "outputs": []
    },
    {
      "cell_type": "code",
      "source": [
        "#Visualise entities in Letter nA - weakness related phrases are recongized\n",
        "#function to modify options for displacy NER visualization\n",
        "def get_entity_options():\n",
        "    entities = [\"WEAKNESS TERM\", \"SARCOPENIA\", \"SARC-F\",\"NEG_ENTITY\"]\n",
        "    colors = {\"WEAKNESS TERM\": 'linear-gradient(90deg, #ffff66, #ff6600)', \"SARCOPENIA\": 'linear-gradient(90deg, #aa9cfc, #fc9ce7)',\n",
        "            \"SARC-F\": 'linear-gradient(180deg, #66ffcc, #abf763)', \"NEG_ENTITY\":'linear-gradient(0deg, rgba(255,0,0,0), rgba(255,0,0,1))'}\n",
        "    options = {\"ents\": entities, \"colors\": colors}    \n",
        "    return options\n",
        "options = get_entity_options()\n",
        "\n",
        "displacy.render(doc_nAA, style='ent', options=options, jupyter = True)"
      ],
      "metadata": {
        "colab": {
          "base_uri": "https://localhost:8080/",
          "height": 1000
        },
        "id": "Xwm3nLgsTdf5",
        "outputId": "e8bf1961-e2f7-4d08-f809-ceca944c693f"
      },
      "execution_count": 48,
      "outputs": [
        {
          "output_type": "display_data",
          "data": {
            "text/plain": [
              "<IPython.core.display.HTML object>"
            ],
            "text/html": [
              "<span class=\"tex2jax_ignore\"><div class=\"entities\" style=\"line-height: 2.5; direction: ltr\">Diagnoses: \n",
              "<mark class=\"entity\" style=\"background: linear-gradient(90deg, #ffff66, #ff6600); padding: 0.45em 0.6em; margin: 0 0.25em; line-height: 1; border-radius: 0.35em;\">\n",
              "    Poor mobility\n",
              "    <span style=\"font-size: 0.8em; font-weight: bold; line-height: 1; border-radius: 0.35em; vertical-align: middle; margin-left: 0.5rem\">WEAKNESS TERM</span>\n",
              "</mark>\n",
              " due to chronic pain, low confidence and no previous \n",
              "<mark class=\"entity\" style=\"background: linear-gradient(0deg, rgba(255,0,0,0), rgba(255,0,0,1)); padding: 0.45em 0.6em; margin: 0 0.25em; line-height: 1; border-radius: 0.35em;\">\n",
              "    falls\n",
              "    <span style=\"font-size: 0.8em; font-weight: bold; line-height: 1; border-radius: 0.35em; vertical-align: middle; margin-left: 0.5rem\">NEG_ENTITY</span>\n",
              "</mark>\n",
              ". Does not have \n",
              "<mark class=\"entity\" style=\"background: linear-gradient(0deg, rgba(255,0,0,0), rgba(255,0,0,1)); padding: 0.45em 0.6em; margin: 0 0.25em; line-height: 1; border-radius: 0.35em;\">\n",
              "    sarcopenia\n",
              "    <span style=\"font-size: 0.8em; font-weight: bold; line-height: 1; border-radius: 0.35em; vertical-align: middle; margin-left: 0.5rem\">NEG_ENTITY</span>\n",
              "</mark>\n",
              ".</br>The patient report no chronic pain,</br>Weight loss, anaemia and raised inflammatory markers of unknown aetiology </br>Low mood secondary to \n",
              "<mark class=\"entity\" style=\"background: linear-gradient(90deg, #ffff66, #ff6600); padding: 0.45em 0.6em; margin: 0 0.25em; line-height: 1; border-radius: 0.35em;\">\n",
              "    poor mobility\n",
              "    <span style=\"font-size: 0.8em; font-weight: bold; line-height: 1; border-radius: 0.35em; vertical-align: middle; margin-left: 0.5rem\">WEAKNESS TERM</span>\n",
              "</mark>\n",
              " </br>Breathlessness and elevated BNP awaiting echo </br>Chronic back pain with degenerative changes on MRI </br>Urinary frequency and incontinence </br></br>The patient shows no difficulty walking.</br></br>Thank you for referring Mr Smith who attended for a face-to-face assessment at the Belsay Clinic accompanied by his niece today. He gives a history of \n",
              "<mark class=\"entity\" style=\"background: linear-gradient(0deg, rgba(255,0,0,0), rgba(255,0,0,1)); padding: 0.45em 0.6em; margin: 0 0.25em; line-height: 1; border-radius: 0.35em;\">\n",
              "    poor mobility\n",
              "    <span style=\"font-size: 0.8em; font-weight: bold; line-height: 1; border-radius: 0.35em; vertical-align: middle; margin-left: 0.5rem\">NEG_ENTITY</span>\n",
              "</mark>\n",
              " and \n",
              "<mark class=\"entity\" style=\"background: linear-gradient(0deg, rgba(255,0,0,0), rgba(255,0,0,1)); padding: 0.45em 0.6em; margin: 0 0.25em; line-height: 1; border-radius: 0.35em;\">\n",
              "    falls\n",
              "    <span style=\"font-size: 0.8em; font-weight: bold; line-height: 1; border-radius: 0.35em; vertical-align: middle; margin-left: 0.5rem\">NEG_ENTITY</span>\n",
              "</mark>\n",
              "; both these problems are longstanding and indeed he was assessed at the Belsay clinic by my colleague Dr Boyle back in 2019 and had a course of physiotherapy at the time. More recently he has lost confidence, his balance is worse and he has \n",
              "<mark class=\"entity\" style=\"background: linear-gradient(0deg, rgba(255,0,0,0), rgba(255,0,0,1)); padding: 0.45em 0.6em; margin: 0 0.25em; line-height: 1; border-radius: 0.35em;\">\n",
              "    fallen\n",
              "    <span style=\"font-size: 0.8em; font-weight: bold; line-height: 1; border-radius: 0.35em; vertical-align: middle; margin-left: 0.5rem\">NEG_ENTITY</span>\n",
              "</mark>\n",
              " more. He is clear that the \n",
              "<mark class=\"entity\" style=\"background: linear-gradient(90deg, #ffff66, #ff6600); padding: 0.45em 0.6em; margin: 0 0.25em; line-height: 1; border-radius: 0.35em;\">\n",
              "    lack of mobility\n",
              "    <span style=\"font-size: 0.8em; font-weight: bold; line-height: 1; border-radius: 0.35em; vertical-align: middle; margin-left: 0.5rem\">WEAKNESS TERM</span>\n",
              "</mark>\n",
              " is his greatest frustration; he is not \n",
              "<mark class=\"entity\" style=\"background: linear-gradient(0deg, rgba(255,0,0,0), rgba(255,0,0,1)); padding: 0.45em 0.6em; margin: 0 0.25em; line-height: 1; border-radius: 0.35em;\">\n",
              "    housebound\n",
              "    <span style=\"font-size: 0.8em; font-weight: bold; line-height: 1; border-radius: 0.35em; vertical-align: middle; margin-left: 0.5rem\">NEG_ENTITY</span>\n",
              "</mark>\n",
              " unless he can be accompanied out of the house by his niece and even then he gets out only in a wheelchair. He thinks that a combination of things are stopping him being more mobile: he feels that he \n",
              "<mark class=\"entity\" style=\"background: linear-gradient(0deg, rgba(255,0,0,0), rgba(255,0,0,1)); padding: 0.45em 0.6em; margin: 0 0.25em; line-height: 1; border-radius: 0.35em;\">\n",
              "    lacks strength\n",
              "    <span style=\"font-size: 0.8em; font-weight: bold; line-height: 1; border-radius: 0.35em; vertical-align: middle; margin-left: 0.5rem\">NEG_ENTITY</span>\n",
              "</mark>\n",
              ", has a fear of \n",
              "<mark class=\"entity\" style=\"background: linear-gradient(0deg, rgba(255,0,0,0), rgba(255,0,0,1)); padding: 0.45em 0.6em; margin: 0 0.25em; line-height: 1; border-radius: 0.35em;\">\n",
              "    falling\n",
              "    <span style=\"font-size: 0.8em; font-weight: bold; line-height: 1; border-radius: 0.35em; vertical-align: middle; margin-left: 0.5rem\">NEG_ENTITY</span>\n",
              "</mark>\n",
              " and also has pain in the front and back of his legs. This is worse at night and keeps him awake at times. His last \n",
              "<mark class=\"entity\" style=\"background: linear-gradient(90deg, #ffff66, #ff6600); padding: 0.45em 0.6em; margin: 0 0.25em; line-height: 1; border-radius: 0.35em;\">\n",
              "    fall\n",
              "    <span style=\"font-size: 0.8em; font-weight: bold; line-height: 1; border-radius: 0.35em; vertical-align: middle; margin-left: 0.5rem\">WEAKNESS TERM</span>\n",
              "</mark>\n",
              " was two months ago. He notes feeling unsteady on standing but on close questioning this sensation did not appear to be consistent with vertigo. </br>He also complains of pain across her shoulders starting in the right arm and going across the shoulders to the left arm. This has been present for about six months and is not related to exertion. It is no worse in the morning and he does not feel particularly stiff. He also describes stabbing pain over his right eye that then migrates over the top of his head. This does not seem to be related to stressful events. He has lost a considerable amount of weight - 8kg from March to August this year, and another five kg since as his weight in clinic today was 71.5 kg. His appetite is not as good as it usually is but he denies nausea or vomiting; he avoids constipation by taking laxatives. He does not complain of toothache, does not choke on food or drink and says that he eats reasonably well. He has seen a dietitian. He complains of occasional breathlessness and cough at night and brings up a small quantity of phlegm but this is little changed. He has not noticed any blood in his stools. He complains of a rash on his legs, more on the right than the left, and that her legs are often cool. He notes that this rash has been present for at least 10 years and I also note recent vascular duplex studies that suggest good arterial flow in the legs. He has urinary frequency and is often not aware of when he needs to go to the loo; he also complains of a few minutes of crampy lower abdominal pain after micturition. Perhaps unsurprisingly he is somewhat low in mood but still enjoys going out and seeing people. He denies suicidal ideation or early morning waking. He admits that he tends to live in the past more nowadays. He does not complain of any subjective memory problems. </br>On examination, he was alert and engaged well with the consultation. There was no jaundice, anaemia, cyanosis, clubbing or lymphadenopathy. There was a confluent discolouration on both lower legs which was cool to the touch, not raised or tender and was not blanching. Similar changes were seen above the knees but looked more petechial in nature. Heart sounds were normal, JVP was not raised and the chest was clear. Abdominal examination revealed a 2cm liver edge but no ascites or masses. There was an old scar noted on his left upper arm where a basal cell carcinoma has been removed previously. He was mildly tender across the shoulders and in the thoracic paraspinal muscles; tenderness was not confined to the spine. He was able to raise her arms above her head. Neurological examination revealed normal tone, power and coordination. Cranial nerve examination was normal with no nystagmus. He was able to rise unaided from a chair quite quickly but was very reluctant to take a step forward. However he could walk a few paces with support from one person albeit unsteadily. There was no bradykinesia or tremor noted. </br>His SarcScreen revealed a \n",
              "<mark class=\"entity\" style=\"background: linear-gradient(180deg, #66ffcc, #abf763); padding: 0.45em 0.6em; margin: 0 0.25em; line-height: 1; border-radius: 0.35em;\">\n",
              "    SARC-F\n",
              "    <span style=\"font-size: 0.8em; font-weight: bold; line-height: 1; border-radius: 0.35em; vertical-align: middle; margin-left: 0.5rem\">SARC-F</span>\n",
              "</mark>\n",
              " score of 10/10, and Fried frailty score of 2/5 denoting prefrailty. He was unable to attempt the 3m walk but his maximum grip strength was 22 kg. GDS was 10/15 and MMSE was 28/30. An active stand showed a blood pressure of 141/85 with no significant drop although he was unsteady on standing. His 12 lead electrocardiogram showed atrial fibrillation at 80 per minute with nil else of note. </br>There are clearly a complex set of interlocking problems here. He is rather stronger than he thinks he is on although his balance is poor, I think it is a lack of confidence rather than a \n",
              "<mark class=\"entity\" style=\"background: linear-gradient(90deg, #ffff66, #ff6600); padding: 0.45em 0.6em; margin: 0 0.25em; line-height: 1; border-radius: 0.35em;\">\n",
              "    lack of strength\n",
              "    <span style=\"font-size: 0.8em; font-weight: bold; line-height: 1; border-radius: 0.35em; vertical-align: middle; margin-left: 0.5rem\">WEAKNESS TERM</span>\n",
              "</mark>\n",
              " that is preventing him from mobilising more. He accepts this and is happy for us to refer to physiotherapy for strength and balance training which I think will help build his confidence. His mood is low but not sufficiently low to denote depression and I think if we can improve his mobility, his mood will improve. Some of his chronic back pain is undoubtedly due to the degenerative changes seen on MRI and I understand that surgery is not going to be an option for this. I would be reluctant to change her painkillers much at the moment though given that he is already on antiepileptic medications and so adding in other agents for chronic pain may not help much but might interact with these medications. </br>We discussed the fine balance between benefits and side effects of all of these medications today. What would perhaps be helpful though is to reduce the codeine to 15 mg so that he can try and take this more regularly; he finds that the 30 mg dose makes him feel very unsteady on her feet. Having said all of this, it is clear that the blood tests suggest some issues that require further investigation. His breathlessness on exertion and raised BNP suggest that investigation for LV systolic dysfunction causing heart failure would be beneficial and I note that he has already had an echo requested. His weight loss is quite dramatic and this, together with the admittedly longstanding rash on his legs, anaemia, raised ESR and high platelet counts suggest that there is an inflammatory disorder present. Whether this is autoimmune or due to another aetiology is unclear. I have requested bloods today including repeat U&amp;Es, liver function tests, calcium, myeloma screen, CRP and ESR, autoimmune screen, creatine kinase and iron studies. I have also requested an ultrasound of the abdomen to investigate the liver edge that I could feel; I note that a recent chest x-ray showed normal heart size and clear lung fields. Despite the possible finding of horizontal nystagmus by Community Nursing colleagues I could not find any evidence of this today and I don’t think we need to progress to brain scanning at present. </br>Once we have got the blood and ultrasound results, I will phone Mr Smith again and discuss the best way forward. It may be that if we do not find another cause for his inflammatory condition, a trial of steroids might be warranted as some of the features including the shoulder discomfort could be consistent with polymyalgia rheumatica. I have explained this today but also explained that I think we need to investigate further before diving in with treatment in case this is not the diagnosis. &quot;</br></div></span>"
            ]
          },
          "metadata": {}
        }
      ]
    }
  ],
  "metadata": {
    "colab": {
      "name": "synthetic_letters.ipynb",
      "provenance": [],
      "authorship_tag": "ABX9TyNV+BJbaYQ4nEkr3EnEQwq1",
      "include_colab_link": true
    },
    "kernelspec": {
      "display_name": "Python 3",
      "name": "python3"
    },
    "language_info": {
      "name": "python"
    }
  },
  "nbformat": 4,
  "nbformat_minor": 0
}