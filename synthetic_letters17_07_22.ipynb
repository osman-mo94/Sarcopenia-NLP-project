{
  "cells": [
    {
      "cell_type": "markdown",
      "metadata": {
        "id": "view-in-github",
        "colab_type": "text"
      },
      "source": [
        "<a href=\"https://colab.research.google.com/github/osman-mo94/Sarcopenia-NLP-project/blob/main/synthetic_letters17_07_22.ipynb\" target=\"_parent\"><img src=\"https://colab.research.google.com/assets/colab-badge.svg\" alt=\"Open In Colab\"/></a>"
      ]
    },
    {
      "cell_type": "markdown",
      "metadata": {
        "id": "mdudadxqTgi1"
      },
      "source": [
        "# Install and import packages"
      ]
    },
    {
      "cell_type": "code",
      "execution_count": 102,
      "metadata": {
        "colab": {
          "base_uri": "https://localhost:8080/"
        },
        "id": "dzBPQJaAz4_A",
        "outputId": "c8696df3-2a9d-47e3-a168-815890292801"
      },
      "outputs": [
        {
          "output_type": "stream",
          "name": "stdout",
          "text": [
            "Looking in indexes: https://pypi.org/simple, https://us-python.pkg.dev/colab-wheels/public/simple/\n",
            "Requirement already satisfied: docx2txt in /usr/local/lib/python3.7/dist-packages (0.8)\n"
          ]
        }
      ],
      "source": [
        "!pip install docx2txt"
      ]
    },
    {
      "cell_type": "code",
      "execution_count": 103,
      "metadata": {
        "colab": {
          "base_uri": "https://localhost:8080/"
        },
        "id": "3M15Ry1rmsPt",
        "outputId": "94b1c355-289f-457e-9eee-9e1f299603e8"
      },
      "outputs": [
        {
          "output_type": "stream",
          "name": "stdout",
          "text": [
            "Looking in indexes: https://pypi.org/simple, https://us-python.pkg.dev/colab-wheels/public/simple/\n",
            "Requirement already satisfied: spacy in /usr/local/lib/python3.7/dist-packages (3.2.4)\n",
            "Requirement already satisfied: pathy>=0.3.5 in /usr/local/lib/python3.7/dist-packages (from spacy) (0.6.2)\n",
            "Requirement already satisfied: tqdm<5.0.0,>=4.38.0 in /usr/local/lib/python3.7/dist-packages (from spacy) (4.64.0)\n",
            "Requirement already satisfied: numpy>=1.15.0 in /usr/local/lib/python3.7/dist-packages (from spacy) (1.21.6)\n",
            "Requirement already satisfied: click<8.1.0 in /usr/local/lib/python3.7/dist-packages (from spacy) (7.1.2)\n",
            "Requirement already satisfied: langcodes<4.0.0,>=3.2.0 in /usr/local/lib/python3.7/dist-packages (from spacy) (3.3.0)\n",
            "Requirement already satisfied: murmurhash<1.1.0,>=0.28.0 in /usr/local/lib/python3.7/dist-packages (from spacy) (1.0.7)\n",
            "Requirement already satisfied: typer<0.5.0,>=0.3.0 in /usr/local/lib/python3.7/dist-packages (from spacy) (0.4.2)\n",
            "Requirement already satisfied: cymem<2.1.0,>=2.0.2 in /usr/local/lib/python3.7/dist-packages (from spacy) (2.0.6)\n",
            "Requirement already satisfied: srsly<3.0.0,>=2.4.1 in /usr/local/lib/python3.7/dist-packages (from spacy) (2.4.3)\n",
            "Requirement already satisfied: jinja2 in /usr/local/lib/python3.7/dist-packages (from spacy) (2.11.3)\n",
            "Requirement already satisfied: thinc<8.1.0,>=8.0.12 in /usr/local/lib/python3.7/dist-packages (from spacy) (8.0.17)\n",
            "Requirement already satisfied: requests<3.0.0,>=2.13.0 in /usr/local/lib/python3.7/dist-packages (from spacy) (2.23.0)\n",
            "Requirement already satisfied: packaging>=20.0 in /usr/local/lib/python3.7/dist-packages (from spacy) (21.3)\n",
            "Requirement already satisfied: blis<0.8.0,>=0.4.0 in /usr/local/lib/python3.7/dist-packages (from spacy) (0.7.8)\n",
            "Requirement already satisfied: setuptools in /usr/local/lib/python3.7/dist-packages (from spacy) (57.4.0)\n",
            "Requirement already satisfied: preshed<3.1.0,>=3.0.2 in /usr/local/lib/python3.7/dist-packages (from spacy) (3.0.6)\n",
            "Requirement already satisfied: catalogue<2.1.0,>=2.0.6 in /usr/local/lib/python3.7/dist-packages (from spacy) (2.0.7)\n",
            "Requirement already satisfied: wasabi<1.1.0,>=0.8.1 in /usr/local/lib/python3.7/dist-packages (from spacy) (0.9.1)\n",
            "Requirement already satisfied: spacy-loggers<2.0.0,>=1.0.0 in /usr/local/lib/python3.7/dist-packages (from spacy) (1.0.3)\n",
            "Requirement already satisfied: spacy-legacy<3.1.0,>=3.0.8 in /usr/local/lib/python3.7/dist-packages (from spacy) (3.0.9)\n",
            "Requirement already satisfied: pydantic!=1.8,!=1.8.1,<1.9.0,>=1.7.4 in /usr/local/lib/python3.7/dist-packages (from spacy) (1.8.2)\n",
            "Requirement already satisfied: typing-extensions<4.0.0.0,>=3.7.4 in /usr/local/lib/python3.7/dist-packages (from spacy) (3.10.0.2)\n",
            "Requirement already satisfied: zipp>=0.5 in /usr/local/lib/python3.7/dist-packages (from catalogue<2.1.0,>=2.0.6->spacy) (3.8.1)\n",
            "Requirement already satisfied: pyparsing!=3.0.5,>=2.0.2 in /usr/local/lib/python3.7/dist-packages (from packaging>=20.0->spacy) (3.0.9)\n",
            "Requirement already satisfied: smart-open<6.0.0,>=5.2.1 in /usr/local/lib/python3.7/dist-packages (from pathy>=0.3.5->spacy) (5.2.1)\n",
            "Requirement already satisfied: certifi>=2017.4.17 in /usr/local/lib/python3.7/dist-packages (from requests<3.0.0,>=2.13.0->spacy) (2022.6.15)\n",
            "Requirement already satisfied: idna<3,>=2.5 in /usr/local/lib/python3.7/dist-packages (from requests<3.0.0,>=2.13.0->spacy) (2.10)\n",
            "Requirement already satisfied: chardet<4,>=3.0.2 in /usr/local/lib/python3.7/dist-packages (from requests<3.0.0,>=2.13.0->spacy) (3.0.4)\n",
            "Requirement already satisfied: urllib3!=1.25.0,!=1.25.1,<1.26,>=1.21.1 in /usr/local/lib/python3.7/dist-packages (from requests<3.0.0,>=2.13.0->spacy) (1.24.3)\n",
            "Requirement already satisfied: MarkupSafe>=0.23 in /usr/local/lib/python3.7/dist-packages (from jinja2->spacy) (2.0.1)\n"
          ]
        }
      ],
      "source": [
        "!pip install spacy\n"
      ]
    },
    {
      "cell_type": "code",
      "execution_count": 104,
      "metadata": {
        "colab": {
          "base_uri": "https://localhost:8080/"
        },
        "id": "hXP0S6MBmxPV",
        "outputId": "66c2e49e-228a-450a-c91c-afcee5b15cdf"
      },
      "outputs": [
        {
          "output_type": "stream",
          "name": "stdout",
          "text": [
            "Looking in indexes: https://pypi.org/simple, https://us-python.pkg.dev/colab-wheels/public/simple/\n",
            "Requirement already satisfied: negspacy in /usr/local/lib/python3.7/dist-packages (1.0.3)\n",
            "Requirement already satisfied: spacy<4.0.0,>=3.0.1 in /usr/local/lib/python3.7/dist-packages (from negspacy) (3.2.4)\n",
            "Requirement already satisfied: wasabi<1.1.0,>=0.8.1 in /usr/local/lib/python3.7/dist-packages (from spacy<4.0.0,>=3.0.1->negspacy) (0.9.1)\n",
            "Requirement already satisfied: langcodes<4.0.0,>=3.2.0 in /usr/local/lib/python3.7/dist-packages (from spacy<4.0.0,>=3.0.1->negspacy) (3.3.0)\n",
            "Requirement already satisfied: spacy-legacy<3.1.0,>=3.0.8 in /usr/local/lib/python3.7/dist-packages (from spacy<4.0.0,>=3.0.1->negspacy) (3.0.9)\n",
            "Requirement already satisfied: murmurhash<1.1.0,>=0.28.0 in /usr/local/lib/python3.7/dist-packages (from spacy<4.0.0,>=3.0.1->negspacy) (1.0.7)\n",
            "Requirement already satisfied: preshed<3.1.0,>=3.0.2 in /usr/local/lib/python3.7/dist-packages (from spacy<4.0.0,>=3.0.1->negspacy) (3.0.6)\n",
            "Requirement already satisfied: jinja2 in /usr/local/lib/python3.7/dist-packages (from spacy<4.0.0,>=3.0.1->negspacy) (2.11.3)\n",
            "Requirement already satisfied: catalogue<2.1.0,>=2.0.6 in /usr/local/lib/python3.7/dist-packages (from spacy<4.0.0,>=3.0.1->negspacy) (2.0.7)\n",
            "Requirement already satisfied: click<8.1.0 in /usr/local/lib/python3.7/dist-packages (from spacy<4.0.0,>=3.0.1->negspacy) (7.1.2)\n",
            "Requirement already satisfied: pydantic!=1.8,!=1.8.1,<1.9.0,>=1.7.4 in /usr/local/lib/python3.7/dist-packages (from spacy<4.0.0,>=3.0.1->negspacy) (1.8.2)\n",
            "Requirement already satisfied: thinc<8.1.0,>=8.0.12 in /usr/local/lib/python3.7/dist-packages (from spacy<4.0.0,>=3.0.1->negspacy) (8.0.17)\n",
            "Requirement already satisfied: tqdm<5.0.0,>=4.38.0 in /usr/local/lib/python3.7/dist-packages (from spacy<4.0.0,>=3.0.1->negspacy) (4.64.0)\n",
            "Requirement already satisfied: spacy-loggers<2.0.0,>=1.0.0 in /usr/local/lib/python3.7/dist-packages (from spacy<4.0.0,>=3.0.1->negspacy) (1.0.3)\n",
            "Requirement already satisfied: typing-extensions<4.0.0.0,>=3.7.4 in /usr/local/lib/python3.7/dist-packages (from spacy<4.0.0,>=3.0.1->negspacy) (3.10.0.2)\n",
            "Requirement already satisfied: requests<3.0.0,>=2.13.0 in /usr/local/lib/python3.7/dist-packages (from spacy<4.0.0,>=3.0.1->negspacy) (2.23.0)\n",
            "Requirement already satisfied: srsly<3.0.0,>=2.4.1 in /usr/local/lib/python3.7/dist-packages (from spacy<4.0.0,>=3.0.1->negspacy) (2.4.3)\n",
            "Requirement already satisfied: pathy>=0.3.5 in /usr/local/lib/python3.7/dist-packages (from spacy<4.0.0,>=3.0.1->negspacy) (0.6.2)\n",
            "Requirement already satisfied: typer<0.5.0,>=0.3.0 in /usr/local/lib/python3.7/dist-packages (from spacy<4.0.0,>=3.0.1->negspacy) (0.4.2)\n",
            "Requirement already satisfied: cymem<2.1.0,>=2.0.2 in /usr/local/lib/python3.7/dist-packages (from spacy<4.0.0,>=3.0.1->negspacy) (2.0.6)\n",
            "Requirement already satisfied: packaging>=20.0 in /usr/local/lib/python3.7/dist-packages (from spacy<4.0.0,>=3.0.1->negspacy) (21.3)\n",
            "Requirement already satisfied: blis<0.8.0,>=0.4.0 in /usr/local/lib/python3.7/dist-packages (from spacy<4.0.0,>=3.0.1->negspacy) (0.7.8)\n",
            "Requirement already satisfied: setuptools in /usr/local/lib/python3.7/dist-packages (from spacy<4.0.0,>=3.0.1->negspacy) (57.4.0)\n",
            "Requirement already satisfied: numpy>=1.15.0 in /usr/local/lib/python3.7/dist-packages (from spacy<4.0.0,>=3.0.1->negspacy) (1.21.6)\n",
            "Requirement already satisfied: zipp>=0.5 in /usr/local/lib/python3.7/dist-packages (from catalogue<2.1.0,>=2.0.6->spacy<4.0.0,>=3.0.1->negspacy) (3.8.1)\n",
            "Requirement already satisfied: pyparsing!=3.0.5,>=2.0.2 in /usr/local/lib/python3.7/dist-packages (from packaging>=20.0->spacy<4.0.0,>=3.0.1->negspacy) (3.0.9)\n",
            "Requirement already satisfied: smart-open<6.0.0,>=5.2.1 in /usr/local/lib/python3.7/dist-packages (from pathy>=0.3.5->spacy<4.0.0,>=3.0.1->negspacy) (5.2.1)\n",
            "Requirement already satisfied: chardet<4,>=3.0.2 in /usr/local/lib/python3.7/dist-packages (from requests<3.0.0,>=2.13.0->spacy<4.0.0,>=3.0.1->negspacy) (3.0.4)\n",
            "Requirement already satisfied: idna<3,>=2.5 in /usr/local/lib/python3.7/dist-packages (from requests<3.0.0,>=2.13.0->spacy<4.0.0,>=3.0.1->negspacy) (2.10)\n",
            "Requirement already satisfied: certifi>=2017.4.17 in /usr/local/lib/python3.7/dist-packages (from requests<3.0.0,>=2.13.0->spacy<4.0.0,>=3.0.1->negspacy) (2022.6.15)\n",
            "Requirement already satisfied: urllib3!=1.25.0,!=1.25.1,<1.26,>=1.21.1 in /usr/local/lib/python3.7/dist-packages (from requests<3.0.0,>=2.13.0->spacy<4.0.0,>=3.0.1->negspacy) (1.24.3)\n",
            "Requirement already satisfied: MarkupSafe>=0.23 in /usr/local/lib/python3.7/dist-packages (from jinja2->spacy<4.0.0,>=3.0.1->negspacy) (2.0.1)\n"
          ]
        }
      ],
      "source": [
        "!pip install negspacy"
      ]
    },
    {
      "cell_type": "code",
      "execution_count": 105,
      "metadata": {
        "colab": {
          "base_uri": "https://localhost:8080/"
        },
        "id": "Fa85MrBAm1Jc",
        "outputId": "44fcad8f-5b0d-4697-f0ca-89e97b75e953"
      },
      "outputs": [
        {
          "output_type": "stream",
          "name": "stdout",
          "text": [
            "Looking in indexes: https://pypi.org/simple, https://us-python.pkg.dev/colab-wheels/public/simple/\n",
            "Requirement already satisfied: scispacy in /usr/local/lib/python3.7/dist-packages (0.5.0)\n",
            "Requirement already satisfied: nmslib>=1.7.3.6 in /usr/local/lib/python3.7/dist-packages (from scispacy) (2.1.1)\n",
            "Requirement already satisfied: conllu in /usr/local/lib/python3.7/dist-packages (from scispacy) (4.5.1)\n",
            "Requirement already satisfied: scikit-learn>=0.20.3 in /usr/local/lib/python3.7/dist-packages (from scispacy) (1.0.2)\n",
            "Requirement already satisfied: requests<3.0.0,>=2.0.0 in /usr/local/lib/python3.7/dist-packages (from scispacy) (2.23.0)\n",
            "Requirement already satisfied: joblib in /usr/local/lib/python3.7/dist-packages (from scispacy) (1.1.0)\n",
            "Requirement already satisfied: spacy<3.3.0,>=3.2.0 in /usr/local/lib/python3.7/dist-packages (from scispacy) (3.2.4)\n",
            "Requirement already satisfied: numpy in /usr/local/lib/python3.7/dist-packages (from scispacy) (1.21.6)\n",
            "Requirement already satisfied: pysbd in /usr/local/lib/python3.7/dist-packages (from scispacy) (0.3.4)\n",
            "Requirement already satisfied: psutil in /usr/local/lib/python3.7/dist-packages (from nmslib>=1.7.3.6->scispacy) (5.4.8)\n",
            "Requirement already satisfied: pybind11<2.6.2 in /usr/local/lib/python3.7/dist-packages (from nmslib>=1.7.3.6->scispacy) (2.6.1)\n",
            "Requirement already satisfied: urllib3!=1.25.0,!=1.25.1,<1.26,>=1.21.1 in /usr/local/lib/python3.7/dist-packages (from requests<3.0.0,>=2.0.0->scispacy) (1.24.3)\n",
            "Requirement already satisfied: idna<3,>=2.5 in /usr/local/lib/python3.7/dist-packages (from requests<3.0.0,>=2.0.0->scispacy) (2.10)\n",
            "Requirement already satisfied: certifi>=2017.4.17 in /usr/local/lib/python3.7/dist-packages (from requests<3.0.0,>=2.0.0->scispacy) (2022.6.15)\n",
            "Requirement already satisfied: chardet<4,>=3.0.2 in /usr/local/lib/python3.7/dist-packages (from requests<3.0.0,>=2.0.0->scispacy) (3.0.4)\n",
            "Requirement already satisfied: threadpoolctl>=2.0.0 in /usr/local/lib/python3.7/dist-packages (from scikit-learn>=0.20.3->scispacy) (3.1.0)\n",
            "Requirement already satisfied: scipy>=1.1.0 in /usr/local/lib/python3.7/dist-packages (from scikit-learn>=0.20.3->scispacy) (1.7.3)\n",
            "Requirement already satisfied: langcodes<4.0.0,>=3.2.0 in /usr/local/lib/python3.7/dist-packages (from spacy<3.3.0,>=3.2.0->scispacy) (3.3.0)\n",
            "Requirement already satisfied: preshed<3.1.0,>=3.0.2 in /usr/local/lib/python3.7/dist-packages (from spacy<3.3.0,>=3.2.0->scispacy) (3.0.6)\n",
            "Requirement already satisfied: spacy-legacy<3.1.0,>=3.0.8 in /usr/local/lib/python3.7/dist-packages (from spacy<3.3.0,>=3.2.0->scispacy) (3.0.9)\n",
            "Requirement already satisfied: pydantic!=1.8,!=1.8.1,<1.9.0,>=1.7.4 in /usr/local/lib/python3.7/dist-packages (from spacy<3.3.0,>=3.2.0->scispacy) (1.8.2)\n",
            "Requirement already satisfied: pathy>=0.3.5 in /usr/local/lib/python3.7/dist-packages (from spacy<3.3.0,>=3.2.0->scispacy) (0.6.2)\n",
            "Requirement already satisfied: spacy-loggers<2.0.0,>=1.0.0 in /usr/local/lib/python3.7/dist-packages (from spacy<3.3.0,>=3.2.0->scispacy) (1.0.3)\n",
            "Requirement already satisfied: catalogue<2.1.0,>=2.0.6 in /usr/local/lib/python3.7/dist-packages (from spacy<3.3.0,>=3.2.0->scispacy) (2.0.7)\n",
            "Requirement already satisfied: setuptools in /usr/local/lib/python3.7/dist-packages (from spacy<3.3.0,>=3.2.0->scispacy) (57.4.0)\n",
            "Requirement already satisfied: thinc<8.1.0,>=8.0.12 in /usr/local/lib/python3.7/dist-packages (from spacy<3.3.0,>=3.2.0->scispacy) (8.0.17)\n",
            "Requirement already satisfied: wasabi<1.1.0,>=0.8.1 in /usr/local/lib/python3.7/dist-packages (from spacy<3.3.0,>=3.2.0->scispacy) (0.9.1)\n",
            "Requirement already satisfied: murmurhash<1.1.0,>=0.28.0 in /usr/local/lib/python3.7/dist-packages (from spacy<3.3.0,>=3.2.0->scispacy) (1.0.7)\n",
            "Requirement already satisfied: jinja2 in /usr/local/lib/python3.7/dist-packages (from spacy<3.3.0,>=3.2.0->scispacy) (2.11.3)\n",
            "Requirement already satisfied: tqdm<5.0.0,>=4.38.0 in /usr/local/lib/python3.7/dist-packages (from spacy<3.3.0,>=3.2.0->scispacy) (4.64.0)\n",
            "Requirement already satisfied: typing-extensions<4.0.0.0,>=3.7.4 in /usr/local/lib/python3.7/dist-packages (from spacy<3.3.0,>=3.2.0->scispacy) (3.10.0.2)\n",
            "Requirement already satisfied: typer<0.5.0,>=0.3.0 in /usr/local/lib/python3.7/dist-packages (from spacy<3.3.0,>=3.2.0->scispacy) (0.4.2)\n",
            "Requirement already satisfied: click<8.1.0 in /usr/local/lib/python3.7/dist-packages (from spacy<3.3.0,>=3.2.0->scispacy) (7.1.2)\n",
            "Requirement already satisfied: blis<0.8.0,>=0.4.0 in /usr/local/lib/python3.7/dist-packages (from spacy<3.3.0,>=3.2.0->scispacy) (0.7.8)\n",
            "Requirement already satisfied: cymem<2.1.0,>=2.0.2 in /usr/local/lib/python3.7/dist-packages (from spacy<3.3.0,>=3.2.0->scispacy) (2.0.6)\n",
            "Requirement already satisfied: srsly<3.0.0,>=2.4.1 in /usr/local/lib/python3.7/dist-packages (from spacy<3.3.0,>=3.2.0->scispacy) (2.4.3)\n",
            "Requirement already satisfied: packaging>=20.0 in /usr/local/lib/python3.7/dist-packages (from spacy<3.3.0,>=3.2.0->scispacy) (21.3)\n",
            "Requirement already satisfied: zipp>=0.5 in /usr/local/lib/python3.7/dist-packages (from catalogue<2.1.0,>=2.0.6->spacy<3.3.0,>=3.2.0->scispacy) (3.8.1)\n",
            "Requirement already satisfied: pyparsing!=3.0.5,>=2.0.2 in /usr/local/lib/python3.7/dist-packages (from packaging>=20.0->spacy<3.3.0,>=3.2.0->scispacy) (3.0.9)\n",
            "Requirement already satisfied: smart-open<6.0.0,>=5.2.1 in /usr/local/lib/python3.7/dist-packages (from pathy>=0.3.5->spacy<3.3.0,>=3.2.0->scispacy) (5.2.1)\n",
            "Requirement already satisfied: MarkupSafe>=0.23 in /usr/local/lib/python3.7/dist-packages (from jinja2->spacy<3.3.0,>=3.2.0->scispacy) (2.0.1)\n"
          ]
        }
      ],
      "source": [
        "!pip install scispacy"
      ]
    },
    {
      "cell_type": "code",
      "execution_count": 106,
      "metadata": {
        "colab": {
          "base_uri": "https://localhost:8080/"
        },
        "id": "LfxACglQm2n9",
        "outputId": "84c1ab00-5265-4342-8218-2a2fb9eece82"
      },
      "outputs": [
        {
          "output_type": "stream",
          "name": "stdout",
          "text": [
            "Looking in indexes: https://pypi.org/simple, https://us-python.pkg.dev/colab-wheels/public/simple/\n",
            "Collecting https://s3-us-west-2.amazonaws.com/ai2-s2-scispacy/releases/v0.5.0/en_ner_bc5cdr_md-0.5.0.tar.gz\n",
            "  Using cached https://s3-us-west-2.amazonaws.com/ai2-s2-scispacy/releases/v0.5.0/en_ner_bc5cdr_md-0.5.0.tar.gz (120.2 MB)\n",
            "Requirement already satisfied: spacy<3.3.0,>=3.2.3 in /usr/local/lib/python3.7/dist-packages (from en-ner-bc5cdr-md==0.5.0) (3.2.4)\n",
            "Requirement already satisfied: murmurhash<1.1.0,>=0.28.0 in /usr/local/lib/python3.7/dist-packages (from spacy<3.3.0,>=3.2.3->en-ner-bc5cdr-md==0.5.0) (1.0.7)\n",
            "Requirement already satisfied: click<8.1.0 in /usr/local/lib/python3.7/dist-packages (from spacy<3.3.0,>=3.2.3->en-ner-bc5cdr-md==0.5.0) (7.1.2)\n",
            "Requirement already satisfied: requests<3.0.0,>=2.13.0 in /usr/local/lib/python3.7/dist-packages (from spacy<3.3.0,>=3.2.3->en-ner-bc5cdr-md==0.5.0) (2.23.0)\n",
            "Requirement already satisfied: spacy-loggers<2.0.0,>=1.0.0 in /usr/local/lib/python3.7/dist-packages (from spacy<3.3.0,>=3.2.3->en-ner-bc5cdr-md==0.5.0) (1.0.3)\n",
            "Requirement already satisfied: jinja2 in /usr/local/lib/python3.7/dist-packages (from spacy<3.3.0,>=3.2.3->en-ner-bc5cdr-md==0.5.0) (2.11.3)\n",
            "Requirement already satisfied: packaging>=20.0 in /usr/local/lib/python3.7/dist-packages (from spacy<3.3.0,>=3.2.3->en-ner-bc5cdr-md==0.5.0) (21.3)\n",
            "Requirement already satisfied: pydantic!=1.8,!=1.8.1,<1.9.0,>=1.7.4 in /usr/local/lib/python3.7/dist-packages (from spacy<3.3.0,>=3.2.3->en-ner-bc5cdr-md==0.5.0) (1.8.2)\n",
            "Requirement already satisfied: cymem<2.1.0,>=2.0.2 in /usr/local/lib/python3.7/dist-packages (from spacy<3.3.0,>=3.2.3->en-ner-bc5cdr-md==0.5.0) (2.0.6)\n",
            "Requirement already satisfied: srsly<3.0.0,>=2.4.1 in /usr/local/lib/python3.7/dist-packages (from spacy<3.3.0,>=3.2.3->en-ner-bc5cdr-md==0.5.0) (2.4.3)\n",
            "Requirement already satisfied: tqdm<5.0.0,>=4.38.0 in /usr/local/lib/python3.7/dist-packages (from spacy<3.3.0,>=3.2.3->en-ner-bc5cdr-md==0.5.0) (4.64.0)\n",
            "Requirement already satisfied: setuptools in /usr/local/lib/python3.7/dist-packages (from spacy<3.3.0,>=3.2.3->en-ner-bc5cdr-md==0.5.0) (57.4.0)\n",
            "Requirement already satisfied: preshed<3.1.0,>=3.0.2 in /usr/local/lib/python3.7/dist-packages (from spacy<3.3.0,>=3.2.3->en-ner-bc5cdr-md==0.5.0) (3.0.6)\n",
            "Requirement already satisfied: thinc<8.1.0,>=8.0.12 in /usr/local/lib/python3.7/dist-packages (from spacy<3.3.0,>=3.2.3->en-ner-bc5cdr-md==0.5.0) (8.0.17)\n",
            "Requirement already satisfied: blis<0.8.0,>=0.4.0 in /usr/local/lib/python3.7/dist-packages (from spacy<3.3.0,>=3.2.3->en-ner-bc5cdr-md==0.5.0) (0.7.8)\n",
            "Requirement already satisfied: catalogue<2.1.0,>=2.0.6 in /usr/local/lib/python3.7/dist-packages (from spacy<3.3.0,>=3.2.3->en-ner-bc5cdr-md==0.5.0) (2.0.7)\n",
            "Requirement already satisfied: langcodes<4.0.0,>=3.2.0 in /usr/local/lib/python3.7/dist-packages (from spacy<3.3.0,>=3.2.3->en-ner-bc5cdr-md==0.5.0) (3.3.0)\n",
            "Requirement already satisfied: spacy-legacy<3.1.0,>=3.0.8 in /usr/local/lib/python3.7/dist-packages (from spacy<3.3.0,>=3.2.3->en-ner-bc5cdr-md==0.5.0) (3.0.9)\n",
            "Requirement already satisfied: numpy>=1.15.0 in /usr/local/lib/python3.7/dist-packages (from spacy<3.3.0,>=3.2.3->en-ner-bc5cdr-md==0.5.0) (1.21.6)\n",
            "Requirement already satisfied: pathy>=0.3.5 in /usr/local/lib/python3.7/dist-packages (from spacy<3.3.0,>=3.2.3->en-ner-bc5cdr-md==0.5.0) (0.6.2)\n",
            "Requirement already satisfied: wasabi<1.1.0,>=0.8.1 in /usr/local/lib/python3.7/dist-packages (from spacy<3.3.0,>=3.2.3->en-ner-bc5cdr-md==0.5.0) (0.9.1)\n",
            "Requirement already satisfied: typer<0.5.0,>=0.3.0 in /usr/local/lib/python3.7/dist-packages (from spacy<3.3.0,>=3.2.3->en-ner-bc5cdr-md==0.5.0) (0.4.2)\n",
            "Requirement already satisfied: typing-extensions<4.0.0.0,>=3.7.4 in /usr/local/lib/python3.7/dist-packages (from spacy<3.3.0,>=3.2.3->en-ner-bc5cdr-md==0.5.0) (3.10.0.2)\n",
            "Requirement already satisfied: zipp>=0.5 in /usr/local/lib/python3.7/dist-packages (from catalogue<2.1.0,>=2.0.6->spacy<3.3.0,>=3.2.3->en-ner-bc5cdr-md==0.5.0) (3.8.1)\n",
            "Requirement already satisfied: pyparsing!=3.0.5,>=2.0.2 in /usr/local/lib/python3.7/dist-packages (from packaging>=20.0->spacy<3.3.0,>=3.2.3->en-ner-bc5cdr-md==0.5.0) (3.0.9)\n",
            "Requirement already satisfied: smart-open<6.0.0,>=5.2.1 in /usr/local/lib/python3.7/dist-packages (from pathy>=0.3.5->spacy<3.3.0,>=3.2.3->en-ner-bc5cdr-md==0.5.0) (5.2.1)\n",
            "Requirement already satisfied: idna<3,>=2.5 in /usr/local/lib/python3.7/dist-packages (from requests<3.0.0,>=2.13.0->spacy<3.3.0,>=3.2.3->en-ner-bc5cdr-md==0.5.0) (2.10)\n",
            "Requirement already satisfied: chardet<4,>=3.0.2 in /usr/local/lib/python3.7/dist-packages (from requests<3.0.0,>=2.13.0->spacy<3.3.0,>=3.2.3->en-ner-bc5cdr-md==0.5.0) (3.0.4)\n",
            "Requirement already satisfied: certifi>=2017.4.17 in /usr/local/lib/python3.7/dist-packages (from requests<3.0.0,>=2.13.0->spacy<3.3.0,>=3.2.3->en-ner-bc5cdr-md==0.5.0) (2022.6.15)\n",
            "Requirement already satisfied: urllib3!=1.25.0,!=1.25.1,<1.26,>=1.21.1 in /usr/local/lib/python3.7/dist-packages (from requests<3.0.0,>=2.13.0->spacy<3.3.0,>=3.2.3->en-ner-bc5cdr-md==0.5.0) (1.24.3)\n",
            "Requirement already satisfied: MarkupSafe>=0.23 in /usr/local/lib/python3.7/dist-packages (from jinja2->spacy<3.3.0,>=3.2.3->en-ner-bc5cdr-md==0.5.0) (2.0.1)\n"
          ]
        }
      ],
      "source": [
        "!pip install https://s3-us-west-2.amazonaws.com/ai2-s2-scispacy/releases/v0.5.0/en_ner_bc5cdr_md-0.5.0.tar.gz"
      ]
    },
    {
      "cell_type": "code",
      "execution_count": 107,
      "metadata": {
        "id": "Kt8pcu7IqYhh"
      },
      "outputs": [],
      "source": [
        "import pandas as pd\n",
        "import numpy as np\n",
        "import seaborn as sns\n",
        "import matplotlib.pyplot as plt\n",
        "import docx2txt\n",
        "import spacy\n",
        "from spacy.matcher import PhraseMatcher\n",
        "from spacy.pipeline import EntityRuler\n",
        "from negspacy.negation import Negex\n",
        "from negspacy.termsets import termset\n",
        "from spacy.tokens import Span\n",
        "import scispacy\n",
        "from scispacy.abbreviation import AbbreviationDetector\n",
        "from spacy import displacy"
      ]
    },
    {
      "cell_type": "code",
      "source": [
        "!python -m spacy download en_core_web_sm"
      ],
      "metadata": {
        "colab": {
          "base_uri": "https://localhost:8080/"
        },
        "id": "X-bGl81EXHbf",
        "outputId": "d7035288-b451-437f-b243-025ef6e2f6f3"
      },
      "execution_count": 108,
      "outputs": [
        {
          "output_type": "stream",
          "name": "stdout",
          "text": [
            "Looking in indexes: https://pypi.org/simple, https://us-python.pkg.dev/colab-wheels/public/simple/\n",
            "Collecting en-core-web-sm==3.2.0\n",
            "  Downloading https://github.com/explosion/spacy-models/releases/download/en_core_web_sm-3.2.0/en_core_web_sm-3.2.0-py3-none-any.whl (13.9 MB)\n",
            "\u001b[K     |████████████████████████████████| 13.9 MB 8.1 MB/s \n",
            "\u001b[?25hRequirement already satisfied: spacy<3.3.0,>=3.2.0 in /usr/local/lib/python3.7/dist-packages (from en-core-web-sm==3.2.0) (3.2.4)\n",
            "Requirement already satisfied: spacy-loggers<2.0.0,>=1.0.0 in /usr/local/lib/python3.7/dist-packages (from spacy<3.3.0,>=3.2.0->en-core-web-sm==3.2.0) (1.0.3)\n",
            "Requirement already satisfied: preshed<3.1.0,>=3.0.2 in /usr/local/lib/python3.7/dist-packages (from spacy<3.3.0,>=3.2.0->en-core-web-sm==3.2.0) (3.0.6)\n",
            "Requirement already satisfied: packaging>=20.0 in /usr/local/lib/python3.7/dist-packages (from spacy<3.3.0,>=3.2.0->en-core-web-sm==3.2.0) (21.3)\n",
            "Requirement already satisfied: click<8.1.0 in /usr/local/lib/python3.7/dist-packages (from spacy<3.3.0,>=3.2.0->en-core-web-sm==3.2.0) (7.1.2)\n",
            "Requirement already satisfied: cymem<2.1.0,>=2.0.2 in /usr/local/lib/python3.7/dist-packages (from spacy<3.3.0,>=3.2.0->en-core-web-sm==3.2.0) (2.0.6)\n",
            "Requirement already satisfied: murmurhash<1.1.0,>=0.28.0 in /usr/local/lib/python3.7/dist-packages (from spacy<3.3.0,>=3.2.0->en-core-web-sm==3.2.0) (1.0.7)\n",
            "Requirement already satisfied: setuptools in /usr/local/lib/python3.7/dist-packages (from spacy<3.3.0,>=3.2.0->en-core-web-sm==3.2.0) (57.4.0)\n",
            "Requirement already satisfied: langcodes<4.0.0,>=3.2.0 in /usr/local/lib/python3.7/dist-packages (from spacy<3.3.0,>=3.2.0->en-core-web-sm==3.2.0) (3.3.0)\n",
            "Requirement already satisfied: spacy-legacy<3.1.0,>=3.0.8 in /usr/local/lib/python3.7/dist-packages (from spacy<3.3.0,>=3.2.0->en-core-web-sm==3.2.0) (3.0.9)\n",
            "Requirement already satisfied: numpy>=1.15.0 in /usr/local/lib/python3.7/dist-packages (from spacy<3.3.0,>=3.2.0->en-core-web-sm==3.2.0) (1.21.6)\n",
            "Requirement already satisfied: thinc<8.1.0,>=8.0.12 in /usr/local/lib/python3.7/dist-packages (from spacy<3.3.0,>=3.2.0->en-core-web-sm==3.2.0) (8.0.17)\n",
            "Requirement already satisfied: jinja2 in /usr/local/lib/python3.7/dist-packages (from spacy<3.3.0,>=3.2.0->en-core-web-sm==3.2.0) (2.11.3)\n",
            "Requirement already satisfied: blis<0.8.0,>=0.4.0 in /usr/local/lib/python3.7/dist-packages (from spacy<3.3.0,>=3.2.0->en-core-web-sm==3.2.0) (0.7.8)\n",
            "Requirement already satisfied: pydantic!=1.8,!=1.8.1,<1.9.0,>=1.7.4 in /usr/local/lib/python3.7/dist-packages (from spacy<3.3.0,>=3.2.0->en-core-web-sm==3.2.0) (1.8.2)\n",
            "Requirement already satisfied: pathy>=0.3.5 in /usr/local/lib/python3.7/dist-packages (from spacy<3.3.0,>=3.2.0->en-core-web-sm==3.2.0) (0.6.2)\n",
            "Requirement already satisfied: srsly<3.0.0,>=2.4.1 in /usr/local/lib/python3.7/dist-packages (from spacy<3.3.0,>=3.2.0->en-core-web-sm==3.2.0) (2.4.3)\n",
            "Requirement already satisfied: typing-extensions<4.0.0.0,>=3.7.4 in /usr/local/lib/python3.7/dist-packages (from spacy<3.3.0,>=3.2.0->en-core-web-sm==3.2.0) (3.10.0.2)\n",
            "Requirement already satisfied: catalogue<2.1.0,>=2.0.6 in /usr/local/lib/python3.7/dist-packages (from spacy<3.3.0,>=3.2.0->en-core-web-sm==3.2.0) (2.0.7)\n",
            "Requirement already satisfied: typer<0.5.0,>=0.3.0 in /usr/local/lib/python3.7/dist-packages (from spacy<3.3.0,>=3.2.0->en-core-web-sm==3.2.0) (0.4.2)\n",
            "Requirement already satisfied: requests<3.0.0,>=2.13.0 in /usr/local/lib/python3.7/dist-packages (from spacy<3.3.0,>=3.2.0->en-core-web-sm==3.2.0) (2.23.0)\n",
            "Requirement already satisfied: wasabi<1.1.0,>=0.8.1 in /usr/local/lib/python3.7/dist-packages (from spacy<3.3.0,>=3.2.0->en-core-web-sm==3.2.0) (0.9.1)\n",
            "Requirement already satisfied: tqdm<5.0.0,>=4.38.0 in /usr/local/lib/python3.7/dist-packages (from spacy<3.3.0,>=3.2.0->en-core-web-sm==3.2.0) (4.64.0)\n",
            "Requirement already satisfied: zipp>=0.5 in /usr/local/lib/python3.7/dist-packages (from catalogue<2.1.0,>=2.0.6->spacy<3.3.0,>=3.2.0->en-core-web-sm==3.2.0) (3.8.1)\n",
            "Requirement already satisfied: pyparsing!=3.0.5,>=2.0.2 in /usr/local/lib/python3.7/dist-packages (from packaging>=20.0->spacy<3.3.0,>=3.2.0->en-core-web-sm==3.2.0) (3.0.9)\n",
            "Requirement already satisfied: smart-open<6.0.0,>=5.2.1 in /usr/local/lib/python3.7/dist-packages (from pathy>=0.3.5->spacy<3.3.0,>=3.2.0->en-core-web-sm==3.2.0) (5.2.1)\n",
            "Requirement already satisfied: idna<3,>=2.5 in /usr/local/lib/python3.7/dist-packages (from requests<3.0.0,>=2.13.0->spacy<3.3.0,>=3.2.0->en-core-web-sm==3.2.0) (2.10)\n",
            "Requirement already satisfied: certifi>=2017.4.17 in /usr/local/lib/python3.7/dist-packages (from requests<3.0.0,>=2.13.0->spacy<3.3.0,>=3.2.0->en-core-web-sm==3.2.0) (2022.6.15)\n",
            "Requirement already satisfied: urllib3!=1.25.0,!=1.25.1,<1.26,>=1.21.1 in /usr/local/lib/python3.7/dist-packages (from requests<3.0.0,>=2.13.0->spacy<3.3.0,>=3.2.0->en-core-web-sm==3.2.0) (1.24.3)\n",
            "Requirement already satisfied: chardet<4,>=3.0.2 in /usr/local/lib/python3.7/dist-packages (from requests<3.0.0,>=2.13.0->spacy<3.3.0,>=3.2.0->en-core-web-sm==3.2.0) (3.0.4)\n",
            "Requirement already satisfied: MarkupSafe>=0.23 in /usr/local/lib/python3.7/dist-packages (from jinja2->spacy<3.3.0,>=3.2.0->en-core-web-sm==3.2.0) (2.0.1)\n",
            "\u001b[38;5;2m✔ Download and installation successful\u001b[0m\n",
            "You can now load the package via spacy.load('en_core_web_sm')\n"
          ]
        }
      ]
    },
    {
      "cell_type": "code",
      "execution_count": 109,
      "metadata": {
        "id": "FXVp7eNXjkjz"
      },
      "outputs": [],
      "source": [
        "#Initialize nlp pipeline with scispacy model (for processing biomedical, scientific and clinical text)\n",
        "nlp = spacy.load(\"en_core_web_sm\", exclude=[\"ner\"])\n",
        "\n",
        "#Add abbreviation detector for medical abbreviations\n",
        "#nlp.add_pipe(\"abbreviation_detector\")\n",
        "\n",
        "#I have not included the scispacy model or abbreviation detector in this version as no current benefit"
      ]
    },
    {
      "cell_type": "code",
      "execution_count": 110,
      "metadata": {
        "colab": {
          "base_uri": "https://localhost:8080/"
        },
        "id": "5B1ALGCnSPK6",
        "outputId": "893d6ae0-cc65-4181-8dd1-7c4769454c4c"
      },
      "outputs": [
        {
          "output_type": "execute_result",
          "data": {
            "text/plain": [
              "['tok2vec', 'tagger', 'parser', 'senter', 'attribute_ruler', 'lemmatizer']"
            ]
          },
          "metadata": {},
          "execution_count": 110
        }
      ],
      "source": [
        "#View components of nlp pipeline\n",
        "nlp.component_names"
      ]
    },
    {
      "cell_type": "code",
      "execution_count": 111,
      "metadata": {
        "colab": {
          "base_uri": "https://localhost:8080/"
        },
        "id": "JWsSn9jIhw8s",
        "outputId": "c5d6e282-4bfd-4184-8075-a06a2c7c1cc5"
      },
      "outputs": [
        {
          "output_type": "stream",
          "name": "stdout",
          "text": [
            "Drive already mounted at /content/drive; to attempt to forcibly remount, call drive.mount(\"/content/drive\", force_remount=True).\n"
          ]
        }
      ],
      "source": [
        "#Mount google drive so that colab can access files in my google drive\n",
        "from google.colab import drive\n",
        "drive.mount('/content/drive')"
      ]
    },
    {
      "cell_type": "markdown",
      "metadata": {
        "id": "Rjs9WKCZTr39"
      },
      "source": [
        "# Import letters for analysis"
      ]
    },
    {
      "cell_type": "code",
      "execution_count": 112,
      "metadata": {
        "id": "u9Pqrt7YiPzF"
      },
      "outputs": [],
      "source": [
        "#Import letters (note that these letters do not refer to real patients)\n",
        "letter_A = docx2txt.process('/content/drive/MyDrive/NLP projects/Dummy letters/dummy letters/Letter A.docx')\n",
        "letter_B = docx2txt.process('/content/drive/MyDrive/NLP projects/Dummy letters/dummy letters/Letter B.docx')"
      ]
    },
    {
      "cell_type": "code",
      "execution_count": 113,
      "metadata": {
        "colab": {
          "base_uri": "https://localhost:8080/"
        },
        "id": "ywfvfe29l3xA",
        "outputId": "b20ed96f-350e-4d4e-d30a-3beea378fd19"
      },
      "outputs": [
        {
          "output_type": "stream",
          "name": "stdout",
          "text": [
            "Mr A Smith\n",
            "\n",
            "567 Ghengis Khan Drive, Newcastle NE4 5XX\n",
            "\n",
            "\n",
            "\n",
            "Diagnoses:\n",
            "\n",
            "Poor mobility due to chronic pain, low confidence and previous falls \n",
            "\n",
            "Weight loss, anaemia and raised inflammatory markers of unknown aetiology \n",
            "\n",
            "Low mood secondary to poor mobility \n",
            "\n",
            "Breathlessness and elevated BNP awaiting echo \n",
            "\n",
            "Chronic back pain with degenerative changes on MRI \n",
            "\n",
            "Urinary frequency and incontinence \n",
            "\n",
            "\n",
            "\n",
            "Other diagnoses:\n",
            "\n",
            "Complex partial epileptic seizures\n",
            "\n",
            "Hypertension \n",
            "\n",
            "Osteoarthritis with bilateral total hip replacements\n",
            "\n",
            "Atrial fibrillation \n",
            "\n",
            "Asthma \n",
            "\n",
            "Patent foramen ovale \n",
            "\n",
            "Previous cerebellar stroke \n",
            "\n",
            "\n",
            "\n",
            "Medications:\n",
            "\n",
            "Atorvastatin\n",
            "\n",
            "Docusate\n",
            "\n",
            "Ferrous fumarate\n",
            "\n",
            "Vitamin-D3\n",
            "\n",
            "Furosemide\n",
            "\n",
            "Gaviscon\n",
            "\n",
            "Flutiform inhaler\n",
            "\n",
            "Salbutamol inhaler\n",
            "\n",
            "Lansoprazole\n",
            "\n",
            "Losartan \n",
            "\n",
            "Paracetamol \n",
            "\n",
            "Phenytoin\n",
            "\n",
            "Tegretol slow release\n",
            "\n",
            "Codeine\n",
            "\n",
            "Warfarin\n",
            "\n",
            "\n",
            "\n",
            "Suggested changes to medication \n",
            "\n",
            "Reduce codeine 15 mg dose but try and use regularly 2-3 times per day \n",
            "\n",
            "\n",
            "\n",
            "Follow up arrangements\n",
            "\n",
            " I will organise ultrasound of the abdomen and physiotherapy at the Belsay Clinic; I will be in touch by telephone with Mr Smith when the results of his bloods and ultrasound come through. I also note an echo has already been arranged. \n",
            "\n",
            "\n",
            "\n",
            "For Primary care \n",
            "\n",
            "Medication change as above \n",
            "\n",
            "\n",
            "\n",
            "Thank you for referring Mr Smith who attended for a face-to-face assessment at the Belsay Clinic accompanied by his niece today. He gives a history of poor mobility and falls; both these problems are longstanding and indeed he was assessed at the Belsay clinic by my colleague Dr Boyle back in 2019 and had a course of physiotherapy at the time. More recently he has lost confidence, his balance is worse and he has fallen more. He is clear that the lack of mobility is his greatest frustration; he is housebound unless he can be accompanied out of the house by his niece and even then he gets out only in a wheelchair. He thinks that a combination of things are stopping him being more mobile: he feels that he lacks strength, has a fear of falling and also has pain in the front and back of his legs. This is worse at night and keeps him awake at times. His last fall was two months ago. He notes feeling unsteady on standing but on close questioning this sensation did not appear to be consistent with vertigo. \n",
            "\n",
            "He also complains of pain across her shoulders starting in the right arm and going across the shoulders to the left arm. This has been present for about six months and is not related to exertion. It is no worse in the morning and he does not feel particularly stiff. He also describes stabbing pain over his right eye that then migrates over the top of his head. This does not seem to be related to stressful events. He has lost a considerable amount of weight - 8kg from March to August this year, and another five kg since as his weight in clinic today was 71.5 kg. His appetite is not as good as it usually is but he denies nausea or vomiting; he avoids constipation by taking laxatives. He does not complain of toothache, does not choke on food or drink and says that he eats reasonably well. He has seen a dietitian. He complains of occasional breathlessness and cough at night and brings up a small quantity of phlegm but this is little changed. He has not noticed any blood in his stools. He complains of a rash on his legs, more on the right than the left, and that her legs are often cool. He notes that this rash has been present for at least 10 years and I also note recent vascular duplex studies that suggest good arterial flow in the legs. He has urinary frequency and is often not aware of when he needs to go to the loo; he also complains of a few minutes of crampy lower abdominal pain after micturition. Perhaps unsurprisingly he is somewhat low in mood but still enjoys going out and seeing people. He denies suicidal ideation or early morning waking. He admits that he tends to live in the past more nowadays. He does not complain of any subjective memory problems. \n",
            "\n",
            "On examination, he was alert and engaged well with the consultation. There was no jaundice, anaemia, cyanosis, clubbing or lymphadenopathy. There was a confluent discolouration on both lower legs which was cool to the touch, not raised or tender and was not blanching. Similar changes were seen above the knees but looked more petechial in nature. Heart sounds were normal, JVP was not raised and the chest was clear. Abdominal examination revealed a 2cm liver edge but no ascites or masses. There was an old scar noted on his left upper arm where a basal cell carcinoma has been removed previously. He was mildly tender across the shoulders and in the thoracic paraspinal muscles; tenderness was not confined to the spine. He was able to raise her arms above her head. Neurological examination revealed normal tone, power and coordination. Cranial nerve examination was normal with no nystagmus. He was able to rise unaided from a chair quite quickly but was very reluctant to take a step forward. However he could walk a few paces with support from one person albeit unsteadily. There was no bradykinesia or tremor noted. \n",
            "\n",
            "His SarcScreen revealed a SARC-F score of 10/10, and Fried frailty score of 2/5 denoting prefrailty. He was unable to attempt the 3m walk but his maximum grip strength was 22 kg. GDS was 10/15 and MMSE was 28/30. An active stand showed a blood pressure of 141/85 with no significant drop although he was unsteady on standing. His 12 lead electrocardiogram showed atrial fibrillation at 80 per minute with nil else of note. \n",
            "\n",
            "There are clearly a complex set of interlocking problems here. He is rather stronger than he thinks he is on although his balance is poor, I think it is a lack of confidence rather than a lack of strength that is preventing him from mobilising more. He accepts this and is happy for us to refer to physiotherapy for strength and balance training which I think will help build his confidence. His mood is low but not sufficiently low to denote depression and I think if we can improve his mobility, his mood will improve. Some of his chronic back pain is undoubtedly due to the degenerative changes seen on MRI and I understand that surgery is not going to be an option for this. I would be reluctant to change her painkillers much at the moment though given that he is already on antiepileptic medications and so adding in other agents for chronic pain may not help much but might interact with these medications. \n",
            "\n",
            "We discussed the fine balance between benefits and side effects of all of these medications today. What would perhaps be helpful though is to reduce the codeine to 15 mg so that he can try and take this more regularly; he finds that the 30 mg dose makes him feel very unsteady on her feet. Having said all of this, it is clear that the blood tests suggest some issues that require further investigation. His breathlessness on exertion and raised BNP suggest that investigation for LV systolic dysfunction causing heart failure would be beneficial and I note that he has already had an echo requested. His weight loss is quite dramatic and this, together with the admittedly longstanding rash on his legs, anaemia, raised ESR and high platelet counts suggest that there is an inflammatory disorder present. Whether this is autoimmune or due to another aetiology is unclear. I have requested bloods today including repeat U&Es, liver function tests, calcium, myeloma screen, CRP and ESR, autoimmune screen, creatine kinase and iron studies. I have also requested an ultrasound of the abdomen to investigate the liver edge that I could feel; I note that a recent chest x-ray showed normal heart size and clear lung fields. Despite the possible finding of horizontal nystagmus by Community Nursing colleagues I could not find any evidence of this today and I don’t think we need to progress to brain scanning at present. \n",
            "\n",
            "Once we have got the blood and ultrasound results, I will phone Mr Smith again and discuss the best way forward. It may be that if we do not find another cause for his inflammatory condition, a trial of steroids might be warranted as some of the features including the shoulder discomfort could be consistent with polymyalgia rheumatica. I have explained this today but also explained that I think we need to investigate further before diving in with treatment in case this is not the diagnosis. \n",
            "\n",
            "Yours sincerely\n",
            "\n",
            "Professor Miles Witham\n",
            "\n",
            "Consultant Geriatrician\n"
          ]
        }
      ],
      "source": [
        "print(letter_A)"
      ]
    },
    {
      "cell_type": "code",
      "execution_count": 114,
      "metadata": {
        "colab": {
          "base_uri": "https://localhost:8080/"
        },
        "id": "lndm62jGl-ZG",
        "outputId": "739b4130-4c66-4a57-a89b-7400ee2e730e"
      },
      "outputs": [
        {
          "output_type": "stream",
          "name": "stdout",
          "text": [
            "Mrs B Smith\n",
            "\n",
            "Flat 1, Farringdon Road, Newcastle NE2 5DH\n",
            "\n",
            "Date of Birth: 01/01/1932\n",
            "\n",
            "\n",
            "\n",
            "\n",
            "\n",
            "Diagnoses: \n",
            "\n",
            "Falls due to gait and balance disorder \n",
            "\n",
            "Hyperthyroidism due to thyroxine over-replacement\n",
            "\n",
            "Sarcopenia \n",
            "\n",
            "Orthostatic hypotension \n",
            "\n",
            "\n",
            "\n",
            "Existing diagnoses: \n",
            "\n",
            "Hypertension \n",
            "\n",
            "Hypothyroidism \n",
            "\n",
            "Vitamin B12 deficiency \n",
            "\n",
            "Previous fractured wrist\n",
            "\n",
            "Visual impairment due to cataracts \n",
            "\n",
            "\n",
            "\n",
            "Medications: \n",
            "\n",
            "Alendronic acid \n",
            "\n",
            "Calcium and vitamin-D \n",
            "\n",
            "Bendroflumethiazide \n",
            "\n",
            "Vitamin B12 \n",
            "\n",
            "Simvastatin \n",
            "\n",
            "Ramipril \n",
            "\n",
            "\n",
            "\n",
            "Medication changes: \n",
            "\n",
            "Please reduce thyroxine dose to 75mcg once daily\n",
            "\n",
            "\n",
            "\n",
            "Follow up arrangements: \n",
            "\n",
            "I will write back when I see the results of her 24 hour electrocardiogram\n",
            "\n",
            "\n",
            "\n",
            "For Primary care \n",
            "\n",
            "Could you please forward me a copy of the 24 hour blood pressure monitor that she says she had in your surgery recently? \n",
            "\n",
            "\n",
            "\n",
            "I saw Mrs Smith for a face-to-face appointment at the Belsay Clinic today; she was accompanied by her son. She gives a history of two falls over the last few months and feels unsteady on her feet. She uses a walking frame at home and a stick when she is out. Neither of the falls were witnessed; her son reports that one occurred outside when she was pushing her walker up a ramp; she fell backwards and hit her head. The second occurred in the house but she does not remember any details; when she came round on the floor she managed to press the community alarm button. She denies any lightheadedness or vertigo, any palpitations or chest pain. Interestingly she had two syncopal episodes many years ago, both of which occurred when she was feeling warm and after eating a substantial meal. \n",
            "\n",
            "She has lost a considerable amount of weight over the last year; in November 2020 her weight was 58 kilos, this fell to 55 kilos in June 2021 and her weight in clinic today was 51.4 kilos. Her appetite has been poor but she is now eating better and is due to see the dietitian next week. She does not report choking on food, has no problems chewing, no dysphagia and no nausea. She does not complain of abdominal pain or problems with her bowels. She has no urinary symptoms either. She reports her mood is not low although she gets occasionally frustrated with her inability to complete activities of daily living. I understand that she had a 24 hour blood pressure monitor at your surgery recently.\n",
            "\n",
            "On examination there was no jaundice, anaemia, clubbing, cyanosis or lymphadenopathy. Thyroid examination was normal with no goitre palpable. The JVP was not raised, there was a trace of ankle oedema, heart sounds were normal and the chest was clear. Abdominal examination was unremarkable with no masses or organomegaly. Neurological examination revealed normal tone, power and coordination, no bradykinesia or tremor; cranial nerve examination including gaze was normal and there was no exophthalmos. \n",
            "\n",
            "Her SarcScreen showed a Sarc-F score of 7/10, and Fried frailty score of 2/5 denoting prefrailty. Weight was 51.4 kilos giving a BMI of 23.8. Grip strength was 13 kilos, walk speed 0.42 m/sec, and MMSE was 26/30. An active stand today showed a lying blood pressure of 204/71, falling to 117/46 when standing without any symptoms. This recovered rapidly within a minute to 174/64 and then fell again to 144/56 at 2 minutes. Twelve lead electrocardiogram showed sinus rhythm at 67 beats per minute with no abnormalities. Blood tests done in October show a haemoglobin of 121 with normal LFTs, and in November her TSH was <0.05 with an elevated T4 of 29.3. eGFR was 44 which is stable. \n",
            "\n",
            "Her falls are probably due to a combination of balance impairment and sarcopenia; she has already seen the domiciliary physiotherapy team and she has exercises to do to improve her strength and balance. These are the most effective intervention for this problem and I have encouraged her to keep going with these. Although her falls have not been witnessed, the one in the house has some features that suggest possible syncope and I think it would be sensible to get a 24 hour electrocardiogram; this has been fitted today. Although poor appetite may explain some of her weight loss, she is hyperthyroid suggesting that her thyroxine does is too high; this in turn may be contributing to both her sarcopenia and weight loss. Could I therefore ask you to reduce her thyroxine dose from 10mcg to 75mcg?\n",
            "\n",
            "I will be in touch when I get the 24 hour electrocardiogram result back.\n",
            "\n",
            "\n",
            "\n",
            "Yours sincerely,\n",
            "\n",
            "\n",
            "\n",
            "Professor Miles Witham\n",
            "\n",
            "Consultant Geriatrician\n"
          ]
        }
      ],
      "source": [
        "print(letter_B)"
      ]
    },
    {
      "cell_type": "code",
      "execution_count": 115,
      "metadata": {
        "id": "GwskSnPCrl8v"
      },
      "outputs": [],
      "source": [
        "#Apply nlp pipeline to letter A\n",
        "doc_A = nlp(letter_A)"
      ]
    },
    {
      "cell_type": "code",
      "execution_count": 116,
      "metadata": {
        "id": "2r5J3iKJsP5Q"
      },
      "outputs": [],
      "source": [
        "#Apply nlp pipeline to letter B\n",
        "doc_B = nlp(letter_B)"
      ]
    },
    {
      "cell_type": "markdown",
      "metadata": {
        "id": "_pxrnB-mTxir"
      },
      "source": [
        "# Build PhraseMatcher"
      ]
    },
    {
      "cell_type": "markdown",
      "metadata": {
        "id": "i82Imo-QhXlI"
      },
      "source": [
        "Create a PhraseMatcher to identify terms that are related to Muscle Weakness - these terms are based on a crowd-sourced list created by clinicians that frequently encounter Sarcopenia."
      ]
    },
    {
      "cell_type": "code",
      "execution_count": 117,
      "metadata": {
        "colab": {
          "base_uri": "https://localhost:8080/"
        },
        "id": "XKcY28MNPMTT",
        "outputId": "f50d84e0-cee3-4564-fbc3-03d1fe2ce805"
      },
      "outputs": [
        {
          "output_type": "stream",
          "name": "stdout",
          "text": [
            "             Muscle weakness\n",
            "0                       Weak\n",
            "1               Uses a stick\n",
            "2       Uses a walking stick\n",
            "3               Uses a frame\n",
            "4        Uses a zimmer frame\n",
            "..                       ...\n",
            "85              Cannot stand\n",
            "86           Unable to stand\n",
            "87       No rehab potential \n",
            "88  Limited rehab potential \n",
            "89           Mechanical fall\n",
            "\n",
            "[90 rows x 1 columns]\n"
          ]
        }
      ],
      "source": [
        "#Import crowd-sourced list of sarcopenia terms\n",
        "sarcopenia_terms_list = pd.read_csv(\"/content/drive/MyDrive/NLP projects/weakness terms/list_of_sarcopenia_terms170622.csv\")\n",
        "print(sarcopenia_terms_list)"
      ]
    },
    {
      "cell_type": "code",
      "execution_count": 118,
      "metadata": {
        "colab": {
          "base_uri": "https://localhost:8080/"
        },
        "id": "WptLxyuQTmRV",
        "outputId": "352b9657-54d5-423a-c19a-a97a35e189be"
      },
      "outputs": [
        {
          "output_type": "stream",
          "name": "stdout",
          "text": [
            "['Weak', 'Uses a stick', 'Uses a walking stick', 'Uses a frame', 'Uses a zimmer frame', 'Uses a walker', 'Uses walking aid', 'Furniture walks', 'Difficulty mobilising', 'Difficulty walking', 'Difficulty standing', 'Difficulty climbing stairs', 'Cannot climb stairs', 'Bedbound', 'Hoist transfer', 'Slowed up', 'Limited mobility', 'Needs assistance', 'Difficulty carrying', 'Multiple falls', 'Fallen x times', 'Mob with AO2/1', 'Transfer with AO2/1', 'Sara stedy', 'Rotastand', 'WZF (wheeled zimmer frame)', 'ZF (zimmer frame)', '4WW', '3WW', 'Delta frame (3WW)', 'POC', 'Raised toilet seat', 'Bed lever', 'Combined toilet seat and frame', 'Skandia', 'Mowbray', 'Free standing toilet frame', 'Etwell trolley', 'Kitchen trolley', 'Riser recliner', 'Raised chair ', 'Commode', 'Mobile commode', 'Stairlift', 'Stair assessment', 'Off legs', 'FLOF', 'multifactorial fall', 'CCA or pendant alarm', 'fractured pubic rami/ramus', 'rami/ramus #', '#NOF', 'Fractured NOF', 'Fractured neck of femur', 'Struggling on stairs', 'Deteriorating/deteriorated mobility', 'Frail/frailty', 'downstairs living', 'CGA', 'Comprehensive geriatric assessment', 'Chairbound', 'Deconditioned', 'Mobility declined', 'Has carers', 'Respite care', 'Gaunt', 'Frail', 'Muscle wasting', 'Cachectic', 'Muscle atrophy', 'Loss of function', 'Difficulty with ADL', 'dependent for care', 'Fragile', 'Fragility fracture', 'Immobile', 'Anorexia', 'Reduced strength', 'Limited strength', 'Quadriceps wasting', 'Low muscle bulk', 'loss of bulk', 'loss of quad* bulk', 'Stuck on toilet', 'Loss of power', 'Cannot stand', 'Unable to stand', 'No rehab potential ', 'Limited rehab potential ', 'Mechanical fall']\n"
          ]
        }
      ],
      "source": [
        "#Convert the above list to a python list: \n",
        "sarcopenia_terms_list = sarcopenia_terms_list[\"Muscle weakness\"].tolist()\n",
        "print(sarcopenia_terms_list)"
      ]
    },
    {
      "cell_type": "code",
      "execution_count": 119,
      "metadata": {
        "colab": {
          "base_uri": "https://localhost:8080/"
        },
        "id": "yGXXbvYXVKv1",
        "outputId": "0aff9ae2-1577-4454-e117-44b8073ebce8"
      },
      "outputs": [
        {
          "output_type": "stream",
          "name": "stdout",
          "text": [
            "['Weak', 'Uses a stick', 'Uses a walking stick', 'Uses a frame', 'Uses a zimmer frame', 'Uses a walker', 'Uses walking aid', 'Furniture walks', 'Difficulty mobilising', 'Difficulty walking', 'Difficulty standing', 'Difficulty climbing stairs', 'Cannot climb stairs', 'Bedbound', 'Hoist transfer', 'Slowed up', 'Limited mobility', 'Needs assistance', 'Difficulty carrying', 'Multiple falls', 'Fallen x times', 'Mob with AO2/1', 'Transfer with AO2/1', 'Sara stedy', 'Rotastand', 'WZF (wheeled zimmer frame)', 'ZF (zimmer frame)', '4WW', '3WW', 'Delta frame (3WW)', 'POC', 'Raised toilet seat', 'Bed lever', 'Combined toilet seat and frame', 'Skandia', 'Mowbray', 'Free standing toilet frame', 'Etwell trolley', 'Kitchen trolley', 'Riser recliner', 'Raised chair ', 'Commode', 'Mobile commode', 'Stairlift', 'Stair assessment', 'Off legs', 'FLOF', 'multifactorial fall', 'CCA or pendant alarm', 'fractured pubic rami/ramus', 'rami/ramus #', '#NOF', 'Fractured NOF', 'Fractured neck of femur', 'Struggling on stairs', 'Deteriorating/deteriorated mobility', 'Frail/frailty', 'downstairs living', 'CGA', 'Comprehensive geriatric assessment', 'Chairbound', 'Deconditioned', 'Mobility declined', 'Has carers', 'Respite care', 'Gaunt', 'Frail', 'Muscle wasting', 'Cachectic', 'Muscle atrophy', 'Loss of function', 'Difficulty with ADL', 'dependent for care', 'Fragile', 'Fragility fracture', 'Immobile', 'Anorexia', 'Reduced strength', 'Limited strength', 'Quadriceps wasting', 'Low muscle bulk', 'loss of bulk', 'loss of quad* bulk', 'Stuck on toilet', 'Loss of power', 'Cannot stand', 'Unable to stand', 'No rehab potential ', 'Limited rehab potential ', 'Mechanical fall', 'muscle weakness']\n"
          ]
        }
      ],
      "source": [
        "#Add \"muscle weakness\" which has been missed from list\n",
        "sarcopenia_terms_list.append(\"muscle weakness\")\n",
        "print(sarcopenia_terms_list)"
      ]
    },
    {
      "cell_type": "code",
      "execution_count": 120,
      "metadata": {
        "colab": {
          "base_uri": "https://localhost:8080/"
        },
        "id": "d_WCJRvdVkRx",
        "outputId": "d48bf13c-3e41-49ab-a7ef-c44c5920297f"
      },
      "outputs": [
        {
          "output_type": "stream",
          "name": "stdout",
          "text": [
            "['weak', 'uses a stick', 'uses a walking stick', 'uses a frame', 'uses a zimmer frame', 'uses a walker', 'uses walking aid', 'furniture walks', 'difficulty mobilising', 'difficulty walking', 'difficulty standing', 'difficulty climbing stairs', 'cannot climb stairs', 'bedbound', 'hoist transfer', 'slowed up', 'limited mobility', 'needs assistance', 'difficulty carrying', 'multiple falls', 'fallen x times', 'mob with ao2/1', 'transfer with ao2/1', 'sara stedy', 'rotastand', 'wzf (wheeled zimmer frame)', 'zf (zimmer frame)', '4ww', '3ww', 'delta frame (3ww)', 'poc', 'raised toilet seat', 'bed lever', 'combined toilet seat and frame', 'skandia', 'mowbray', 'free standing toilet frame', 'etwell trolley', 'kitchen trolley', 'riser recliner', 'raised chair ', 'commode', 'mobile commode', 'stairlift', 'stair assessment', 'off legs', 'flof', 'multifactorial fall', 'cca or pendant alarm', 'fractured pubic rami/ramus', 'rami/ramus #', '#nof', 'fractured nof', 'fractured neck of femur', 'struggling on stairs', 'deteriorating/deteriorated mobility', 'frail/frailty', 'downstairs living', 'cga', 'comprehensive geriatric assessment', 'chairbound', 'deconditioned', 'mobility declined', 'has carers', 'respite care', 'gaunt', 'frail', 'muscle wasting', 'cachectic', 'muscle atrophy', 'loss of function', 'difficulty with adl', 'dependent for care', 'fragile', 'fragility fracture', 'immobile', 'anorexia', 'reduced strength', 'limited strength', 'quadriceps wasting', 'low muscle bulk', 'loss of bulk', 'loss of quad* bulk', 'stuck on toilet', 'loss of power', 'cannot stand', 'unable to stand', 'no rehab potential ', 'limited rehab potential ', 'mechanical fall', 'muscle weakness']\n"
          ]
        }
      ],
      "source": [
        "#Now convert all items in the list to the lower case form\n",
        "for item in range(len(sarcopenia_terms_list)):\n",
        "  sarcopenia_terms_list[item] = sarcopenia_terms_list[item].lower()\n",
        "\n",
        "print(sarcopenia_terms_list)"
      ]
    },
    {
      "cell_type": "code",
      "execution_count": 121,
      "metadata": {
        "id": "b5saekuLnGoV"
      },
      "outputs": [],
      "source": [
        "#Define a list of terms indicative of muscle weakness\n",
        "weakness_list = [\"muscle weakness\", \"weak\", \"uses a stick\", \"uses a walking stick\", \n",
        "                    \"uses a frame\", \"uses a zimmer frame\", \"uses a walker\", \"uses a walking aid\",\n",
        "                    \"furniture walks\", \"difficulty mobilising\", \"difficulty walking\", \"wheelchair\"\n",
        "                    \"difficulty standing\", \"difficulty climbing stairs\", \"cannot climb stairs\", \"housebound\",\n",
        "                    \"bedbound\", \"hoist transfer\", \"slowed up\", \"limited mobility\", \"poor mobility\"\n",
        "                    \"needs assistance\", \"difficulty carrying\", \"falls\", \"fallen\",\n",
        "                    \"found on floor\", \"long lie\"]"
      ]
    },
    {
      "cell_type": "code",
      "execution_count": 122,
      "metadata": {
        "colab": {
          "base_uri": "https://localhost:8080/"
        },
        "id": "2-zfFmiYfQUI",
        "outputId": "7d563d87-06c6-40e5-9dd5-b07ba2900543"
      },
      "outputs": [
        {
          "output_type": "stream",
          "name": "stdout",
          "text": [
            "['muscle weakness', 'weak', 'uses a stick', 'uses a walking stick', 'uses a frame', 'uses a zimmer frame', 'uses a walker', 'uses a walking aid', 'furniture walks', 'difficulty mobilising', 'difficulty walking', 'wheelchairdifficulty standing', 'difficulty climbing stairs', 'cannot climb stairs', 'housebound', 'bedbound', 'hoist transfer', 'slowed up', 'limited mobility', 'poor mobilityneeds assistance', 'difficulty carrying', 'falls', 'fallen', 'found on floor', 'long lie', 'weak', 'uses a stick', 'uses a walking stick', 'uses a frame', 'uses a zimmer frame', 'uses a walker', 'uses walking aid', 'furniture walks', 'difficulty mobilising', 'difficulty walking', 'difficulty standing', 'difficulty climbing stairs', 'cannot climb stairs', 'bedbound', 'hoist transfer', 'slowed up', 'limited mobility', 'needs assistance', 'difficulty carrying', 'multiple falls', 'fallen x times', 'mob with ao2/1', 'transfer with ao2/1', 'sara stedy', 'rotastand', 'wzf (wheeled zimmer frame)', 'zf (zimmer frame)', '4ww', '3ww', 'delta frame (3ww)', 'poc', 'raised toilet seat', 'bed lever', 'combined toilet seat and frame', 'skandia', 'mowbray', 'free standing toilet frame', 'etwell trolley', 'kitchen trolley', 'riser recliner', 'raised chair ', 'commode', 'mobile commode', 'stairlift', 'stair assessment', 'off legs', 'flof', 'multifactorial fall', 'cca or pendant alarm', 'fractured pubic rami/ramus', 'rami/ramus #', '#nof', 'fractured nof', 'fractured neck of femur', 'struggling on stairs', 'deteriorating/deteriorated mobility', 'frail/frailty', 'downstairs living', 'cga', 'comprehensive geriatric assessment', 'chairbound', 'deconditioned', 'mobility declined', 'has carers', 'respite care', 'gaunt', 'frail', 'muscle wasting', 'cachectic', 'muscle atrophy', 'loss of function', 'difficulty with adl', 'dependent for care', 'fragile', 'fragility fracture', 'immobile', 'anorexia', 'reduced strength', 'limited strength', 'quadriceps wasting', 'low muscle bulk', 'loss of bulk', 'loss of quad* bulk', 'stuck on toilet', 'loss of power', 'cannot stand', 'unable to stand', 'no rehab potential ', 'limited rehab potential ', 'mechanical fall', 'muscle weakness']\n"
          ]
        }
      ],
      "source": [
        "#append \"weakness list\" with crowd-sourced \"Sarcopenia_terms_list\"\n",
        "weakness_list.extend(sarcopenia_terms_list)\n",
        "print(weakness_list)"
      ]
    },
    {
      "cell_type": "code",
      "execution_count": 123,
      "metadata": {
        "id": "34esfoNYoe-e"
      },
      "outputs": [],
      "source": [
        "#Initialize matcher\n",
        "matcher = PhraseMatcher(nlp.vocab)\n",
        "\n",
        "#Apply spaCy nlp pipeline to list of weakness terms\n",
        "weakness_terms = [nlp(i) for i in weakness_list]\n"
      ]
    },
    {
      "cell_type": "code",
      "execution_count": 124,
      "metadata": {
        "id": "AOGEpdwLqwhc"
      },
      "outputs": [],
      "source": [
        "#Add weakness terms to PhraseMatcher\n",
        "matcher.add(\"WEAKNESS TERM\", weakness_terms)"
      ]
    },
    {
      "cell_type": "code",
      "execution_count": 125,
      "metadata": {
        "id": "XBO3RKzXnYv-"
      },
      "outputs": [],
      "source": [
        "#Add pattern for SARC-F score\n",
        "sarcf_list = [\"SARC-F\", \"SARC F\", \"SARCF\", \"sarc-f\", \"sarc f\", \"Sarc f\", \"Sarc F\", \"Sarc-f\", \"Sarc-F\"]\n",
        "\n",
        "sarcf_terms = [nlp(i) for i in sarcf_list]\n",
        "\n",
        "matcher.add(\"SARC-F\", sarcf_terms)\n"
      ]
    },
    {
      "cell_type": "code",
      "execution_count": 126,
      "metadata": {
        "id": "bXgRUhrsfgDg"
      },
      "outputs": [],
      "source": [
        "#Add pattern for Sarcopenia diagnosis\n",
        "sarcopenia_diagnosis = [\"Sarcopenia\", \"sarcopenia\"]\n",
        "\n",
        "sarcopenia_terms = [nlp(i) for i in sarcopenia_diagnosis]\n",
        "\n",
        "#Add to matcher\n",
        "matcher.add(\"Sarcopenia\", sarcopenia_terms)\n"
      ]
    },
    {
      "cell_type": "code",
      "execution_count": 127,
      "metadata": {
        "colab": {
          "base_uri": "https://localhost:8080/"
        },
        "id": "tAxIcq7wsXyn",
        "outputId": "22b88981-b6e3-4a9a-fa02-6b457fcd080d"
      },
      "outputs": [
        {
          "output_type": "stream",
          "name": "stdout",
          "text": [
            "Match: WEAKNESS TERM - falls ( Location =  27 28 )\n",
            "Match: WEAKNESS TERM - falls ( Location =  255 256 )\n",
            "Match: WEAKNESS TERM - fallen ( Location =  303 304 )\n",
            "Match: WEAKNESS TERM - housebound ( Location =  321 322 )\n",
            "Match: SARC-F - SARC-F ( Location =  982 985 )\n"
          ]
        }
      ],
      "source": [
        "#Apply matcher to letter A\n",
        "matchesA = matcher(doc_A)\n",
        "\n",
        "for match_id, start, end in matchesA: \n",
        "  span = doc_A[start:end]\n",
        "  match_id_string = nlp.vocab.strings[match_id]\n",
        "  print(\"Match:\",match_id_string, \"-\", span.text, \"( Location = \", start, end, \")\")"
      ]
    },
    {
      "cell_type": "markdown",
      "metadata": {
        "id": "6xix4MJRLsuP"
      },
      "source": [
        "The matcher applied to letter A has identified: \n",
        "4x weakness terms\n",
        "1x SARC-F term"
      ]
    },
    {
      "cell_type": "code",
      "execution_count": 128,
      "metadata": {
        "colab": {
          "base_uri": "https://localhost:8080/"
        },
        "id": "shomA-Lytl07",
        "outputId": "18e14fcc-4781-45fd-ed9e-cf91362b6291"
      },
      "outputs": [
        {
          "output_type": "stream",
          "name": "stdout",
          "text": [
            "Match: Sarcopenia - Sarcopenia ( Location =  39 40 )\n",
            "Match: WEAKNESS TERM - falls ( Location =  180 181 )\n",
            "Match: WEAKNESS TERM - falls ( Location =  211 212 )\n",
            "Match: SARC-F - Sarc-F ( Location =  540 543 )\n",
            "Match: WEAKNESS TERM - falls ( Location =  676 677 )\n",
            "Match: Sarcopenia - sarcopenia ( Location =  687 688 )\n",
            "Match: WEAKNESS TERM - falls ( Location =  732 733 )\n",
            "Match: Sarcopenia - sarcopenia ( Location =  802 803 )\n"
          ]
        }
      ],
      "source": [
        "#Apply matcher to letter B\n",
        "matchesB = matcher(doc_B)\n",
        "\n",
        "for match_id, start, end in matchesB: \n",
        "  span = doc_B[start:end]\n",
        "  match_id_string = nlp.vocab.strings[match_id]\n",
        "  print(\"Match:\",match_id_string, \"-\", span.text, \"( Location = \", start, end, \")\")"
      ]
    },
    {
      "cell_type": "markdown",
      "metadata": {
        "id": "dKS9R6DCL2RB"
      },
      "source": [
        "The matcher applied to letter B has identified:\n",
        "4x weakness terms\n",
        "1x SARC-F term\n",
        "2x Sarcopenia terms"
      ]
    },
    {
      "cell_type": "markdown",
      "metadata": {
        "id": "hfvw7osg2w5h"
      },
      "source": [
        "Using the PhraseMatcher only identifies exact matches. A rule-based matcher with more flexibility is likely to identify more matches."
      ]
    },
    {
      "cell_type": "markdown",
      "metadata": {
        "id": "5FJl27liID9Z"
      },
      "source": [
        "# Try a rule-based matcher"
      ]
    },
    {
      "cell_type": "code",
      "execution_count": 129,
      "metadata": {
        "id": "qTuMvzHWII7X"
      },
      "outputs": [],
      "source": [
        "#Import rule-based matcher\n",
        "from spacy.matcher import Matcher"
      ]
    },
    {
      "cell_type": "code",
      "execution_count": 130,
      "metadata": {
        "id": "WppaLFUpI56h"
      },
      "outputs": [],
      "source": [
        "#Initialize matcher\n",
        "rb_matcher = Matcher(nlp.vocab)\n",
        "\n",
        "#Add patterns for weakness\n",
        "weakness_pattern = [\n",
        "                    [{\"LEMMA\": \"fall\"}], [{\"LEMMA\": \"weak\"}], [{\"LOWER\": \"housebound\"}], [{\"LOWER\": \"bedbound\"}],\n",
        "                    [{\"LEMMA\": \"use\"}, {\"LOWER\": \"a\", \"OP\": \"?\"}, {\"LEMMA\": \"walk\", \"OP\": \"?\"}, {\"LOWER\": \"stick\"}],\n",
        "                    [{\"LEMMA\": \"use\"}, {\"LOWER\": \"a\", \"OP\": \"?\"}, {\"LEMMA\": \"walk\", \"OP\": \"?\"}, {\"LOWER\": \"zimmer\", \"OP\": \"?\"}, {\"LOWER\": \"frame\"}],\n",
        "                    [{\"LEMMA\": \"use\"}, {\"LOWER\": \"a\", \"OP\": \"?\"}, {\"LEMMA\": \"walk\"}, {\"LOWER\": \"aid\", \"OP\": \"?\"}],\n",
        "                    [{\"LOWER\": \"furniture\"}, {\"LEMMA\": \"walk\"}], [{\"LEMMA\": \"difficult\"}, {\"LEMMA\": \"walk\"}],\n",
        "                    [{\"LEMMA\": \"difficult\"}, {\"LEMMA\": \"mobilise\"}], [{\"LEMMA\": \"difficult\"}, {\"LEMMA\": \"stand\"}],\n",
        "                    [{\"LEMMA\": \"difficult\"}, {\"LOWER\": \"with\", \"OP\": \"?\"}, {\"LEMMA\": \"climb\", \"OP\": \"?\"}, {\"LEMMA\": \"stair\"}],\n",
        "                    [{\"LOWER\": \"cannot\"}, {\"LEMMA\": \"climb\", \"OP\": \"?\"}, {\"LEMMA\": \"stair\"}],\n",
        "                    [{\"LOWER\": \"can't\"}, {\"LEMMA\": \"climb\", \"OP\": \"?\"}, {\"LEMMA\": \"stair\"}],\n",
        "                    [{\"LEMMA\": \"hoist\"}, {\"LEMMA\": \"transfer\"}], [{\"LEMMA\": \"slow\"}, {\"LOWER\": \"up\"}],\n",
        "                    [{\"LEMMA\": \"limit\"}, {\"LOWER\": \"mobility\"}],  [{\"LOWER\": \"poor\"}, {\"LOWER\": \"mobility\"}],\n",
        "                    [{\"LEMMA\": \"need\"}, {\"LEMMA\": \"assist\"}], [{\"LEMMA\": \"require\"}, {\"LEMMA\": \"assist\"}],\n",
        "                    [{\"LEMMA\": \"difficult\"}, {\"LEMMA\": \"carry\"}], [{\"LOWER\": \"found\"}, {\"LOWER\": \"on\"}, {\"LOWER\": \"floor\"}],\n",
        "                    [{\"LOWER\": \"long\"}, {\"LOWER\": \"lie\"}], [{\"LEMMA\": \"lack\"}, {\"LOWER\": \"of\", \"OP\": \"?\"}, {\"LOWER\": \"mobility\"}],\n",
        "                    [{\"LEMMA\": \"lack\"}, {\"LOWER\": \"of\", \"OP\": \"?\"}, {\"LEMMA\": \"strength\"}],\n",
        "                    [{\"LEMMA\": \"mob\"}, {\"LOWER\": \"with\", \"OP\": \"?\"}, {\"LOWER\": \"AO2\"}],\n",
        "                    [{\"LEMMA\": \"mob\"}, {\"LOWER\": \"with\", \"OP\": \"?\"}, {\"LOWER\": \"AO1\"}],\n",
        "                    [{\"LEMMA\": \"transfer\"}, {\"LOWER\": \"with\", \"OP\": \"?\"}, {\"LOWER\": \"AO2\"}],\n",
        "                    [{\"LEMMA\": \"transfer\"}, {\"LOWER\": \"with\", \"OP\": \"?\"}, {\"LOWER\": \"AO1\"}],\n",
        "                    [{\"LOWER\": \"sara stedy\"}], [{\"LOWER\": \"sara-stedy\"}], [{\"LOWER\": \"rotastand\"}],\n",
        "                    [{\"LOWER\": \"wzf\"}], [{\"LOWER\": \"zf\"}], [{\"LOWER\": \"4ww\"}], [{\"LOWER\": \"3ww\"}],\n",
        "                    [{\"LOWER\": \"delta-frame\"}], [{\"LOWER\": \"delta frame\"}], [{\"LOWER\": \"poc\"}], \n",
        "                    [{\"LEMMA\": \"pack\"}, {\"LOWER\": \"of\", \"OP\": \"?\"}, {\"LEMMA\": \"care\"}],\n",
        "                    [{\"LEMMA\": \"raise\"}, {\"LOWER\": \"toilet\", \"OP\": \"?\"}, {\"LOWER\": \"seat\"}],\n",
        "                    [{\"LOWER\": \"bed\"}, {\"LOWER\": \"lever\"}], [{\"LOWER\": \"skandia\"}], [{\"LOWER\": \"mowbray\"}],\n",
        "                    [{\"LOWER\": \"free standing toilet frame\"}], [{\"LOWER\": \"etwell trolley\"}], \n",
        "                    [{\"LOWER\": \"kitchen trolley\"}], [{\"LOWER\": \"riser recliner\"}], [{\"LOWER\": \"raised chair\"}],\n",
        "                    [{\"LOWER\": \"mobile\", \"OP\": \"?\"}, {\"LOWER\": \"commode\"}], [{\"LOWER\": \"stairlift\"}], \n",
        "                    [{\"LOWER\": \"stair assessment\"}], [{\"LOWER\": \"off legs\"}], [{\"LOWER\": \"flof\"}],\n",
        "                    [{\"LOWER\": \"cca alarm\"}], [{\"LOWER\": \"pendant alarm\"}], \n",
        "                    [{\"LEMMA\": \"fracture\"}, {\"LOWER\": \"pubic\", \"OP\": \"?\"}, {\"LEMMA\": \"ramus\"}],\n",
        "                    [{\"TEXT\": \"#\"}, {\"LOWER\": \"pubic\", \"OP\": \"?\"}, {\"LEMMA\": \"ramus\"}],\n",
        "                    [{\"TEXT\": \"#NOF\"}], [{\"TEXT\": \"#\"}, {\"LOWER\": \"nof\"}],\n",
        "                    [{\"TEXT\": \"#\"}, {\"LOWER\": \"neck of femur\"}], [{\"LEMMA\": \"fracture\"}, {\"LOWER\": \"nof\"}],\n",
        "                    [{\"LEMMA\": \"fracture\"}, {\"LOWER\": \"nof\"}], [{\"LEMMA\": \"fracture\"}, {\"LOWER\": \"neck of femur\"}],\n",
        "                    [{\"LEMMA\": \"struggle\"}, {\"IS_ALPHA\": True, \"OP\": \"?\"}, {\"LEMMA\": \"stair\"}],\n",
        "                    [{\"LEMMA\": \"deteriorate\"}, {\"LEMMA\": \"mobile\"}], [{\"LEMMA\": \"frail\"}],\n",
        "                    [{\"LEMMA\": \"downstair\"}, {\"LEMMA\": \"living\"}], [{\"LOWER\": \"cga\"}],\n",
        "                    [{\"LOWER\": \"comprehensive geriatric assessment\"}], [{\"LOWER\": \"chairbound\"}],\n",
        "                    [{\"LEMMA\": \"decondition\"}], [{\"LEMMA\": \"mobile\"}, {\"LEMMA\": \"decline\"}],\n",
        "                    [{\"LOWER\": \"has\"}, {\"LEMMA\": \"care\"}], [{\"LOWER\": \"respite care\"}], [{\"LOWER\": \"gaunt\"}],\n",
        "                    [{\"LEMMA\": \"muscle\"}, {\"LEMMA\": \"waste\"}], [{\"LEMMA\": \"cachexia\"}],\n",
        "                    [{\"LEMMA\": \"muscle\"}, {\"LEMMA\": \"atrophy\"}], [{\"LEMMA\": \"loss\"}, {\"IS_ALPHA\": True, \"OP\": \"?\"}, {\"LEMMA\": \"function\"}],\n",
        "                    [{\"LEMMA\": \"difficult\"}, {\"IS_ALPHA\": True, \"OP\": \"?\"}, {\"LOWER\": \"adl\"}],\n",
        "                    [{\"LEMMA\": \"depend\"}, {\"IS_ALPHA\": True, \"OP\": \"?\"}, {\"LOWER\": \"care\"}],\n",
        "                    [{\"LEMMA\": \"fragile\"}], [{\"LOWER\": \"immobile\"}], [{\"LOWER\": \"anorexia\"}],\n",
        "                    [{\"LEMMA\": \"reduce\"}, {\"LEMMA\": \"strength\"}], [{\"LEMMA\": \"limit\"}, {\"LEMMA\": \"strength\"}], \n",
        "                    [{\"LEMMA\": \"quad\"}, {\"LEMMA\": \"waste\"}], [{\"LOWER\": \"low\"}, {\"LEMMA\": \"muscle\"}, {\"LOWER\": \"bulk\"}],\n",
        "                    [{\"LOWER\": \"loss\"}, {\"LOWER\": \"of\"}, {\"LEMMA\": \"quad\", \"OP\": \"?\"}, {\"LOWER\": \"bulk\"}],\n",
        "                    [{\"LOWER\": \"stuck\"}, {\"IS_ALPHA\": True, \"OP\": \"?\"}, {\"LOWER\": \"toilet\"}],\n",
        "                    [{\"LEMMA\": \"loss\"}, {\"IS_ALPHA\": True, \"OP\": \"?\"}, {\"LOWER\": \"power\"}],\n",
        "                    [{\"LOWER\": \"can't\"}, {\"LOWER\": \"stand\"}], [{\"LOWER\": \"cannot\"}, {\"LOWER\": \"stand\"}],\n",
        "                    [{\"LOWER\": \"unable\"}, {\"IS_ALPHA\": True, \"OP\": \"?\"}, {\"LOWER\": \"stand\"}],\n",
        "                    [{\"LOWER\": \"no\"}, {\"LEMMA\": \"rehab\"}, {\"LOWER\": \"potential\"}],\n",
        "                    [{\"LOWER\": \"limited\"}, {\"LEMMA\": \"rehab\"}, {\"LOWER\": \"potential\"}],\n",
        "                    [{\"LOWER\": \"mechanical fall\"}]\n",
        "]\n",
        "\n",
        "\n",
        "#Add patternS to matcher\n",
        "rb_matcher.add(\"WEAKNESS TERM\", weakness_pattern)\n"
      ]
    },
    {
      "cell_type": "code",
      "execution_count": 131,
      "metadata": {
        "colab": {
          "base_uri": "https://localhost:8080/"
        },
        "id": "djzjjMNyKsGd",
        "outputId": "80979d19-72a9-4889-fe55-4c73e12a2984"
      },
      "outputs": [
        {
          "output_type": "stream",
          "name": "stdout",
          "text": [
            "Match: WEAKNESS TERM - Poor mobility ( Location =  16 18 )\n",
            "Match: WEAKNESS TERM - falls ( Location =  27 28 )\n",
            "Match: WEAKNESS TERM - poor mobility ( Location =  45 47 )\n",
            "Match: WEAKNESS TERM - poor mobility ( Location =  252 254 )\n",
            "Match: WEAKNESS TERM - falls ( Location =  255 256 )\n",
            "Match: WEAKNESS TERM - fallen ( Location =  303 304 )\n",
            "Match: WEAKNESS TERM - lack of mobility ( Location =  311 314 )\n",
            "Match: WEAKNESS TERM - housebound ( Location =  321 322 )\n",
            "Match: WEAKNESS TERM - lacks strength ( Location =  363 365 )\n",
            "Match: WEAKNESS TERM - falling ( Location =  370 371 )\n",
            "Match: WEAKNESS TERM - fall ( Location =  398 399 )\n",
            "Match: WEAKNESS TERM - lack of strength ( Location =  1100 1103 )\n"
          ]
        }
      ],
      "source": [
        "#Apply rb_matcher to letter A\n",
        "\n",
        "rb_matchesA = rb_matcher(doc_A)\n",
        "\n",
        "for match_id, start, end in rb_matchesA: \n",
        "  span = doc_A[start:end]\n",
        "  match_id_string = nlp.vocab.strings[match_id]\n",
        "  print(\"Match:\",match_id_string, \"-\", span.text, \"( Location = \", start, end, \")\")"
      ]
    },
    {
      "cell_type": "code",
      "execution_count": 132,
      "metadata": {
        "colab": {
          "base_uri": "https://localhost:8080/"
        },
        "id": "i9kd9Qv-7WlT",
        "outputId": "6a6c128d-4632-46be-bdf8-08b027861bdb"
      },
      "outputs": [
        {
          "output_type": "stream",
          "name": "stdout",
          "text": [
            "Match: WEAKNESS TERM - falls ( Location =  180 181 )\n",
            "Match: WEAKNESS TERM - falls ( Location =  211 212 )\n",
            "Match: WEAKNESS TERM - fell ( Location =  233 234 )\n",
            "Match: WEAKNESS TERM - fell ( Location =  333 334 )\n",
            "Match: WEAKNESS TERM - falling ( Location =  596 597 )\n",
            "Match: WEAKNESS TERM - fell ( Location =  615 616 )\n",
            "Match: WEAKNESS TERM - falls ( Location =  676 677 )\n",
            "Match: WEAKNESS TERM - falls ( Location =  732 733 )\n"
          ]
        }
      ],
      "source": [
        "#Apply rb_matcher to letter B\n",
        "rb_matchesB = rb_matcher(doc_B)\n",
        "\n",
        "for match_id, start, end in rb_matchesB: \n",
        "  span = doc_B[start:end]\n",
        "  match_id_string = nlp.vocab.strings[match_id]\n",
        "  print(\"Match:\",match_id_string, \"-\", span.text, \"( Location = \", start, end, \")\")"
      ]
    },
    {
      "cell_type": "markdown",
      "metadata": {
        "id": "VFwaEAetl5hn"
      },
      "source": [
        "The rule-based matcher was successful in identifying more terms. \n",
        "\n"
      ]
    },
    {
      "cell_type": "markdown",
      "metadata": {
        "id": "hBBy8ArzM-tc"
      },
      "source": [
        "# Split \"WEAKNESS TERM\" into 2 lists: weakness vs. loss of muscle bulk"
      ]
    },
    {
      "cell_type": "code",
      "execution_count": 133,
      "metadata": {
        "id": "ymB04bAyNcYK"
      },
      "outputs": [],
      "source": [
        "#Re-define list of weakness paterns\n",
        "weakness_pattern = [\n",
        "                    [{\"LEMMA\": \"weak\"}], [{\"LOWER\": \"housebound\"}], [{\"LOWER\": \"bedbound\"}],\n",
        "                    [{\"LEMMA\": \"use\"}, {\"LOWER\": \"a\", \"OP\": \"?\"}, {\"LEMMA\": \"walk\", \"OP\": \"?\"}, {\"LOWER\": \"stick\"}],\n",
        "                    [{\"LEMMA\": \"use\"}, {\"LOWER\": \"a\", \"OP\": \"?\"}, {\"LEMMA\": \"walk\", \"OP\": \"?\"}, {\"LOWER\": \"zimmer\", \"OP\": \"?\"}, {\"LOWER\": \"frame\"}],\n",
        "                    [{\"LEMMA\": \"use\"}, {\"LOWER\": \"a\", \"OP\": \"?\"}, {\"LEMMA\": \"walk\"}, {\"LOWER\": \"aid\", \"OP\": \"?\"}],\n",
        "                    [{\"LOWER\": \"furniture\"}, {\"LEMMA\": \"walk\"}], [{\"LEMMA\": \"difficult\"}, {\"LEMMA\": \"walk\"}],\n",
        "                    [{\"LEMMA\": \"difficult\"}, {\"LEMMA\": \"mobilise\"}], [{\"LEMMA\": \"difficult\"}, {\"LEMMA\": \"stand\"}],\n",
        "                    [{\"LEMMA\": \"difficult\"}, {\"LOWER\": \"with\", \"OP\": \"?\"}, {\"LEMMA\": \"climb\", \"OP\": \"?\"}, {\"LEMMA\": \"stair\"}],\n",
        "                    [{\"LOWER\": \"cannot\"}, {\"LEMMA\": \"climb\", \"OP\": \"?\"}, {\"LEMMA\": \"stair\"}],\n",
        "                    [{\"LOWER\": \"can't\"}, {\"LEMMA\": \"climb\", \"OP\": \"?\"}, {\"LEMMA\": \"stair\"}],\n",
        "                    [{\"LEMMA\": \"hoist\"}, {\"LEMMA\": \"transfer\"}], [{\"LEMMA\": \"slow\"}, {\"LOWER\": \"up\"}],\n",
        "                    [{\"LEMMA\": \"limit\"}, {\"LOWER\": \"mobility\"}],  [{\"LOWER\": \"poor\"}, {\"LOWER\": \"mobility\"}],\n",
        "                    [{\"LEMMA\": \"need\"}, {\"LEMMA\": \"assist\"}], [{\"LEMMA\": \"require\"}, {\"LEMMA\": \"assist\"}],\n",
        "                    [{\"LEMMA\": \"difficult\"}, {\"LEMMA\": \"carry\"}], [{\"LOWER\": \"found\"}, {\"LOWER\": \"on\"}, {\"LOWER\": \"floor\"}],\n",
        "                    [{\"LOWER\": \"long\"}, {\"LOWER\": \"lie\"}], [{\"LEMMA\": \"lack\"}, {\"LOWER\": \"of\", \"OP\": \"?\"}, {\"LOWER\": \"mobility\"}],\n",
        "                    [{\"LEMMA\": \"lack\"}, {\"LOWER\": \"of\", \"OP\": \"?\"}, {\"LEMMA\": \"strength\"}],\n",
        "                    [{\"LEMMA\": \"mob\"}, {\"LOWER\": \"with\", \"OP\": \"?\"}, {\"LOWER\": \"AO2\"}],\n",
        "                    [{\"LEMMA\": \"mob\"}, {\"LOWER\": \"with\", \"OP\": \"?\"}, {\"LOWER\": \"AO1\"}],\n",
        "                    [{\"LEMMA\": \"transfer\"}, {\"LOWER\": \"with\", \"OP\": \"?\"}, {\"LOWER\": \"AO2\"}],\n",
        "                    [{\"LEMMA\": \"transfer\"}, {\"LOWER\": \"with\", \"OP\": \"?\"}, {\"LOWER\": \"AO1\"}],\n",
        "                    [{\"LOWER\": \"sara stedy\"}], [{\"LOWER\": \"sara-stedy\"}], [{\"LOWER\": \"rotastand\"}],\n",
        "                    [{\"LOWER\": \"wzf\"}], [{\"LOWER\": \"zf\"}], [{\"LOWER\": \"4ww\"}], [{\"LOWER\": \"3ww\"}],\n",
        "                    [{\"LOWER\": \"delta-frame\"}], [{\"LOWER\": \"delta frame\"}], [{\"LOWER\": \"poc\"}], \n",
        "                    [{\"LEMMA\": \"pack\"}, {\"LOWER\": \"of\", \"OP\": \"?\"}, {\"LEMMA\": \"care\"}],\n",
        "                    [{\"LEMMA\": \"raise\"}, {\"LOWER\": \"toilet\", \"OP\": \"?\"}, {\"LOWER\": \"seat\"}],\n",
        "                    [{\"LOWER\": \"bed\"}, {\"LOWER\": \"lever\"}], [{\"LOWER\": \"skandia\"}], [{\"LOWER\": \"mowbray\"}],\n",
        "                    [{\"LOWER\": \"free standing toilet frame\"}], [{\"LOWER\": \"etwell trolley\"}], \n",
        "                    [{\"LOWER\": \"kitchen trolley\"}], [{\"LOWER\": \"riser recliner\"}], [{\"LOWER\": \"raised chair\"}],\n",
        "                    [{\"LOWER\": \"mobile\", \"OP\": \"?\"}, {\"LOWER\": \"commode\"}], [{\"LOWER\": \"stairlift\"}], \n",
        "                    [{\"LOWER\": \"stair assessment\"}], [{\"LOWER\": \"off legs\"}], [{\"LOWER\": \"flof\"}],\n",
        "                    [{\"LOWER\": \"cca alarm\"}], [{\"LOWER\": \"pendant alarm\"}], \n",
        "                    [{\"LEMMA\": \"fracture\"}, {\"LOWER\": \"pubic\", \"OP\": \"?\"}, {\"LEMMA\": \"ramus\"}],\n",
        "                    [{\"TEXT\": \"#\"}, {\"LOWER\": \"pubic\", \"OP\": \"?\"}, {\"LEMMA\": \"ramus\"}],\n",
        "                    [{\"TEXT\": \"#NOF\"}], [{\"TEXT\": \"#\"}, {\"LOWER\": \"nof\"}],\n",
        "                    [{\"TEXT\": \"#\"}, {\"LOWER\": \"neck of femur\"}], [{\"LEMMA\": \"fracture\"}, {\"LOWER\": \"nof\"}],\n",
        "                    [{\"LEMMA\": \"fracture\"}, {\"LOWER\": \"nof\"}], [{\"LEMMA\": \"fracture\"}, {\"LOWER\": \"neck of femur\"}],\n",
        "                    [{\"LEMMA\": \"struggle\"}, {\"IS_ALPHA\": True, \"OP\": \"?\"}, {\"LEMMA\": \"stair\"}],\n",
        "                    [{\"LEMMA\": \"deteriorate\"}, {\"LEMMA\": \"mobile\"}], [{\"LEMMA\": \"frail\"}],\n",
        "                    [{\"LEMMA\": \"downstair\"}, {\"LEMMA\": \"living\"}], [{\"LOWER\": \"cga\"}],\n",
        "                    [{\"LOWER\": \"comprehensive geriatric assessment\"}], [{\"LOWER\": \"chairbound\"}],\n",
        "                    [{\"LEMMA\": \"decondition\"}], [{\"LEMMA\": \"mobile\"}, {\"LEMMA\": \"decline\"}],\n",
        "                    [{\"LOWER\": \"has\"}, {\"LEMMA\": \"care\"}], [{\"LOWER\": \"respite care\"}],  \n",
        "                    [{\"LEMMA\": \"loss\"}, {\"IS_ALPHA\": True, \"OP\": \"?\"}, {\"LEMMA\": \"function\"}],\n",
        "                    [{\"LEMMA\": \"difficult\"}, {\"IS_ALPHA\": True, \"OP\": \"?\"}, {\"LOWER\": \"adl\"}],\n",
        "                    [{\"LEMMA\": \"depend\"}, {\"IS_ALPHA\": True, \"OP\": \"?\"}, {\"LOWER\": \"care\"}],\n",
        "                    [{\"LEMMA\": \"fragile\"}], [{\"LOWER\": \"immobile\"}], \n",
        "                    [{\"LEMMA\": \"reduce\"}, {\"LEMMA\": \"strength\"}], [{\"LEMMA\": \"limit\"}, {\"LEMMA\": \"strength\"}], \n",
        "                    [{\"LOWER\": \"stuck\"}, {\"IS_ALPHA\": True, \"OP\": \"?\"}, {\"LOWER\": \"toilet\"}],\n",
        "                    [{\"LEMMA\": \"loss\"}, {\"IS_ALPHA\": True, \"OP\": \"?\"}, {\"LOWER\": \"power\"}],\n",
        "                    [{\"LOWER\": \"can't\"}, {\"LOWER\": \"stand\"}], [{\"LOWER\": \"cannot\"}, {\"LOWER\": \"stand\"}],\n",
        "                    [{\"LOWER\": \"unable\"}, {\"IS_ALPHA\": True, \"OP\": \"?\"}, {\"LOWER\": \"stand\"}],\n",
        "                    [{\"LOWER\": \"no\"}, {\"LEMMA\": \"rehab\"}, {\"LOWER\": \"potential\"}],\n",
        "                    [{\"LOWER\": \"limited\"}, {\"LEMMA\": \"rehab\"}, {\"LOWER\": \"potential\"}],\n",
        "                    [{\"LOWER\": \"mechanical fall\"}]\n",
        "]\n",
        "\n",
        "#Define list for loss of muscle bulk\n",
        "muscle_loss_list = [\n",
        "                    [{\"LOWER\": \"gaunt\"}],\n",
        "                    [{\"LEMMA\": \"muscle\"}, {\"LEMMA\": \"waste\"}], [{\"LEMMA\": \"cachexia\"}],\n",
        "                    [{\"LEMMA\": \"muscle\"}, {\"LEMMA\": \"atrophy\"}], [{\"LOWER\": \"anorexia\"}],\n",
        "                    [{\"LEMMA\": \"quad\"}, {\"LEMMA\": \"waste\"}], [{\"LOWER\": \"low\"}, {\"LEMMA\": \"muscle\"}, {\"LOWER\": \"bulk\"}],\n",
        "                    [{\"LOWER\": \"loss\"}, {\"LOWER\": \"of\"}, {\"LEMMA\": \"quad\", \"OP\": \"?\"}, {\"LOWER\": \"bulk\"}]\n",
        "]\n",
        "\n",
        "#Add patternS to matcher\n",
        "rb_matcher.add(\"WEAKNESS TERM\", weakness_pattern)\n",
        "rb_matcher.add(\"MUSCLE BULK LOSS\", muscle_loss_list)\n"
      ]
    },
    {
      "cell_type": "markdown",
      "metadata": {
        "id": "4OC9eErq1TEi"
      },
      "source": [
        "# Entity-ruler for visualization"
      ]
    },
    {
      "cell_type": "code",
      "execution_count": 134,
      "metadata": {
        "id": "uwUMngY-jHJG"
      },
      "outputs": [],
      "source": [
        "#Initialize NER ruler\n",
        "\n",
        "ruler = nlp.add_pipe(\"entity_ruler\", after = \"lemmatizer\")"
      ]
    },
    {
      "cell_type": "code",
      "execution_count": 135,
      "metadata": {
        "id": "MsQhdSf1Mibd"
      },
      "outputs": [],
      "source": [
        "#Add weakness patterns to NER ruler\n",
        "for item in weakness_pattern:\n",
        "  ruler.add_patterns([{\"label\": \"WEAKNESS TERM\", \"pattern\": item}])\n",
        "\n",
        "#Add muscle bulk liss patterns to the NER ruler\n",
        "for item in muscle_loss_list:\n",
        "  ruler.add_patterns([{\"label\": \"MUSCLE BULK LOSS\", \"pattern\": item}])\n",
        "\n",
        "#Add sarcopenia diagnosis to NER ruler\n",
        "for item in sarcopenia_diagnosis:\n",
        "  ruler.add_patterns([{\"label\": \"SARCOPENIA\", \"pattern\": item}])\n",
        "\n",
        "#Add SARC-F to NER ruler\n",
        "for item in sarcf_list:\n",
        "  ruler.add_patterns([{\"label\": \"SARC-F\", \"pattern\": item}])\n"
      ]
    },
    {
      "cell_type": "code",
      "execution_count": 136,
      "metadata": {
        "id": "fFJMse4mS5SF"
      },
      "outputs": [],
      "source": [
        "#Apply nlp pipeline to letter A\n",
        "doc_A = nlp(letter_A)"
      ]
    },
    {
      "cell_type": "code",
      "execution_count": 137,
      "metadata": {
        "colab": {
          "base_uri": "https://localhost:8080/",
          "height": 1000
        },
        "id": "1q4mN3cNjXb3",
        "outputId": "e2bdb1ca-0aed-47d7-b75b-4ddb8a443951"
      },
      "outputs": [
        {
          "output_type": "display_data",
          "data": {
            "text/plain": [
              "<IPython.core.display.HTML object>"
            ],
            "text/html": [
              "<span class=\"tex2jax_ignore\"><div class=\"entities\" style=\"line-height: 2.5; direction: ltr\">Mr A Smith</br></br>567 Ghengis Khan Drive, Newcastle NE4 5XX</br></br></br></br>Diagnoses:</br></br>\n",
              "<mark class=\"entity\" style=\"background: linear-gradient(90deg, #ffff66, #ff6600); padding: 0.45em 0.6em; margin: 0 0.25em; line-height: 1; border-radius: 0.35em;\">\n",
              "    Poor mobility\n",
              "    <span style=\"font-size: 0.8em; font-weight: bold; line-height: 1; border-radius: 0.35em; vertical-align: middle; margin-left: 0.5rem\">WEAKNESS TERM</span>\n",
              "</mark>\n",
              " due to chronic pain, low confidence and previous falls </br></br>Weight loss, anaemia and raised inflammatory markers of unknown aetiology </br></br>Low mood secondary to \n",
              "<mark class=\"entity\" style=\"background: linear-gradient(90deg, #ffff66, #ff6600); padding: 0.45em 0.6em; margin: 0 0.25em; line-height: 1; border-radius: 0.35em;\">\n",
              "    poor mobility\n",
              "    <span style=\"font-size: 0.8em; font-weight: bold; line-height: 1; border-radius: 0.35em; vertical-align: middle; margin-left: 0.5rem\">WEAKNESS TERM</span>\n",
              "</mark>\n",
              " </br></br>Breathlessness and elevated BNP awaiting echo </br></br>Chronic back pain with degenerative changes on MRI </br></br>Urinary frequency and incontinence </br></br></br></br>Other diagnoses:</br></br>Complex partial epileptic seizures</br></br>Hypertension </br></br>Osteoarthritis with bilateral total hip replacements</br></br>Atrial fibrillation </br></br>Asthma </br></br>Patent foramen ovale </br></br>Previous cerebellar stroke </br></br></br></br>Medications:</br></br>Atorvastatin</br></br>Docusate</br></br>Ferrous fumarate</br></br>Vitamin-D3</br></br>Furosemide</br></br>Gaviscon</br></br>Flutiform inhaler</br></br>Salbutamol inhaler</br></br>Lansoprazole</br></br>Losartan </br></br>Paracetamol </br></br>Phenytoin</br></br>Tegretol slow release</br></br>Codeine</br></br>Warfarin</br></br></br></br>Suggested changes to medication </br></br>Reduce codeine 15 mg dose but try and use regularly 2-3 times per day </br></br></br></br>Follow up arrangements</br></br> I will organise ultrasound of the abdomen and physiotherapy at the Belsay Clinic; I will be in touch by telephone with Mr Smith when the results of his bloods and ultrasound come through. I also note an echo has already been arranged. </br></br></br></br>For Primary care </br></br>Medication change as above </br></br></br></br>Thank you for referring Mr Smith who attended for a face-to-face assessment at the Belsay Clinic accompanied by his niece today. He gives a history of \n",
              "<mark class=\"entity\" style=\"background: linear-gradient(90deg, #ffff66, #ff6600); padding: 0.45em 0.6em; margin: 0 0.25em; line-height: 1; border-radius: 0.35em;\">\n",
              "    poor mobility\n",
              "    <span style=\"font-size: 0.8em; font-weight: bold; line-height: 1; border-radius: 0.35em; vertical-align: middle; margin-left: 0.5rem\">WEAKNESS TERM</span>\n",
              "</mark>\n",
              " and falls; both these problems are longstanding and indeed he was assessed at the Belsay clinic by my colleague Dr Boyle back in 2019 and had a course of physiotherapy at the time. More recently he has lost confidence, his balance is worse and he has fallen more. He is clear that the \n",
              "<mark class=\"entity\" style=\"background: linear-gradient(90deg, #ffff66, #ff6600); padding: 0.45em 0.6em; margin: 0 0.25em; line-height: 1; border-radius: 0.35em;\">\n",
              "    lack of mobility\n",
              "    <span style=\"font-size: 0.8em; font-weight: bold; line-height: 1; border-radius: 0.35em; vertical-align: middle; margin-left: 0.5rem\">WEAKNESS TERM</span>\n",
              "</mark>\n",
              " is his greatest frustration; he is \n",
              "<mark class=\"entity\" style=\"background: linear-gradient(90deg, #ffff66, #ff6600); padding: 0.45em 0.6em; margin: 0 0.25em; line-height: 1; border-radius: 0.35em;\">\n",
              "    housebound\n",
              "    <span style=\"font-size: 0.8em; font-weight: bold; line-height: 1; border-radius: 0.35em; vertical-align: middle; margin-left: 0.5rem\">WEAKNESS TERM</span>\n",
              "</mark>\n",
              " unless he can be accompanied out of the house by his niece and even then he gets out only in a wheelchair. He thinks that a combination of things are stopping him being more mobile: he feels that he \n",
              "<mark class=\"entity\" style=\"background: linear-gradient(90deg, #ffff66, #ff6600); padding: 0.45em 0.6em; margin: 0 0.25em; line-height: 1; border-radius: 0.35em;\">\n",
              "    lacks strength\n",
              "    <span style=\"font-size: 0.8em; font-weight: bold; line-height: 1; border-radius: 0.35em; vertical-align: middle; margin-left: 0.5rem\">WEAKNESS TERM</span>\n",
              "</mark>\n",
              ", has a fear of falling and also has pain in the front and back of his legs. This is worse at night and keeps him awake at times. His last fall was two months ago. He notes feeling unsteady on standing but on close questioning this sensation did not appear to be consistent with vertigo. </br></br>He also complains of pain across her shoulders starting in the right arm and going across the shoulders to the left arm. This has been present for about six months and is not related to exertion. It is no worse in the morning and he does not feel particularly stiff. He also describes stabbing pain over his right eye that then migrates over the top of his head. This does not seem to be related to stressful events. He has lost a considerable amount of weight - 8kg from March to August this year, and another five kg since as his weight in clinic today was 71.5 kg. His appetite is not as good as it usually is but he denies nausea or vomiting; he avoids constipation by taking laxatives. He does not complain of toothache, does not choke on food or drink and says that he eats reasonably well. He has seen a dietitian. He complains of occasional breathlessness and cough at night and brings up a small quantity of phlegm but this is little changed. He has not noticed any blood in his stools. He complains of a rash on his legs, more on the right than the left, and that her legs are often cool. He notes that this rash has been present for at least 10 years and I also note recent vascular duplex studies that suggest good arterial flow in the legs. He has urinary frequency and is often not aware of when he needs to go to the loo; he also complains of a few minutes of crampy lower abdominal pain after micturition. Perhaps unsurprisingly he is somewhat low in mood but still enjoys going out and seeing people. He denies suicidal ideation or early morning waking. He admits that he tends to live in the past more nowadays. He does not complain of any subjective memory problems. </br></br>On examination, he was alert and engaged well with the consultation. There was no jaundice, anaemia, cyanosis, clubbing or lymphadenopathy. There was a confluent discolouration on both lower legs which was cool to the touch, not raised or tender and was not blanching. Similar changes were seen above the knees but looked more petechial in nature. Heart sounds were normal, JVP was not raised and the chest was clear. Abdominal examination revealed a 2cm liver edge but no ascites or masses. There was an old scar noted on his left upper arm where a basal cell carcinoma has been removed previously. He was mildly tender across the shoulders and in the thoracic paraspinal muscles; tenderness was not confined to the spine. He was able to raise her arms above her head. Neurological examination revealed normal tone, power and coordination. Cranial nerve examination was normal with no nystagmus. He was able to rise unaided from a chair quite quickly but was very reluctant to take a step forward. However he could walk a few paces with support from one person albeit unsteadily. There was no bradykinesia or tremor noted. </br></br>His SarcScreen revealed a \n",
              "<mark class=\"entity\" style=\"background: linear-gradient(180deg, #66ffcc, #abf763); padding: 0.45em 0.6em; margin: 0 0.25em; line-height: 1; border-radius: 0.35em;\">\n",
              "    SARC-F\n",
              "    <span style=\"font-size: 0.8em; font-weight: bold; line-height: 1; border-radius: 0.35em; vertical-align: middle; margin-left: 0.5rem\">SARC-F</span>\n",
              "</mark>\n",
              " score of 10/10, and Fried frailty score of 2/5 denoting prefrailty. He was unable to attempt the 3m walk but his maximum grip strength was 22 kg. GDS was 10/15 and MMSE was 28/30. An active stand showed a blood pressure of 141/85 with no significant drop although he was unsteady on standing. His 12 lead electrocardiogram showed atrial fibrillation at 80 per minute with nil else of note. </br></br>There are clearly a complex set of interlocking problems here. He is rather stronger than he thinks he is on although his balance is poor, I think it is a lack of confidence rather than a \n",
              "<mark class=\"entity\" style=\"background: linear-gradient(90deg, #ffff66, #ff6600); padding: 0.45em 0.6em; margin: 0 0.25em; line-height: 1; border-radius: 0.35em;\">\n",
              "    lack of strength\n",
              "    <span style=\"font-size: 0.8em; font-weight: bold; line-height: 1; border-radius: 0.35em; vertical-align: middle; margin-left: 0.5rem\">WEAKNESS TERM</span>\n",
              "</mark>\n",
              " that is preventing him from mobilising more. He accepts this and is happy for us to refer to physiotherapy for strength and balance training which I think will help build his confidence. His mood is low but not sufficiently low to denote depression and I think if we can improve his mobility, his mood will improve. Some of his chronic back pain is undoubtedly due to the degenerative changes seen on MRI and I understand that surgery is not going to be an option for this. I would be reluctant to change her painkillers much at the moment though given that he is already on antiepileptic medications and so adding in other agents for chronic pain may not help much but might interact with these medications. </br></br>We discussed the fine balance between benefits and side effects of all of these medications today. What would perhaps be helpful though is to reduce the codeine to 15 mg so that he can try and take this more regularly; he finds that the 30 mg dose makes him feel very unsteady on her feet. Having said all of this, it is clear that the blood tests suggest some issues that require further investigation. His breathlessness on exertion and raised BNP suggest that investigation for LV systolic dysfunction causing heart failure would be beneficial and I note that he has already had an echo requested. His weight loss is quite dramatic and this, together with the admittedly longstanding rash on his legs, anaemia, raised ESR and high platelet counts suggest that there is an inflammatory disorder present. Whether this is autoimmune or due to another aetiology is unclear. I have requested bloods today including repeat U&amp;Es, liver function tests, calcium, myeloma screen, CRP and ESR, autoimmune screen, creatine kinase and iron studies. I have also requested an ultrasound of the abdomen to investigate the liver edge that I could feel; I note that a recent chest x-ray showed normal heart size and clear lung fields. Despite the possible finding of horizontal nystagmus by Community Nursing colleagues I could not find any evidence of this today and I don’t think we need to progress to brain scanning at present. </br></br>Once we have got the blood and ultrasound results, I will phone Mr Smith again and discuss the best way forward. It may be that if we do not find another cause for his inflammatory condition, a trial of steroids might be warranted as some of the features including the shoulder discomfort could be consistent with polymyalgia rheumatica. I have explained this today but also explained that I think we need to investigate further before diving in with treatment in case this is not the diagnosis. </br></br>Yours sincerely</br></br>Professor Miles Witham</br></br>Consultant Geriatrician</div></span>"
            ]
          },
          "metadata": {}
        }
      ],
      "source": [
        "#Visualise weakness entities in Letter A\n",
        "#Gradient colors from css-gradient.com\n",
        "\n",
        "def get_entity_options():\n",
        "  entities = [\"WEAKNESS TERM\", \"MUSCLE BULK LOSS\", \"SARCOPENIA\", \"SARC-F\"]\n",
        "  colors = {\"WEAKNESS TERM\": 'linear-gradient(90deg, #ffff66, #ff6600)', \"SARCOPENIA\": 'linear-gradient(90deg, #aa9cfc, #fc9ce7)',\n",
        "            \"SARC-F\": 'linear-gradient(180deg, #66ffcc, #abf763)'}\n",
        "  options = {\"ents\": entities, \"colors\": colors}\n",
        "  return options\n",
        "options = get_entity_options()\n",
        "\n",
        "displacy.render(doc_A, style = 'ent', options=options, jupyter = True)"
      ]
    },
    {
      "cell_type": "code",
      "execution_count": 138,
      "metadata": {
        "id": "cQs4Ewrjsj6M"
      },
      "outputs": [],
      "source": [
        "#Apply nlp pipeline to letter B\n",
        "doc_B = nlp(letter_B)"
      ]
    },
    {
      "cell_type": "code",
      "execution_count": 139,
      "metadata": {
        "colab": {
          "base_uri": "https://localhost:8080/",
          "height": 1000
        },
        "id": "Dx9i9qXHrLIc",
        "outputId": "b9727ee1-bc04-49de-e06f-5ce693eaccb0"
      },
      "outputs": [
        {
          "output_type": "display_data",
          "data": {
            "text/plain": [
              "<IPython.core.display.HTML object>"
            ],
            "text/html": [
              "<span class=\"tex2jax_ignore\"><div class=\"entities\" style=\"line-height: 2.5; direction: ltr\">Mrs B Smith</br></br>Flat 1, Farringdon Road, Newcastle NE2 5DH</br></br>Date of Birth: 01/01/1932</br></br></br></br></br></br>Diagnoses: </br></br>Falls due to gait and balance disorder </br></br>Hyperthyroidism due to thyroxine over-replacement</br></br>\n",
              "<mark class=\"entity\" style=\"background: linear-gradient(90deg, #aa9cfc, #fc9ce7); padding: 0.45em 0.6em; margin: 0 0.25em; line-height: 1; border-radius: 0.35em;\">\n",
              "    Sarcopenia\n",
              "    <span style=\"font-size: 0.8em; font-weight: bold; line-height: 1; border-radius: 0.35em; vertical-align: middle; margin-left: 0.5rem\">SARCOPENIA</span>\n",
              "</mark>\n",
              " </br></br>Orthostatic hypotension </br></br></br></br>Existing diagnoses: </br></br>Hypertension </br></br>Hypothyroidism </br></br>Vitamin B12 deficiency </br></br>Previous fractured wrist</br></br>Visual impairment due to cataracts </br></br></br></br>Medications: </br></br>Alendronic acid </br></br>Calcium and vitamin-D </br></br>Bendroflumethiazide </br></br>Vitamin B12 </br></br>Simvastatin </br></br>Ramipril </br></br></br></br>Medication changes: </br></br>Please reduce thyroxine dose to 75mcg once daily</br></br></br></br>Follow up arrangements: </br></br>I will write back when I see the results of her 24 hour electrocardiogram</br></br></br></br>For Primary care </br></br>Could you please forward me a copy of the 24 hour blood pressure monitor that she says she had in your surgery recently? </br></br></br></br>I saw Mrs Smith for a face-to-face appointment at the Belsay Clinic today; she was accompanied by her son. She gives a history of two falls over the last few months and feels unsteady on her feet. She uses a walking frame at home and a stick when she is out. Neither of the falls were witnessed; her son reports that one occurred outside when she was pushing her walker up a ramp; she fell backwards and hit her head. The second occurred in the house but she does not remember any details; when she came round on the floor she managed to press the community alarm button. She denies any lightheadedness or vertigo, any palpitations or chest pain. Interestingly she had two syncopal episodes many years ago, both of which occurred when she was feeling warm and after eating a substantial meal. </br></br>She has lost a considerable amount of weight over the last year; in November 2020 her weight was 58 kilos, this fell to 55 kilos in June 2021 and her weight in clinic today was 51.4 kilos. Her appetite has been poor but she is now eating better and is due to see the dietitian next week. She does not report choking on food, has no problems chewing, no dysphagia and no nausea. She does not complain of abdominal pain or problems with her bowels. She has no urinary symptoms either. She reports her mood is not low although she gets occasionally frustrated with her inability to complete activities of daily living. I understand that she had a 24 hour blood pressure monitor at your surgery recently.</br></br>On examination there was no jaundice, anaemia, clubbing, cyanosis or lymphadenopathy. Thyroid examination was normal with no goitre palpable. The JVP was not raised, there was a trace of ankle oedema, heart sounds were normal and the chest was clear. Abdominal examination was unremarkable with no masses or organomegaly. Neurological examination revealed normal tone, power and coordination, no bradykinesia or tremor; cranial nerve examination including gaze was normal and there was no exophthalmos. </br></br>Her SarcScreen showed a \n",
              "<mark class=\"entity\" style=\"background: linear-gradient(180deg, #66ffcc, #abf763); padding: 0.45em 0.6em; margin: 0 0.25em; line-height: 1; border-radius: 0.35em;\">\n",
              "    Sarc-F\n",
              "    <span style=\"font-size: 0.8em; font-weight: bold; line-height: 1; border-radius: 0.35em; vertical-align: middle; margin-left: 0.5rem\">SARC-F</span>\n",
              "</mark>\n",
              " score of 7/10, and Fried frailty score of 2/5 denoting prefrailty. Weight was 51.4 kilos giving a BMI of 23.8. Grip strength was 13 kilos, walk speed 0.42 m/sec, and MMSE was 26/30. An active stand today showed a lying blood pressure of 204/71, falling to 117/46 when standing without any symptoms. This recovered rapidly within a minute to 174/64 and then fell again to 144/56 at 2 minutes. Twelve lead electrocardiogram showed sinus rhythm at 67 beats per minute with no abnormalities. Blood tests done in October show a haemoglobin of 121 with normal LFTs, and in November her TSH was &lt;0.05 with an elevated T4 of 29.3. eGFR was 44 which is stable. </br></br>Her falls are probably due to a combination of balance impairment and \n",
              "<mark class=\"entity\" style=\"background: linear-gradient(90deg, #aa9cfc, #fc9ce7); padding: 0.45em 0.6em; margin: 0 0.25em; line-height: 1; border-radius: 0.35em;\">\n",
              "    sarcopenia\n",
              "    <span style=\"font-size: 0.8em; font-weight: bold; line-height: 1; border-radius: 0.35em; vertical-align: middle; margin-left: 0.5rem\">SARCOPENIA</span>\n",
              "</mark>\n",
              "; she has already seen the domiciliary physiotherapy team and she has exercises to do to improve her strength and balance. These are the most effective intervention for this problem and I have encouraged her to keep going with these. Although her falls have not been witnessed, the one in the house has some features that suggest possible syncope and I think it would be sensible to get a 24 hour electrocardiogram; this has been fitted today. Although poor appetite may explain some of her weight loss, she is hyperthyroid suggesting that her thyroxine does is too high; this in turn may be contributing to both her \n",
              "<mark class=\"entity\" style=\"background: linear-gradient(90deg, #aa9cfc, #fc9ce7); padding: 0.45em 0.6em; margin: 0 0.25em; line-height: 1; border-radius: 0.35em;\">\n",
              "    sarcopenia\n",
              "    <span style=\"font-size: 0.8em; font-weight: bold; line-height: 1; border-radius: 0.35em; vertical-align: middle; margin-left: 0.5rem\">SARCOPENIA</span>\n",
              "</mark>\n",
              " and weight loss. Could I therefore ask you to reduce her thyroxine dose from 10mcg to 75mcg?</br></br>I will be in touch when I get the 24 hour electrocardiogram result back.</br></br></br></br>Yours sincerely,</br></br></br></br>Professor Miles Witham</br></br>Consultant Geriatrician</div></span>"
            ]
          },
          "metadata": {}
        }
      ],
      "source": [
        "#Visualise weakness entities in Letter B\n",
        "\n",
        "def get_entity_options():\n",
        "  entities = [\"WEAKNESS TERM\", \"SARCOPENIA\", \"SARC-F\"]\n",
        "  colors = {\"WEAKNESS TERM\": 'linear-gradient(90deg, #ffff66, #ff6600)', \"MUSCLE BULK LOSS\": 'linear-gradient(90deg, #e28ac8, #c889dd)', \"SARCOPENIA\": 'linear-gradient(90deg, #aa9cfc, #fc9ce7)',\n",
        "            \"SARC-F\": 'linear-gradient(180deg, #66ffcc, #abf763)'}\n",
        "  options = {\"ents\": entities, \"colors\": colors}\n",
        "  return options\n",
        "options = get_entity_options()\n",
        "\n",
        "displacy.render(doc_B, style = 'ent', options=options, jupyter = True)"
      ]
    },
    {
      "cell_type": "markdown",
      "metadata": {
        "id": "umhcOmyAwY4q"
      },
      "source": [
        "# Negation detection"
      ]
    },
    {
      "cell_type": "code",
      "execution_count": 140,
      "metadata": {
        "colab": {
          "base_uri": "https://localhost:8080/"
        },
        "id": "X7TKsGDyxOZv",
        "outputId": "e9d1db00-3dba-43df-da92-dc0aed5a7f00"
      },
      "outputs": [
        {
          "output_type": "execute_result",
          "data": {
            "text/plain": [
              "<negspacy.negation.Negex at 0x7f9fa96459d0>"
            ]
          },
          "metadata": {},
          "execution_count": 140
        }
      ],
      "source": [
        "#Define termset as clinical\n",
        "ts = termset(\"en_clinical_sensitive\")\n",
        "\n",
        "#Add negex to nlp pipeline\n",
        "nlp.add_pipe(\"negex\", config={\n",
        "    \"ent_types\":[\"SARCOPENIA\", \"MUSCLE BULK LOSS\", \"WEAKNESS TERM\",\"SARC-F\"],\n",
        "    \"neg_termset\":ts.get_patterns()\n",
        "})"
      ]
    },
    {
      "cell_type": "code",
      "execution_count": 141,
      "metadata": {
        "colab": {
          "base_uri": "https://localhost:8080/"
        },
        "id": "uFjDHxQyyqFu",
        "outputId": "14674bfe-99fb-42ac-ca76-25df0ab5c1b3"
      },
      "outputs": [
        {
          "output_type": "stream",
          "name": "stdout",
          "text": [
            "{'pseudo_negations': ['not able to be', 'not certain if', 'not certain whether', 'not necessarily', 'without any further', 'without difficulty', 'without further', 'might not', 'not only', 'no increase', 'no significant change', 'no change', 'no definite change', 'not extend', 'not cause', 'gram negative', 'not rule out', 'not ruled out', 'not been ruled out', 'not drain', 'no suspicious change', 'no interval change', 'no significant interval change'], 'preceding_negations': ['monitor for', \"don't\", \"isn't\", 'rule out', 'no sign of', 'symptoms atypical', 'free of', 'not demonstrate', 'ruled patient out', 'test for', 'without sign of', 'arent', 'werent', 'without any reactions or signs of', 'never developed', 'did not exhibit', 'rule the patient out', 'rules out', 'doubt', \"couldn't\", 'absence of', 'negative for', 'without', 'not', 'rule patient out', \"can't\", 'if you get', 'no further', 'no evidence of', \"weren't\", 'couldnt', 'tested for', 'never', 'denies', 'r/o', 'without indication of', 'no signs of', \"didn't\", 'ro', 'monitored for', 'declined', 'ruled the patient out', 'never had', 'without signs of', 'denied', 'instead of', 'no', 'rule her out', 'dont', 'cant', 'rule him out', 'no complaints of', 'if you experience', \"wasn't\", 'ruled him out', 'isnt', 'ruled out', \"aren't\", 'which causes', 'didnt', 'no cause of', 'ruled her out', 'patient was not', 'denying', 'cannot', 'fails to reveal', \"doesn't\", 'wasnt', 'doesnt', 'evaluate for'], 'following_negations': ['declined', 'unlikely', 'was not', 'were not', \"wasn't\", 'wasnt', \"weren't\", 'werent', 'was ruled out', 'were ruled out', 'free'], 'termination': ['although', 'apart from', 'as there are', 'aside from', 'but', 'except', 'however', 'involving', 'nevertheless', 'still', 'though', 'which', 'yet', 'cause for', 'cause of', 'causes for', 'causes of', 'etiology for', 'etiology of', 'origin for', 'origin of', 'origins for', 'origins of', 'other possibilities of', 'reason for', 'reason of', 'reasons for', 'reasons of', 'secondary to', 'source for', 'source of', 'sources for', 'sources of', 'trigger event for']}\n"
          ]
        }
      ],
      "source": [
        "#View termset patterns in use\n",
        "print(ts.get_patterns())"
      ]
    },
    {
      "cell_type": "code",
      "execution_count": 142,
      "metadata": {
        "colab": {
          "base_uri": "https://localhost:8080/"
        },
        "id": "VIuar5Yfy1DJ",
        "outputId": "c3fd5de6-1e16-462e-a20c-9e19a25a7711"
      },
      "outputs": [
        {
          "output_type": "stream",
          "name": "stdout",
          "text": [
            "{'pseudo_negations': ['not able to be', 'not certain if', 'not certain whether', 'not necessarily', 'without any further', 'without difficulty', 'without further', 'might not', 'not only', 'no increase', 'no significant change', 'no change', 'no definite change', 'not extend', 'not cause', 'gram negative', 'not rule out', 'not ruled out', 'not been ruled out', 'not drain', 'no suspicious change', 'no interval change', 'no significant interval change'], 'preceding_negations': ['absence of', 'cant', 'monitor for', 'negative for', 'without', \"don't\", \"isn't\", 'not', 'rule him out', 'rule patient out', 'denies', 'rule out', 'no complaints of', 'r/o', 'no sign of', 'if you experience', 'without indication of', 'no signs of', \"didn't\", \"can't\", 'ro', 'monitored for', 'if you get', 'declined', 'symptoms atypical', 'free of', 'not demonstrate', 'ruled patient out', \"wasn't\", 'ruled him out', 'ruled the patient out', 'test for', 'no further', 'without sign of', 'isnt', 'ruled out', \"aren't\", 'arent', 'which causes', 'never had', 'didnt', 'no cause of', 'no evidence of', 'ruled her out', 'without signs of', \"weren't\", 'denied', 'instead of', 'werent', 'couldnt', 'patient was not', 'tested for', 'without any reactions or signs of', 'denying', 'cannot', 'never developed', 'no', 'did not exhibit', 'rule her out', 'fails to reveal', 'rule the patient out', \"doesn't\", 'dont', 'never', 'wasnt', 'rules out', 'doesnt', 'evaluate for', 'doubt', \"couldn't\"], 'following_negations': ['declined', 'unlikely', 'was not', 'were not', \"wasn't\", 'wasnt', \"weren't\", 'werent', 'was ruled out', 'were ruled out', 'free'], 'termination': ['although', 'apart from', 'as there are', 'aside from', 'but', 'except', 'however', 'involving', 'nevertheless', 'still', 'though', 'which', 'yet', 'cause for', 'cause of', 'causes for', 'causes of', 'etiology for', 'etiology of', 'origin for', 'origin of', 'origins for', 'origins of', 'other possibilities of', 'reason for', 'reason of', 'reasons for', 'reasons of', 'secondary to', 'source for', 'source of', 'sources for', 'sources of', 'trigger event for']}\n"
          ]
        }
      ],
      "source": [
        "#Negation termset needs some modification as it is not fully accurate\n",
        "ts.remove_patterns({\"pseudo_negations\": [\"no further\"]})\n",
        "ts.add_patterns({\"preceding_negations\": [\"no further\"]})\n",
        "ts.remove_patterns({\"preceding_negations\": [\"educating the patient\", \"concern for\", \"history of\", \"taught the patient\", \"teach the patient\", \"h/o\", \"teaching the patient\", \"educated the patient\", \"versus\", \"supposed\", \"leads to\", \"educate the patient\"]})\n",
        "\n",
        "#Check that termset has been modified\n",
        "print(ts.get_patterns())"
      ]
    },
    {
      "cell_type": "code",
      "execution_count": 143,
      "metadata": {
        "colab": {
          "base_uri": "https://localhost:8080/"
        },
        "id": "wAU8n3eBwwTw",
        "outputId": "3d8f82f5-9933-4a3b-cd84-ca397e6fb1b8"
      },
      "outputs": [
        {
          "output_type": "stream",
          "name": "stdout",
          "text": [
            "Poor mobility False\n",
            "poor mobility False\n",
            "poor mobility False\n",
            "lack of mobility False\n",
            "housebound False\n",
            "lacks strength False\n",
            "SARC-F False\n",
            "lack of strength False\n"
          ]
        }
      ],
      "source": [
        "# View any negations in letter A, True indicates a negation\n",
        "for e in doc_A.ents:\n",
        "  print(e.text, e._.negex)"
      ]
    },
    {
      "cell_type": "code",
      "execution_count": 144,
      "metadata": {
        "colab": {
          "base_uri": "https://localhost:8080/"
        },
        "id": "Ou8i6o201zFS",
        "outputId": "cebbab29-bc5a-4fbf-ce0b-19dd1ac2ffce"
      },
      "outputs": [
        {
          "output_type": "stream",
          "name": "stdout",
          "text": [
            "Sarcopenia False\n",
            "Sarc-F False\n",
            "sarcopenia False\n",
            "sarcopenia False\n"
          ]
        }
      ],
      "source": [
        "# View any negations in letter B, True indicates a negation\n",
        "for e in doc_B.ents:\n",
        "  print(e.text, e._.negex)"
      ]
    },
    {
      "cell_type": "markdown",
      "metadata": {
        "id": "tV0xOgw52DFs"
      },
      "source": [
        "As there are no negative entities available in letters A and B, I will create a modified letter with negations, called Letter nA. "
      ]
    },
    {
      "cell_type": "code",
      "execution_count": 145,
      "metadata": {
        "id": "lQfNlt_k2MoR"
      },
      "outputs": [],
      "source": [
        "#Create letter with some negative entities that have been added\n",
        "letter_nA = '''Diagnoses: Poor mobility due to chronic pain, low confidence and no previous falls. Does not have sarcopenia.\n",
        "The patient report no chronic pain,\n",
        "Weight loss, anaemia and raised inflammatory markers of unknown aetiology \n",
        "Low mood secondary to poor mobility \n",
        "Breathlessness and elevated BNP awaiting echo \n",
        "Chronic back pain with degenerative changes on MRI \n",
        "Urinary frequency and incontinence \n",
        "\n",
        "The patient shows no difficulty walking.\n",
        "\n",
        "The patient has low muscle bulk.\n",
        "\n",
        "Thank you for referring Mr Smith who attended for a face-to-face assessment at the Belsay Clinic accompanied by his niece today. He gives a history of poor mobility and falls; both these problems are longstanding and indeed he was assessed at the Belsay clinic by my colleague Dr Boyle back in 2019 and had a course of physiotherapy at the time. More recently he has lost confidence, his balance is worse and he has fallen more. He is clear that the lack of mobility is his greatest frustration; he is not housebound unless he can be accompanied out of the house by his niece and even then he gets out only in a wheelchair. He thinks that a combination of things are stopping him being more mobile: he feels that he lacks strength, has a fear of falling and also has pain in the front and back of his legs. This is worse at night and keeps him awake at times. His last fall was two months ago. He notes feeling unsteady on standing but on close questioning this sensation did not appear to be consistent with vertigo. \n",
        "He also complains of pain across her shoulders starting in the right arm and going across the shoulders to the left arm. This has been present for about six months and is not related to exertion. It is no worse in the morning and he does not feel particularly stiff. He also describes stabbing pain over his right eye that then migrates over the top of his head. This does not seem to be related to stressful events. He has lost a considerable amount of weight - 8kg from March to August this year, and another five kg since as his weight in clinic today was 71.5 kg. His appetite is not as good as it usually is but he denies nausea or vomiting; he avoids constipation by taking laxatives. He does not complain of toothache, does not choke on food or drink and says that he eats reasonably well. He has seen a dietitian. He complains of occasional breathlessness and cough at night and brings up a small quantity of phlegm but this is little changed. He has not noticed any blood in his stools. He complains of a rash on his legs, more on the right than the left, and that her legs are often cool. He notes that this rash has been present for at least 10 years and I also note recent vascular duplex studies that suggest good arterial flow in the legs. He has urinary frequency and is often not aware of when he needs to go to the loo; he also complains of a few minutes of crampy lower abdominal pain after micturition. Perhaps unsurprisingly he is somewhat low in mood but still enjoys going out and seeing people. He denies suicidal ideation or early morning waking. He admits that he tends to live in the past more nowadays. He does not complain of any subjective memory problems. \n",
        "On examination, he was alert and engaged well with the consultation. There was no jaundice, anaemia, cyanosis, clubbing or lymphadenopathy. There was a confluent discolouration on both lower legs which was cool to the touch, not raised or tender and was not blanching. Similar changes were seen above the knees but looked more petechial in nature. Heart sounds were normal, JVP was not raised and the chest was clear. Abdominal examination revealed a 2cm liver edge but no ascites or masses. There was an old scar noted on his left upper arm where a basal cell carcinoma has been removed previously. He was mildly tender across the shoulders and in the thoracic paraspinal muscles; tenderness was not confined to the spine. He was able to raise her arms above her head. Neurological examination revealed normal tone, power and coordination. Cranial nerve examination was normal with no nystagmus. He was able to rise unaided from a chair quite quickly but was very reluctant to take a step forward. However he could walk a few paces with support from one person albeit unsteadily. There was no bradykinesia or tremor noted. \n",
        "His SarcScreen revealed a SARC-F score of 10/10, and Fried frailty score of 2/5 denoting prefrailty. He was unable to attempt the 3m walk but his maximum grip strength was 22 kg. GDS was 10/15 and MMSE was 28/30. An active stand showed a blood pressure of 141/85 with no significant drop although he was unsteady on standing. His 12 lead electrocardiogram showed atrial fibrillation at 80 per minute with nil else of note. \n",
        "There are clearly a complex set of interlocking problems here. He is rather stronger than he thinks he is on although his balance is poor, I think it is a lack of confidence rather than a lack of strength that is preventing him from mobilising more. He accepts this and is happy for us to refer to physiotherapy for strength and balance training which I think will help build his confidence. His mood is low but not sufficiently low to denote depression and I think if we can improve his mobility, his mood will improve. Some of his chronic back pain is undoubtedly due to the degenerative changes seen on MRI and I understand that surgery is not going to be an option for this. I would be reluctant to change her painkillers much at the moment though given that he is already on antiepileptic medications and so adding in other agents for chronic pain may not help much but might interact with these medications. \n",
        "We discussed the fine balance between benefits and side effects of all of these medications today. What would perhaps be helpful though is to reduce the codeine to 15 mg so that he can try and take this more regularly; he finds that the 30 mg dose makes him feel very unsteady on her feet. Having said all of this, it is clear that the blood tests suggest some issues that require further investigation. His breathlessness on exertion and raised BNP suggest that investigation for LV systolic dysfunction causing heart failure would be beneficial and I note that he has already had an echo requested. His weight loss is quite dramatic and this, together with the admittedly longstanding rash on his legs, anaemia, raised ESR and high platelet counts suggest that there is an inflammatory disorder present. Whether this is autoimmune or due to another aetiology is unclear. I have requested bloods today including repeat U&Es, liver function tests, calcium, myeloma screen, CRP and ESR, autoimmune screen, creatine kinase and iron studies. I have also requested an ultrasound of the abdomen to investigate the liver edge that I could feel; I note that a recent chest x-ray showed normal heart size and clear lung fields. Despite the possible finding of horizontal nystagmus by Community Nursing colleagues I could not find any evidence of this today and I don’t think we need to progress to brain scanning at present. \n",
        "Once we have got the blood and ultrasound results, I will phone Mr Smith again and discuss the best way forward. It may be that if we do not find another cause for his inflammatory condition, a trial of steroids might be warranted as some of the features including the shoulder discomfort could be consistent with polymyalgia rheumatica. I have explained this today but also explained that I think we need to investigate further before diving in with treatment in case this is not the diagnosis. \"\n",
        "'''\n",
        "\n",
        "#apply nlp pipeline to letter_nA\n",
        "doc_nA = nlp(letter_nA)"
      ]
    },
    {
      "cell_type": "code",
      "execution_count": 146,
      "metadata": {
        "colab": {
          "base_uri": "https://localhost:8080/"
        },
        "id": "9SobhJOURAog",
        "outputId": "58153d39-a2f1-4c25-b9a2-f1d477b612c6"
      },
      "outputs": [
        {
          "output_type": "stream",
          "name": "stdout",
          "text": [
            "Diagnoses: Poor mobility due to chronic pain, low confidence and no previous falls. Does not have sarcopenia.\n",
            "The patient report no chronic pain,\n",
            "Weight loss, anaemia and raised inflammatory markers of unknown aetiology \n",
            "Low mood secondary to poor mobility \n",
            "Breathlessness and elevated BNP awaiting echo \n",
            "Chronic back pain with degenerative changes on MRI \n",
            "Urinary frequency and incontinence \n",
            "\n",
            "The patient shows no difficulty walking.\n",
            "\n",
            "The patient has low muscle bulk.\n",
            "\n",
            "Thank you for referring Mr Smith who attended for a face-to-face assessment at the Belsay Clinic accompanied by his niece today. He gives a history of poor mobility and falls; both these problems are longstanding and indeed he was assessed at the Belsay clinic by my colleague Dr Boyle back in 2019 and had a course of physiotherapy at the time. More recently he has lost confidence, his balance is worse and he has fallen more. He is clear that the lack of mobility is his greatest frustration; he is not housebound unless he can be accompanied out of the house by his niece and even then he gets out only in a wheelchair. He thinks that a combination of things are stopping him being more mobile: he feels that he lacks strength, has a fear of falling and also has pain in the front and back of his legs. This is worse at night and keeps him awake at times. His last fall was two months ago. He notes feeling unsteady on standing but on close questioning this sensation did not appear to be consistent with vertigo. \n",
            "He also complains of pain across her shoulders starting in the right arm and going across the shoulders to the left arm. This has been present for about six months and is not related to exertion. It is no worse in the morning and he does not feel particularly stiff. He also describes stabbing pain over his right eye that then migrates over the top of his head. This does not seem to be related to stressful events. He has lost a considerable amount of weight - 8kg from March to August this year, and another five kg since as his weight in clinic today was 71.5 kg. His appetite is not as good as it usually is but he denies nausea or vomiting; he avoids constipation by taking laxatives. He does not complain of toothache, does not choke on food or drink and says that he eats reasonably well. He has seen a dietitian. He complains of occasional breathlessness and cough at night and brings up a small quantity of phlegm but this is little changed. He has not noticed any blood in his stools. He complains of a rash on his legs, more on the right than the left, and that her legs are often cool. He notes that this rash has been present for at least 10 years and I also note recent vascular duplex studies that suggest good arterial flow in the legs. He has urinary frequency and is often not aware of when he needs to go to the loo; he also complains of a few minutes of crampy lower abdominal pain after micturition. Perhaps unsurprisingly he is somewhat low in mood but still enjoys going out and seeing people. He denies suicidal ideation or early morning waking. He admits that he tends to live in the past more nowadays. He does not complain of any subjective memory problems. \n",
            "On examination, he was alert and engaged well with the consultation. There was no jaundice, anaemia, cyanosis, clubbing or lymphadenopathy. There was a confluent discolouration on both lower legs which was cool to the touch, not raised or tender and was not blanching. Similar changes were seen above the knees but looked more petechial in nature. Heart sounds were normal, JVP was not raised and the chest was clear. Abdominal examination revealed a 2cm liver edge but no ascites or masses. There was an old scar noted on his left upper arm where a basal cell carcinoma has been removed previously. He was mildly tender across the shoulders and in the thoracic paraspinal muscles; tenderness was not confined to the spine. He was able to raise her arms above her head. Neurological examination revealed normal tone, power and coordination. Cranial nerve examination was normal with no nystagmus. He was able to rise unaided from a chair quite quickly but was very reluctant to take a step forward. However he could walk a few paces with support from one person albeit unsteadily. There was no bradykinesia or tremor noted. \n",
            "His SarcScreen revealed a SARC-F score of 10/10, and Fried frailty score of 2/5 denoting prefrailty. He was unable to attempt the 3m walk but his maximum grip strength was 22 kg. GDS was 10/15 and MMSE was 28/30. An active stand showed a blood pressure of 141/85 with no significant drop although he was unsteady on standing. His 12 lead electrocardiogram showed atrial fibrillation at 80 per minute with nil else of note. \n",
            "There are clearly a complex set of interlocking problems here. He is rather stronger than he thinks he is on although his balance is poor, I think it is a lack of confidence rather than a lack of strength that is preventing him from mobilising more. He accepts this and is happy for us to refer to physiotherapy for strength and balance training which I think will help build his confidence. His mood is low but not sufficiently low to denote depression and I think if we can improve his mobility, his mood will improve. Some of his chronic back pain is undoubtedly due to the degenerative changes seen on MRI and I understand that surgery is not going to be an option for this. I would be reluctant to change her painkillers much at the moment though given that he is already on antiepileptic medications and so adding in other agents for chronic pain may not help much but might interact with these medications. \n",
            "We discussed the fine balance between benefits and side effects of all of these medications today. What would perhaps be helpful though is to reduce the codeine to 15 mg so that he can try and take this more regularly; he finds that the 30 mg dose makes him feel very unsteady on her feet. Having said all of this, it is clear that the blood tests suggest some issues that require further investigation. His breathlessness on exertion and raised BNP suggest that investigation for LV systolic dysfunction causing heart failure would be beneficial and I note that he has already had an echo requested. His weight loss is quite dramatic and this, together with the admittedly longstanding rash on his legs, anaemia, raised ESR and high platelet counts suggest that there is an inflammatory disorder present. Whether this is autoimmune or due to another aetiology is unclear. I have requested bloods today including repeat U&Es, liver function tests, calcium, myeloma screen, CRP and ESR, autoimmune screen, creatine kinase and iron studies. I have also requested an ultrasound of the abdomen to investigate the liver edge that I could feel; I note that a recent chest x-ray showed normal heart size and clear lung fields. Despite the possible finding of horizontal nystagmus by Community Nursing colleagues I could not find any evidence of this today and I don’t think we need to progress to brain scanning at present. \n",
            "Once we have got the blood and ultrasound results, I will phone Mr Smith again and discuss the best way forward. It may be that if we do not find another cause for his inflammatory condition, a trial of steroids might be warranted as some of the features including the shoulder discomfort could be consistent with polymyalgia rheumatica. I have explained this today but also explained that I think we need to investigate further before diving in with treatment in case this is not the diagnosis. \"\n",
            "\n"
          ]
        }
      ],
      "source": [
        "print(doc_nA)"
      ]
    },
    {
      "cell_type": "code",
      "execution_count": 147,
      "metadata": {
        "colab": {
          "base_uri": "https://localhost:8080/",
          "height": 1000
        },
        "id": "rw-KrdxlUADr",
        "outputId": "633af76d-7cf1-4e27-f530-1b2cbb77e8c1"
      },
      "outputs": [
        {
          "output_type": "display_data",
          "data": {
            "text/plain": [
              "<IPython.core.display.HTML object>"
            ],
            "text/html": [
              "<span class=\"tex2jax_ignore\"><div class=\"entities\" style=\"line-height: 2.5; direction: ltr\">Diagnoses: \n",
              "<mark class=\"entity\" style=\"background: linear-gradient(90deg, #ffff66, #ff6600); padding: 0.45em 0.6em; margin: 0 0.25em; line-height: 1; border-radius: 0.35em;\">\n",
              "    Poor mobility\n",
              "    <span style=\"font-size: 0.8em; font-weight: bold; line-height: 1; border-radius: 0.35em; vertical-align: middle; margin-left: 0.5rem\">WEAKNESS TERM</span>\n",
              "</mark>\n",
              " due to chronic pain, low confidence and no previous falls. Does not have \n",
              "<mark class=\"entity\" style=\"background: linear-gradient(90deg, #aa9cfc, #fc9ce7); padding: 0.45em 0.6em; margin: 0 0.25em; line-height: 1; border-radius: 0.35em;\">\n",
              "    sarcopenia\n",
              "    <span style=\"font-size: 0.8em; font-weight: bold; line-height: 1; border-radius: 0.35em; vertical-align: middle; margin-left: 0.5rem\">SARCOPENIA</span>\n",
              "</mark>\n",
              ".</br>The patient report no chronic pain,</br>Weight loss, anaemia and raised inflammatory markers of unknown aetiology </br>Low mood secondary to \n",
              "<mark class=\"entity\" style=\"background: linear-gradient(90deg, #ffff66, #ff6600); padding: 0.45em 0.6em; margin: 0 0.25em; line-height: 1; border-radius: 0.35em;\">\n",
              "    poor mobility\n",
              "    <span style=\"font-size: 0.8em; font-weight: bold; line-height: 1; border-radius: 0.35em; vertical-align: middle; margin-left: 0.5rem\">WEAKNESS TERM</span>\n",
              "</mark>\n",
              " </br>Breathlessness and elevated BNP awaiting echo </br>Chronic back pain with degenerative changes on MRI </br>Urinary frequency and incontinence </br></br>The patient shows no difficulty walking.</br></br>The patient has \n",
              "<mark class=\"entity\" style=\"background: linear-gradient(90deg, #b6daf9, #95b5e2); padding: 0.45em 0.6em; margin: 0 0.25em; line-height: 1; border-radius: 0.35em;\">\n",
              "    low muscle bulk\n",
              "    <span style=\"font-size: 0.8em; font-weight: bold; line-height: 1; border-radius: 0.35em; vertical-align: middle; margin-left: 0.5rem\">MUSCLE BULK LOSS</span>\n",
              "</mark>\n",
              ".</br></br>Thank you for referring Mr Smith who attended for a face-to-face assessment at the Belsay Clinic accompanied by his niece today. He gives a history of \n",
              "<mark class=\"entity\" style=\"background: linear-gradient(90deg, #ffff66, #ff6600); padding: 0.45em 0.6em; margin: 0 0.25em; line-height: 1; border-radius: 0.35em;\">\n",
              "    poor mobility\n",
              "    <span style=\"font-size: 0.8em; font-weight: bold; line-height: 1; border-radius: 0.35em; vertical-align: middle; margin-left: 0.5rem\">WEAKNESS TERM</span>\n",
              "</mark>\n",
              " and falls; both these problems are longstanding and indeed he was assessed at the Belsay clinic by my colleague Dr Boyle back in 2019 and had a course of physiotherapy at the time. More recently he has lost confidence, his balance is worse and he has fallen more. He is clear that the \n",
              "<mark class=\"entity\" style=\"background: linear-gradient(90deg, #ffff66, #ff6600); padding: 0.45em 0.6em; margin: 0 0.25em; line-height: 1; border-radius: 0.35em;\">\n",
              "    lack of mobility\n",
              "    <span style=\"font-size: 0.8em; font-weight: bold; line-height: 1; border-radius: 0.35em; vertical-align: middle; margin-left: 0.5rem\">WEAKNESS TERM</span>\n",
              "</mark>\n",
              " is his greatest frustration; he is not \n",
              "<mark class=\"entity\" style=\"background: linear-gradient(90deg, #ffff66, #ff6600); padding: 0.45em 0.6em; margin: 0 0.25em; line-height: 1; border-radius: 0.35em;\">\n",
              "    housebound\n",
              "    <span style=\"font-size: 0.8em; font-weight: bold; line-height: 1; border-radius: 0.35em; vertical-align: middle; margin-left: 0.5rem\">WEAKNESS TERM</span>\n",
              "</mark>\n",
              " unless he can be accompanied out of the house by his niece and even then he gets out only in a wheelchair. He thinks that a combination of things are stopping him being more mobile: he feels that he \n",
              "<mark class=\"entity\" style=\"background: linear-gradient(90deg, #ffff66, #ff6600); padding: 0.45em 0.6em; margin: 0 0.25em; line-height: 1; border-radius: 0.35em;\">\n",
              "    lacks strength\n",
              "    <span style=\"font-size: 0.8em; font-weight: bold; line-height: 1; border-radius: 0.35em; vertical-align: middle; margin-left: 0.5rem\">WEAKNESS TERM</span>\n",
              "</mark>\n",
              ", has a fear of falling and also has pain in the front and back of his legs. This is worse at night and keeps him awake at times. His last fall was two months ago. He notes feeling unsteady on standing but on close questioning this sensation did not appear to be consistent with vertigo. </br>He also complains of pain across her shoulders starting in the right arm and going across the shoulders to the left arm. This has been present for about six months and is not related to exertion. It is no worse in the morning and he does not feel particularly stiff. He also describes stabbing pain over his right eye that then migrates over the top of his head. This does not seem to be related to stressful events. He has lost a considerable amount of weight - 8kg from March to August this year, and another five kg since as his weight in clinic today was 71.5 kg. His appetite is not as good as it usually is but he denies nausea or vomiting; he avoids constipation by taking laxatives. He does not complain of toothache, does not choke on food or drink and says that he eats reasonably well. He has seen a dietitian. He complains of occasional breathlessness and cough at night and brings up a small quantity of phlegm but this is little changed. He has not noticed any blood in his stools. He complains of a rash on his legs, more on the right than the left, and that her legs are often cool. He notes that this rash has been present for at least 10 years and I also note recent vascular duplex studies that suggest good arterial flow in the legs. He has urinary frequency and is often not aware of when he needs to go to the loo; he also complains of a few minutes of crampy lower abdominal pain after micturition. Perhaps unsurprisingly he is somewhat low in mood but still enjoys going out and seeing people. He denies suicidal ideation or early morning waking. He admits that he tends to live in the past more nowadays. He does not complain of any subjective memory problems. </br>On examination, he was alert and engaged well with the consultation. There was no jaundice, anaemia, cyanosis, clubbing or lymphadenopathy. There was a confluent discolouration on both lower legs which was cool to the touch, not raised or tender and was not blanching. Similar changes were seen above the knees but looked more petechial in nature. Heart sounds were normal, JVP was not raised and the chest was clear. Abdominal examination revealed a 2cm liver edge but no ascites or masses. There was an old scar noted on his left upper arm where a basal cell carcinoma has been removed previously. He was mildly tender across the shoulders and in the thoracic paraspinal muscles; tenderness was not confined to the spine. He was able to raise her arms above her head. Neurological examination revealed normal tone, power and coordination. Cranial nerve examination was normal with no nystagmus. He was able to rise unaided from a chair quite quickly but was very reluctant to take a step forward. However he could walk a few paces with support from one person albeit unsteadily. There was no bradykinesia or tremor noted. </br>His SarcScreen revealed a \n",
              "<mark class=\"entity\" style=\"background: linear-gradient(180deg, #66ffcc, #abf763); padding: 0.45em 0.6em; margin: 0 0.25em; line-height: 1; border-radius: 0.35em;\">\n",
              "    SARC-F\n",
              "    <span style=\"font-size: 0.8em; font-weight: bold; line-height: 1; border-radius: 0.35em; vertical-align: middle; margin-left: 0.5rem\">SARC-F</span>\n",
              "</mark>\n",
              " score of 10/10, and Fried frailty score of 2/5 denoting prefrailty. He was unable to attempt the 3m walk but his maximum grip strength was 22 kg. GDS was 10/15 and MMSE was 28/30. An active stand showed a blood pressure of 141/85 with no significant drop although he was unsteady on standing. His 12 lead electrocardiogram showed atrial fibrillation at 80 per minute with nil else of note. </br>There are clearly a complex set of interlocking problems here. He is rather stronger than he thinks he is on although his balance is poor, I think it is a lack of confidence rather than a \n",
              "<mark class=\"entity\" style=\"background: linear-gradient(90deg, #ffff66, #ff6600); padding: 0.45em 0.6em; margin: 0 0.25em; line-height: 1; border-radius: 0.35em;\">\n",
              "    lack of strength\n",
              "    <span style=\"font-size: 0.8em; font-weight: bold; line-height: 1; border-radius: 0.35em; vertical-align: middle; margin-left: 0.5rem\">WEAKNESS TERM</span>\n",
              "</mark>\n",
              " that is preventing him from mobilising more. He accepts this and is happy for us to refer to physiotherapy for strength and balance training which I think will help build his confidence. His mood is low but not sufficiently low to denote depression and I think if we can improve his mobility, his mood will improve. Some of his chronic back pain is undoubtedly due to the degenerative changes seen on MRI and I understand that surgery is not going to be an option for this. I would be reluctant to change her painkillers much at the moment though given that he is already on antiepileptic medications and so adding in other agents for chronic pain may not help much but might interact with these medications. </br>We discussed the fine balance between benefits and side effects of all of these medications today. What would perhaps be helpful though is to reduce the codeine to 15 mg so that he can try and take this more regularly; he finds that the 30 mg dose makes him feel very unsteady on her feet. Having said all of this, it is clear that the blood tests suggest some issues that require further investigation. His breathlessness on exertion and raised BNP suggest that investigation for LV systolic dysfunction causing heart failure would be beneficial and I note that he has already had an echo requested. His weight loss is quite dramatic and this, together with the admittedly longstanding rash on his legs, anaemia, raised ESR and high platelet counts suggest that there is an inflammatory disorder present. Whether this is autoimmune or due to another aetiology is unclear. I have requested bloods today including repeat U&amp;Es, liver function tests, calcium, myeloma screen, CRP and ESR, autoimmune screen, creatine kinase and iron studies. I have also requested an ultrasound of the abdomen to investigate the liver edge that I could feel; I note that a recent chest x-ray showed normal heart size and clear lung fields. Despite the possible finding of horizontal nystagmus by Community Nursing colleagues I could not find any evidence of this today and I don’t think we need to progress to brain scanning at present. </br>Once we have got the blood and ultrasound results, I will phone Mr Smith again and discuss the best way forward. It may be that if we do not find another cause for his inflammatory condition, a trial of steroids might be warranted as some of the features including the shoulder discomfort could be consistent with polymyalgia rheumatica. I have explained this today but also explained that I think we need to investigate further before diving in with treatment in case this is not the diagnosis. &quot;</br></div></span>"
            ]
          },
          "metadata": {}
        }
      ],
      "source": [
        "#Visualise weakness entities in doc_nA\n",
        "\n",
        "def get_entity_options():\n",
        "  entities = [\"WEAKNESS TERM\", \"MUSCLE BULK LOSS\", \"SARCOPENIA\", \"SARC-F\"]\n",
        "  colors = {\"WEAKNESS TERM\": 'linear-gradient(90deg, #ffff66, #ff6600)', \"MUSCLE BULK LOSS\": 'linear-gradient(90deg, #b6daf9, #95b5e2)', \"SARCOPENIA\": 'linear-gradient(90deg, #aa9cfc, #fc9ce7)',\n",
        "            \"SARC-F\": 'linear-gradient(180deg, #66ffcc, #abf763)'}\n",
        "  options = {\"ents\": entities, \"colors\": colors}\n",
        "  return options\n",
        "options = get_entity_options()\n",
        "\n",
        "displacy.render(doc_nA, style = 'ent', options=options, jupyter = True)"
      ]
    },
    {
      "cell_type": "code",
      "execution_count": 148,
      "metadata": {
        "colab": {
          "base_uri": "https://localhost:8080/"
        },
        "id": "fKDNpQWH21TB",
        "outputId": "6f6fa79a-228f-4ec9-a05f-f485e63474d0"
      },
      "outputs": [
        {
          "output_type": "stream",
          "name": "stdout",
          "text": [
            "Poor mobility False\n",
            "sarcopenia True\n",
            "poor mobility False\n",
            "low muscle bulk False\n",
            "poor mobility False\n",
            "lack of mobility False\n",
            "housebound True\n",
            "lacks strength False\n",
            "SARC-F False\n",
            "lack of strength False\n"
          ]
        }
      ],
      "source": [
        "# View any negations in letter_nA, True indicates a negation\n",
        "for e in doc_nA.ents:\n",
        "  print(e.text, e._.negex)"
      ]
    },
    {
      "cell_type": "markdown",
      "metadata": {
        "id": "kbPQjk4TSWg5"
      },
      "source": [
        "Now highlight negative entities"
      ]
    },
    {
      "cell_type": "code",
      "execution_count": 149,
      "metadata": {
        "id": "_hrjCWTmSZCR"
      },
      "outputs": [],
      "source": [
        "def add_neg_entities(doc):\n",
        "    new_ents = []\n",
        "    for ent in doc.ents:\n",
        "        # Only check for entity if negex is true\n",
        "        if ent._.negex:\n",
        "            #print(ent.label_)\n",
        "            #new_ent = Span(doc, ent.start, ent.end, label=ent.label, label_=\"NEG_ENTITY\")\n",
        "            ent.label_=\"NEG_ENTITY\"\n",
        "            \n",
        "        new_ents.append(ent)\n",
        "    \n",
        "    doc.ents = new_ents\n",
        "    return doc\n",
        "    \n",
        "doc_nAA = add_neg_entities(doc_nA)"
      ]
    },
    {
      "cell_type": "code",
      "execution_count": 150,
      "metadata": {
        "colab": {
          "base_uri": "https://localhost:8080/",
          "height": 1000
        },
        "id": "Xwm3nLgsTdf5",
        "outputId": "51489d24-68f4-4d94-9c25-d99f272d5f24"
      },
      "outputs": [
        {
          "output_type": "display_data",
          "data": {
            "text/plain": [
              "<IPython.core.display.HTML object>"
            ],
            "text/html": [
              "<span class=\"tex2jax_ignore\"><div class=\"entities\" style=\"line-height: 2.5; direction: ltr\">Diagnoses: \n",
              "<mark class=\"entity\" style=\"background: linear-gradient(90deg, #ffff66, #ff6600); padding: 0.45em 0.6em; margin: 0 0.25em; line-height: 1; border-radius: 0.35em;\">\n",
              "    Poor mobility\n",
              "    <span style=\"font-size: 0.8em; font-weight: bold; line-height: 1; border-radius: 0.35em; vertical-align: middle; margin-left: 0.5rem\">WEAKNESS TERM</span>\n",
              "</mark>\n",
              " due to chronic pain, low confidence and no previous falls. Does not have \n",
              "<mark class=\"entity\" style=\"background: linear-gradient(0deg, rgba(255,0,0,0), rgba(255,0,0,1)); padding: 0.45em 0.6em; margin: 0 0.25em; line-height: 1; border-radius: 0.35em;\">\n",
              "    sarcopenia\n",
              "    <span style=\"font-size: 0.8em; font-weight: bold; line-height: 1; border-radius: 0.35em; vertical-align: middle; margin-left: 0.5rem\">NEG_ENTITY</span>\n",
              "</mark>\n",
              ".</br>The patient report no chronic pain,</br>Weight loss, anaemia and raised inflammatory markers of unknown aetiology </br>Low mood secondary to \n",
              "<mark class=\"entity\" style=\"background: linear-gradient(90deg, #ffff66, #ff6600); padding: 0.45em 0.6em; margin: 0 0.25em; line-height: 1; border-radius: 0.35em;\">\n",
              "    poor mobility\n",
              "    <span style=\"font-size: 0.8em; font-weight: bold; line-height: 1; border-radius: 0.35em; vertical-align: middle; margin-left: 0.5rem\">WEAKNESS TERM</span>\n",
              "</mark>\n",
              " </br>Breathlessness and elevated BNP awaiting echo </br>Chronic back pain with degenerative changes on MRI </br>Urinary frequency and incontinence </br></br>The patient shows no difficulty walking.</br></br>The patient has low muscle bulk.</br></br>Thank you for referring Mr Smith who attended for a face-to-face assessment at the Belsay Clinic accompanied by his niece today. He gives a history of \n",
              "<mark class=\"entity\" style=\"background: linear-gradient(90deg, #ffff66, #ff6600); padding: 0.45em 0.6em; margin: 0 0.25em; line-height: 1; border-radius: 0.35em;\">\n",
              "    poor mobility\n",
              "    <span style=\"font-size: 0.8em; font-weight: bold; line-height: 1; border-radius: 0.35em; vertical-align: middle; margin-left: 0.5rem\">WEAKNESS TERM</span>\n",
              "</mark>\n",
              " and falls; both these problems are longstanding and indeed he was assessed at the Belsay clinic by my colleague Dr Boyle back in 2019 and had a course of physiotherapy at the time. More recently he has lost confidence, his balance is worse and he has fallen more. He is clear that the \n",
              "<mark class=\"entity\" style=\"background: linear-gradient(90deg, #ffff66, #ff6600); padding: 0.45em 0.6em; margin: 0 0.25em; line-height: 1; border-radius: 0.35em;\">\n",
              "    lack of mobility\n",
              "    <span style=\"font-size: 0.8em; font-weight: bold; line-height: 1; border-radius: 0.35em; vertical-align: middle; margin-left: 0.5rem\">WEAKNESS TERM</span>\n",
              "</mark>\n",
              " is his greatest frustration; he is not \n",
              "<mark class=\"entity\" style=\"background: linear-gradient(0deg, rgba(255,0,0,0), rgba(255,0,0,1)); padding: 0.45em 0.6em; margin: 0 0.25em; line-height: 1; border-radius: 0.35em;\">\n",
              "    housebound\n",
              "    <span style=\"font-size: 0.8em; font-weight: bold; line-height: 1; border-radius: 0.35em; vertical-align: middle; margin-left: 0.5rem\">NEG_ENTITY</span>\n",
              "</mark>\n",
              " unless he can be accompanied out of the house by his niece and even then he gets out only in a wheelchair. He thinks that a combination of things are stopping him being more mobile: he feels that he \n",
              "<mark class=\"entity\" style=\"background: linear-gradient(90deg, #ffff66, #ff6600); padding: 0.45em 0.6em; margin: 0 0.25em; line-height: 1; border-radius: 0.35em;\">\n",
              "    lacks strength\n",
              "    <span style=\"font-size: 0.8em; font-weight: bold; line-height: 1; border-radius: 0.35em; vertical-align: middle; margin-left: 0.5rem\">WEAKNESS TERM</span>\n",
              "</mark>\n",
              ", has a fear of falling and also has pain in the front and back of his legs. This is worse at night and keeps him awake at times. His last fall was two months ago. He notes feeling unsteady on standing but on close questioning this sensation did not appear to be consistent with vertigo. </br>He also complains of pain across her shoulders starting in the right arm and going across the shoulders to the left arm. This has been present for about six months and is not related to exertion. It is no worse in the morning and he does not feel particularly stiff. He also describes stabbing pain over his right eye that then migrates over the top of his head. This does not seem to be related to stressful events. He has lost a considerable amount of weight - 8kg from March to August this year, and another five kg since as his weight in clinic today was 71.5 kg. His appetite is not as good as it usually is but he denies nausea or vomiting; he avoids constipation by taking laxatives. He does not complain of toothache, does not choke on food or drink and says that he eats reasonably well. He has seen a dietitian. He complains of occasional breathlessness and cough at night and brings up a small quantity of phlegm but this is little changed. He has not noticed any blood in his stools. He complains of a rash on his legs, more on the right than the left, and that her legs are often cool. He notes that this rash has been present for at least 10 years and I also note recent vascular duplex studies that suggest good arterial flow in the legs. He has urinary frequency and is often not aware of when he needs to go to the loo; he also complains of a few minutes of crampy lower abdominal pain after micturition. Perhaps unsurprisingly he is somewhat low in mood but still enjoys going out and seeing people. He denies suicidal ideation or early morning waking. He admits that he tends to live in the past more nowadays. He does not complain of any subjective memory problems. </br>On examination, he was alert and engaged well with the consultation. There was no jaundice, anaemia, cyanosis, clubbing or lymphadenopathy. There was a confluent discolouration on both lower legs which was cool to the touch, not raised or tender and was not blanching. Similar changes were seen above the knees but looked more petechial in nature. Heart sounds were normal, JVP was not raised and the chest was clear. Abdominal examination revealed a 2cm liver edge but no ascites or masses. There was an old scar noted on his left upper arm where a basal cell carcinoma has been removed previously. He was mildly tender across the shoulders and in the thoracic paraspinal muscles; tenderness was not confined to the spine. He was able to raise her arms above her head. Neurological examination revealed normal tone, power and coordination. Cranial nerve examination was normal with no nystagmus. He was able to rise unaided from a chair quite quickly but was very reluctant to take a step forward. However he could walk a few paces with support from one person albeit unsteadily. There was no bradykinesia or tremor noted. </br>His SarcScreen revealed a \n",
              "<mark class=\"entity\" style=\"background: linear-gradient(180deg, #66ffcc, #abf763); padding: 0.45em 0.6em; margin: 0 0.25em; line-height: 1; border-radius: 0.35em;\">\n",
              "    SARC-F\n",
              "    <span style=\"font-size: 0.8em; font-weight: bold; line-height: 1; border-radius: 0.35em; vertical-align: middle; margin-left: 0.5rem\">SARC-F</span>\n",
              "</mark>\n",
              " score of 10/10, and Fried frailty score of 2/5 denoting prefrailty. He was unable to attempt the 3m walk but his maximum grip strength was 22 kg. GDS was 10/15 and MMSE was 28/30. An active stand showed a blood pressure of 141/85 with no significant drop although he was unsteady on standing. His 12 lead electrocardiogram showed atrial fibrillation at 80 per minute with nil else of note. </br>There are clearly a complex set of interlocking problems here. He is rather stronger than he thinks he is on although his balance is poor, I think it is a lack of confidence rather than a \n",
              "<mark class=\"entity\" style=\"background: linear-gradient(90deg, #ffff66, #ff6600); padding: 0.45em 0.6em; margin: 0 0.25em; line-height: 1; border-radius: 0.35em;\">\n",
              "    lack of strength\n",
              "    <span style=\"font-size: 0.8em; font-weight: bold; line-height: 1; border-radius: 0.35em; vertical-align: middle; margin-left: 0.5rem\">WEAKNESS TERM</span>\n",
              "</mark>\n",
              " that is preventing him from mobilising more. He accepts this and is happy for us to refer to physiotherapy for strength and balance training which I think will help build his confidence. His mood is low but not sufficiently low to denote depression and I think if we can improve his mobility, his mood will improve. Some of his chronic back pain is undoubtedly due to the degenerative changes seen on MRI and I understand that surgery is not going to be an option for this. I would be reluctant to change her painkillers much at the moment though given that he is already on antiepileptic medications and so adding in other agents for chronic pain may not help much but might interact with these medications. </br>We discussed the fine balance between benefits and side effects of all of these medications today. What would perhaps be helpful though is to reduce the codeine to 15 mg so that he can try and take this more regularly; he finds that the 30 mg dose makes him feel very unsteady on her feet. Having said all of this, it is clear that the blood tests suggest some issues that require further investigation. His breathlessness on exertion and raised BNP suggest that investigation for LV systolic dysfunction causing heart failure would be beneficial and I note that he has already had an echo requested. His weight loss is quite dramatic and this, together with the admittedly longstanding rash on his legs, anaemia, raised ESR and high platelet counts suggest that there is an inflammatory disorder present. Whether this is autoimmune or due to another aetiology is unclear. I have requested bloods today including repeat U&amp;Es, liver function tests, calcium, myeloma screen, CRP and ESR, autoimmune screen, creatine kinase and iron studies. I have also requested an ultrasound of the abdomen to investigate the liver edge that I could feel; I note that a recent chest x-ray showed normal heart size and clear lung fields. Despite the possible finding of horizontal nystagmus by Community Nursing colleagues I could not find any evidence of this today and I don’t think we need to progress to brain scanning at present. </br>Once we have got the blood and ultrasound results, I will phone Mr Smith again and discuss the best way forward. It may be that if we do not find another cause for his inflammatory condition, a trial of steroids might be warranted as some of the features including the shoulder discomfort could be consistent with polymyalgia rheumatica. I have explained this today but also explained that I think we need to investigate further before diving in with treatment in case this is not the diagnosis. &quot;</br></div></span>"
            ]
          },
          "metadata": {}
        }
      ],
      "source": [
        "#Visualise entities in Letter nA - weakness related phrases are recongized\n",
        "#function to modify options for displacy NER visualization\n",
        "def get_entity_options():\n",
        "    entities = [\"WEAKNESS TERM\", \"SARCOPENIA\", \"SARC-F\",\"NEG_ENTITY\"]\n",
        "    colors = {\"WEAKNESS TERM\": 'linear-gradient(90deg, #ffff66, #ff6600)', \"MUSCLE BULK LOSS\": 'linear-gradient(90deg, #e28ac8, #c889dd)', \"SARCOPENIA\": 'linear-gradient(90deg, #aa9cfc, #fc9ce7)',\n",
        "            \"SARC-F\": 'linear-gradient(180deg, #66ffcc, #abf763)', \"NEG_ENTITY\":'linear-gradient(0deg, rgba(255,0,0,0), rgba(255,0,0,1))'}\n",
        "    options = {\"ents\": entities, \"colors\": colors}    \n",
        "    return options\n",
        "options = get_entity_options()\n",
        "\n",
        "displacy.render(doc_nAA, style='ent', options=options, jupyter = True)"
      ]
    },
    {
      "cell_type": "code",
      "execution_count": 151,
      "metadata": {
        "colab": {
          "base_uri": "https://localhost:8080/"
        },
        "id": "o62vGjjfXdTT",
        "outputId": "9695a5d1-c285-4eb8-dc16-4337f8f68fcd"
      },
      "outputs": [
        {
          "output_type": "stream",
          "name": "stdout",
          "text": [
            "Poor mobility WEAKNESS TERM\n",
            "sarcopenia NEG_ENTITY\n",
            "poor mobility WEAKNESS TERM\n",
            "low muscle bulk MUSCLE BULK LOSS\n",
            "poor mobility WEAKNESS TERM\n",
            "lack of mobility WEAKNESS TERM\n",
            "housebound NEG_ENTITY\n",
            "lacks strength WEAKNESS TERM\n",
            "SARC-F SARC-F\n",
            "lack of strength WEAKNESS TERM\n"
          ]
        }
      ],
      "source": [
        "#Create list of entities in doc_nA\n",
        "ent_nA_list = []\n",
        "\n",
        "for ent in doc_nA.ents:\n",
        "  print(ent.text, ent.label_)"
      ]
    },
    {
      "cell_type": "markdown",
      "source": [
        "# Create dataframe with document features"
      ],
      "metadata": {
        "id": "wLPfrR4vdRUy"
      }
    },
    {
      "cell_type": "code",
      "source": [
        "#Append lists for feature text and labels\n",
        "feature_text = []\n",
        "feature_label = []\n",
        "\n",
        "for ent in doc_nA.ents:\n",
        "  feature_text.append(ent.text)\n",
        "  feature_label.append(ent.label_)\n",
        "\n",
        "#Zip these lists together and use to create a dataframe\n",
        "features_list = list(zip(feature_text, feature_label))\n",
        "\n",
        "document_features = pd.DataFrame(features_list, columns=[\"Feature text\", \"Feature label\"])\n",
        "\n",
        "#View head of dataframe\n",
        "document_features"
      ],
      "metadata": {
        "colab": {
          "base_uri": "https://localhost:8080/",
          "height": 363
        },
        "id": "5s3oAegtn7YH",
        "outputId": "412c17f2-aa58-476a-9a6a-035fca15674a"
      },
      "execution_count": 153,
      "outputs": [
        {
          "output_type": "execute_result",
          "data": {
            "text/plain": [
              "       Feature text     Feature label\n",
              "0     Poor mobility     WEAKNESS TERM\n",
              "1        sarcopenia        NEG_ENTITY\n",
              "2     poor mobility     WEAKNESS TERM\n",
              "3   low muscle bulk  MUSCLE BULK LOSS\n",
              "4     poor mobility     WEAKNESS TERM\n",
              "5  lack of mobility     WEAKNESS TERM\n",
              "6        housebound        NEG_ENTITY\n",
              "7    lacks strength     WEAKNESS TERM\n",
              "8            SARC-F            SARC-F\n",
              "9  lack of strength     WEAKNESS TERM"
            ],
            "text/html": [
              "\n",
              "  <div id=\"df-3358a644-38e3-4a79-ba08-0aa07ffc88d5\">\n",
              "    <div class=\"colab-df-container\">\n",
              "      <div>\n",
              "<style scoped>\n",
              "    .dataframe tbody tr th:only-of-type {\n",
              "        vertical-align: middle;\n",
              "    }\n",
              "\n",
              "    .dataframe tbody tr th {\n",
              "        vertical-align: top;\n",
              "    }\n",
              "\n",
              "    .dataframe thead th {\n",
              "        text-align: right;\n",
              "    }\n",
              "</style>\n",
              "<table border=\"1\" class=\"dataframe\">\n",
              "  <thead>\n",
              "    <tr style=\"text-align: right;\">\n",
              "      <th></th>\n",
              "      <th>Feature text</th>\n",
              "      <th>Feature label</th>\n",
              "    </tr>\n",
              "  </thead>\n",
              "  <tbody>\n",
              "    <tr>\n",
              "      <th>0</th>\n",
              "      <td>Poor mobility</td>\n",
              "      <td>WEAKNESS TERM</td>\n",
              "    </tr>\n",
              "    <tr>\n",
              "      <th>1</th>\n",
              "      <td>sarcopenia</td>\n",
              "      <td>NEG_ENTITY</td>\n",
              "    </tr>\n",
              "    <tr>\n",
              "      <th>2</th>\n",
              "      <td>poor mobility</td>\n",
              "      <td>WEAKNESS TERM</td>\n",
              "    </tr>\n",
              "    <tr>\n",
              "      <th>3</th>\n",
              "      <td>low muscle bulk</td>\n",
              "      <td>MUSCLE BULK LOSS</td>\n",
              "    </tr>\n",
              "    <tr>\n",
              "      <th>4</th>\n",
              "      <td>poor mobility</td>\n",
              "      <td>WEAKNESS TERM</td>\n",
              "    </tr>\n",
              "    <tr>\n",
              "      <th>5</th>\n",
              "      <td>lack of mobility</td>\n",
              "      <td>WEAKNESS TERM</td>\n",
              "    </tr>\n",
              "    <tr>\n",
              "      <th>6</th>\n",
              "      <td>housebound</td>\n",
              "      <td>NEG_ENTITY</td>\n",
              "    </tr>\n",
              "    <tr>\n",
              "      <th>7</th>\n",
              "      <td>lacks strength</td>\n",
              "      <td>WEAKNESS TERM</td>\n",
              "    </tr>\n",
              "    <tr>\n",
              "      <th>8</th>\n",
              "      <td>SARC-F</td>\n",
              "      <td>SARC-F</td>\n",
              "    </tr>\n",
              "    <tr>\n",
              "      <th>9</th>\n",
              "      <td>lack of strength</td>\n",
              "      <td>WEAKNESS TERM</td>\n",
              "    </tr>\n",
              "  </tbody>\n",
              "</table>\n",
              "</div>\n",
              "      <button class=\"colab-df-convert\" onclick=\"convertToInteractive('df-3358a644-38e3-4a79-ba08-0aa07ffc88d5')\"\n",
              "              title=\"Convert this dataframe to an interactive table.\"\n",
              "              style=\"display:none;\">\n",
              "        \n",
              "  <svg xmlns=\"http://www.w3.org/2000/svg\" height=\"24px\"viewBox=\"0 0 24 24\"\n",
              "       width=\"24px\">\n",
              "    <path d=\"M0 0h24v24H0V0z\" fill=\"none\"/>\n",
              "    <path d=\"M18.56 5.44l.94 2.06.94-2.06 2.06-.94-2.06-.94-.94-2.06-.94 2.06-2.06.94zm-11 1L8.5 8.5l.94-2.06 2.06-.94-2.06-.94L8.5 2.5l-.94 2.06-2.06.94zm10 10l.94 2.06.94-2.06 2.06-.94-2.06-.94-.94-2.06-.94 2.06-2.06.94z\"/><path d=\"M17.41 7.96l-1.37-1.37c-.4-.4-.92-.59-1.43-.59-.52 0-1.04.2-1.43.59L10.3 9.45l-7.72 7.72c-.78.78-.78 2.05 0 2.83L4 21.41c.39.39.9.59 1.41.59.51 0 1.02-.2 1.41-.59l7.78-7.78 2.81-2.81c.8-.78.8-2.07 0-2.86zM5.41 20L4 18.59l7.72-7.72 1.47 1.35L5.41 20z\"/>\n",
              "  </svg>\n",
              "      </button>\n",
              "      \n",
              "  <style>\n",
              "    .colab-df-container {\n",
              "      display:flex;\n",
              "      flex-wrap:wrap;\n",
              "      gap: 12px;\n",
              "    }\n",
              "\n",
              "    .colab-df-convert {\n",
              "      background-color: #E8F0FE;\n",
              "      border: none;\n",
              "      border-radius: 50%;\n",
              "      cursor: pointer;\n",
              "      display: none;\n",
              "      fill: #1967D2;\n",
              "      height: 32px;\n",
              "      padding: 0 0 0 0;\n",
              "      width: 32px;\n",
              "    }\n",
              "\n",
              "    .colab-df-convert:hover {\n",
              "      background-color: #E2EBFA;\n",
              "      box-shadow: 0px 1px 2px rgba(60, 64, 67, 0.3), 0px 1px 3px 1px rgba(60, 64, 67, 0.15);\n",
              "      fill: #174EA6;\n",
              "    }\n",
              "\n",
              "    [theme=dark] .colab-df-convert {\n",
              "      background-color: #3B4455;\n",
              "      fill: #D2E3FC;\n",
              "    }\n",
              "\n",
              "    [theme=dark] .colab-df-convert:hover {\n",
              "      background-color: #434B5C;\n",
              "      box-shadow: 0px 1px 3px 1px rgba(0, 0, 0, 0.15);\n",
              "      filter: drop-shadow(0px 1px 2px rgba(0, 0, 0, 0.3));\n",
              "      fill: #FFFFFF;\n",
              "    }\n",
              "  </style>\n",
              "\n",
              "      <script>\n",
              "        const buttonEl =\n",
              "          document.querySelector('#df-3358a644-38e3-4a79-ba08-0aa07ffc88d5 button.colab-df-convert');\n",
              "        buttonEl.style.display =\n",
              "          google.colab.kernel.accessAllowed ? 'block' : 'none';\n",
              "\n",
              "        async function convertToInteractive(key) {\n",
              "          const element = document.querySelector('#df-3358a644-38e3-4a79-ba08-0aa07ffc88d5');\n",
              "          const dataTable =\n",
              "            await google.colab.kernel.invokeFunction('convertToInteractive',\n",
              "                                                     [key], {});\n",
              "          if (!dataTable) return;\n",
              "\n",
              "          const docLinkHtml = 'Like what you see? Visit the ' +\n",
              "            '<a target=\"_blank\" href=https://colab.research.google.com/notebooks/data_table.ipynb>data table notebook</a>'\n",
              "            + ' to learn more about interactive tables.';\n",
              "          element.innerHTML = '';\n",
              "          dataTable['output_type'] = 'display_data';\n",
              "          await google.colab.output.renderOutput(dataTable, element);\n",
              "          const docLink = document.createElement('div');\n",
              "          docLink.innerHTML = docLinkHtml;\n",
              "          element.appendChild(docLink);\n",
              "        }\n",
              "      </script>\n",
              "    </div>\n",
              "  </div>\n",
              "  "
            ]
          },
          "metadata": {},
          "execution_count": 153
        }
      ]
    }
  ],
  "metadata": {
    "colab": {
      "collapsed_sections": [],
      "name": "synthetic_letters17/07/22.ipynb",
      "provenance": [],
      "authorship_tag": "ABX9TyNqZbppcXEVpJ1LdWxBcptH",
      "include_colab_link": true
    },
    "kernelspec": {
      "display_name": "Python 3",
      "name": "python3"
    },
    "language_info": {
      "name": "python"
    }
  },
  "nbformat": 4,
  "nbformat_minor": 0
}